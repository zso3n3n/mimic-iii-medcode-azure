{
 "cells": [
  {
   "cell_type": "markdown",
   "metadata": {},
   "source": [
    "## Heirarchical Coding with Small Language Models  \n",
    "  \n",
    "**Goal of this notebook**  \n",
    "- Mitigate the challenge of having a vast label space by breaking down the potential classes only to specific targets. In some cases, this would reduce the label space from 1000s of codes to fewer than 20.\n",
    "  \n",
    "**Methodology** \n",
    "   \n",
    "The approach is the leverage small language model(s) to traverse a heirarchy tree of ICD-9 codes and ask many small, simple, questions to classify a Note Event from the MIMI-III dataset.\n",
    "\n",
    "For example, the image below is a representation of a small portion of the ICD9 code tree. The branch in the picture below shows a subset of the 'Infectious and Parasitic Disease' Chapter of the ICD9 code tree. For this implementation, ICD-9 Code levels are broken down into Chapters, Blocks, Categories. To expand on this implementation the Tree can be broken down further into Sub-categories, Extension I, and Extension II codes.\n",
    "  \n",
    "The coding algorithm recursively walks the tree, starting at the top level and continuing down any branch(es) directed by the mini model until the final codes are returned. \n",
    "\n",
    "Sample subset (condensed Chapter 0 branch) of the ICD9 code tree: \n",
    "<small>\n",
    "```markdown\n",
    "001-139 Infectious and Parasitic Diseases  \n",
    "├── 001-009 Intestinal infectious diseases  \n",
    "│   ├── 001 Cholera  \n",
    "│   ├── 002 Typhoid and paratyphoid fevers  \n",
    "│   ├── 003 Salmonella  \n",
    "│   ├── 004 Shigellosis  \n",
    "│   ├── 005 Other poisoning (bacterial)  \n",
    "│   ├── 006 Amebiasis  \n",
    "│   ├── 007 Other protozoal intestinal diseases  \n",
    "│   ├── 008 Intestinal infections due to other organisms  \n",
    "│   └── 009 Ill-defined intestinal infections  \n",
    "...  \n",
    "├── 090-099 Rickettsioses and other arthropod-borne diseases  \n",
    "│   ├── ...   \n",
    "│   ├── 087 Relapsing fever  \n",
    "│   └── 088 Other arthropod-borne diseases\n",
    "\n",
    "```\n",
    "</small>  \n",
    "\n",
    "**Further Reading**  \n",
    "  \n",
    "This approach is explored further in this paper: [Automated clinical coding using off-the-shelf large language models](https://arxiv.org/pdf/2310.06552) (Boyle et al.)"
   ]
  },
  {
   "cell_type": "code",
   "execution_count": 1,
   "metadata": {},
   "outputs": [],
   "source": [
    "from src.icd9_tree import ICD9\n",
    "\n",
    "from dotenv import load_dotenv, find_dotenv\n",
    "from textwrap import dedent\n",
    "from openai import AzureOpenAI\n",
    "from nltk import flatten\n",
    "\n",
    "import pandas as pd\n",
    "import ast\n",
    "import functools\n",
    "import logging\n",
    "import os\n",
    "\n",
    "\n",
    "logger = logging.getLogger(__name__)\n",
    "load_dotenv(find_dotenv(), override=True)\n",
    "pd.set_option('display.max_colwidth', None)"
   ]
  },
  {
   "cell_type": "markdown",
   "metadata": {},
   "source": [
    "---\n",
    "#### Build Code Tree Data Structure"
   ]
  },
  {
   "cell_type": "code",
   "execution_count": null,
   "metadata": {},
   "outputs": [],
   "source": [
    "# Initialize Code Tree\n",
    "tree = ICD9('icd9_codes_full.json')\n",
    "\n",
    "# View Chapter codes (ignore E and V codes)\n",
    "for chapter in tree.children:\n",
    "    if chapter.code[0] not in ['E', 'V']:\n",
    "        print(f\"{chapter.code} - {chapter.description}\")"
   ]
  },
  {
   "cell_type": "markdown",
   "metadata": {},
   "source": [
    "---\n",
    "#### Prepare Data"
   ]
  },
  {
   "cell_type": "code",
   "execution_count": null,
   "metadata": {},
   "outputs": [],
   "source": [
    "# df = transform_data(\"data/\") # Only re-run if change in preparation logic\n",
    "df = pd.read_csv(\"data/joined/dataset_single_notes_full.csv.gz\")\n",
    "print(df.shape)\n",
    "display(df.dtypes)"
   ]
  },
  {
   "cell_type": "code",
   "execution_count": null,
   "metadata": {},
   "outputs": [],
   "source": [
    "# Take Final Subset\n",
    "\n",
    "df = df.sample(10, replace=False ,random_state=123)\n",
    "print(df.shape)"
   ]
  },
  {
   "cell_type": "markdown",
   "metadata": {},
   "source": [
    "---\n",
    "#### Define Helper Functions"
   ]
  },
  {
   "cell_type": "code",
   "execution_count": 5,
   "metadata": {},
   "outputs": [],
   "source": [
    "# Make Call to AOAI\n",
    "\n",
    "def call_aoai(sys, prompt):\n",
    "\n",
    "    # Init AOAI client\n",
    "    aoai_client = AzureOpenAI(\n",
    "        azure_endpoint = os.getenv('AZURE_OPENAI_BASE'), \n",
    "        api_key=os.getenv('AZURE_OPENAI_KEY'),\n",
    "        api_version=\"2024-02-01\"\n",
    "    )\n",
    "    \n",
    "    response = aoai_client.chat.completions.create(\n",
    "        model=os.getenv(\"AOAI_MINI_DEPLOYMENT_NAME\"), # model = \"deployment_name\".\n",
    "        messages=[\n",
    "            {\"role\": \"system\", \"content\": dedent(sys)},\n",
    "            {\"role\": \"user\", \"content\": dedent(prompt)}\n",
    "        ],\n",
    "    )\n",
    "\n",
    "    try:\n",
    "        output = ast.literal_eval(response.choices[0].message.content)\n",
    "        return output\n",
    "    except Exception as e:\n",
    "        logger.warning(f\"{e}\")\n",
    "        return []"
   ]
  },
  {
   "cell_type": "code",
   "execution_count": 6,
   "metadata": {},
   "outputs": [],
   "source": [
    "# Helper Functions to Build Prompt Dymanically\n",
    "\n",
    "def get_options(tree, parent_code):\n",
    "    children = tree.find(parent_code).children\n",
    "    options = []\n",
    "    for child in children:\n",
    "        options.append(f\"{child.code}: {child.description}\")\n",
    "    \n",
    "    return '|'.join(options)\n",
    "\n",
    "def build_prompt(note, categories):\n",
    "    sys = \"\"\"\n",
    "    You are a medical expert. Your job is to classify notes of an event into one or more categories. ACCURACY is VERY IMPORTANT to your job.\n",
    "    Choose the best option(s) based on the categories offered. ALWAYS return at least one index. ONLY choose from categories listed. \n",
    "    Respond with a list of quoted string indeces of the categories the note belongs to.\n",
    "    Think through your answer. \n",
    "    \n",
    "    ### EXAMPLE ###\n",
    "    Categories = 001-009: INTESTINAL INFECTIOUS DISEASES |010-018: TUBERCULOSIS |020-027: ZOONOTIC BACTERIAL DISEASES |030-041: OTHER BACTERIAL DISEASES |042: Human immunodeficiency virus [HIV] disease|045-049: POLIOMYELITIS AND OTHER NON-ARTHROPOD-BORNE VIRAL DISEASES AND PRION DISEASES OF CENTRAL NERVOUS SYSTEM |050-059: VIRAL DISEASES ACCOMPANIED BY EXANTHEM |060-066: ARTHROPOD-BORNE VIRAL DISEASES |070-079: OTHER DISEASES DUE TO VIRUSES AND CHLAMYDIAE |080-088: RICKETTSIOSES AND OTHER ARTHROPOD-BORNE DISEASES |090-099: SYPHILIS AND OTHER VENEREAL DISEASES |100-104: OTHER SPIROCHETAL DISEASES |110-118: MYCOSES |120-129: HELMINTHIASES |130-136: OTHER INFECTIOUS AND PARASITIC DISEASES |137-139: LATE EFFECTS OF INFECTIOUS AND PARASITIC DISEASES \n",
    "    Note = Tuberculosis of the bones and joints and HIV\n",
    "    Answer = ['010-018', '042']\n",
    "    ## END EXAMPLE ##\n",
    "    \"\"\"\n",
    "    \n",
    "    \n",
    "    prompt = f\"\"\"\n",
    "    Categories = {categories}\n",
    "    Note = {note}\n",
    "    Answer: \n",
    "    \"\"\"\n",
    "\n",
    "    return sys, prompt"
   ]
  },
  {
   "cell_type": "code",
   "execution_count": 7,
   "metadata": {},
   "outputs": [],
   "source": [
    "# Recursive Walk of tree and call aoai to get codes\n",
    "\n",
    "def get_codes_for_note(tree, note, level, parent_code):\n",
    "    \n",
    "    categories = get_options(tree, parent_code)\n",
    "    sys, prompt = build_prompt(note, categories)\n",
    "\n",
    "    \n",
    "    codes = call_aoai(sys, prompt)\n",
    "    if '0' in codes:\n",
    "        codes.remove('0')\n",
    "    \n",
    "    print(f\"parent: {parent_code} prompt = {prompt}\")\n",
    "    print(f\"CODES: {codes}\")\n",
    "    ready_codes = [item for item in codes if len(item) == level]\n",
    "    incomplete_codes = [item for item in codes if len(item) != level]\n",
    "    print(f\"Ready Codes: {ready_codes} ; Incomplete Codes: {incomplete_codes}\")\n",
    "    print(\"**********\")\n",
    "    \n",
    "    if codes == [] or codes == ['']:\n",
    "        return ['X'*level]\n",
    "    elif incomplete_codes:\n",
    "        return ready_codes + list(map(functools.partial(get_codes_for_note, tree, note, level), incomplete_codes))\n",
    "    else:\n",
    "        return codes"
   ]
  },
  {
   "cell_type": "markdown",
   "metadata": {},
   "source": [
    "---\n",
    "#### Get ICD9 Codes"
   ]
  },
  {
   "cell_type": "code",
   "execution_count": null,
   "metadata": {},
   "outputs": [],
   "source": [
    "### SIMPLE TEST ###\n",
    "\n",
    "res = flatten(get_codes_for_note(tree, \"Tuberculosis of the bones and joints and HIV\", 3, \"ROOT\"))\n",
    "print(list(set(res)))\n",
    "\n",
    "#### END SIMPLE TEST ###"
   ]
  },
  {
   "cell_type": "code",
   "execution_count": null,
   "metadata": {},
   "outputs": [],
   "source": [
    "results = []\n",
    "df['Generated'] = \"\"\n",
    "for index, row in df.iterrows():\n",
    "\n",
    "    # Parse Note\n",
    "    note = ast.literal_eval(row['TEXT'])[0]\n",
    "    # print(f\"Note: {note}\")\n",
    "    # Get Codes\n",
    "    result = list(set(flatten(get_codes_for_note(tree, note, 3, \"ROOT\")))) # Change level here if needed\n",
    "\n",
    "    # Add result to DF\n",
    "    df.at[index, 'Generated'] = str(result)"
   ]
  },
  {
   "cell_type": "code",
   "execution_count": null,
   "metadata": {},
   "outputs": [],
   "source": [
    "# View Results\n",
    "\n",
    "display(df[['ICD9_CODE', 'Generated']].head(10))"
   ]
  },
  {
   "cell_type": "markdown",
   "metadata": {},
   "source": [
    "---\n",
    "#### Score Results"
   ]
  },
  {
   "cell_type": "code",
   "execution_count": 11,
   "metadata": {},
   "outputs": [],
   "source": [
    "# Scoring Functions\n",
    "\n",
    "def recall_score(truth, generated):\n",
    "    actual_list = ast.literal_eval(truth)\n",
    "    generated_list = ast.literal_eval(generated)\n",
    "\n",
    "    similar = len(set(actual_list) & set(generated_list))\n",
    "\n",
    "    return similar / len(actual_list)\n",
    "\n",
    "def precision_score(truth, generated):\n",
    "    actual_list = ast.literal_eval(truth)\n",
    "    generated_list = ast.literal_eval(generated)\n",
    "\n",
    "    if len(generated_list) == 0:\n",
    "        return 0\n",
    "\n",
    "    similar = len(set(actual_list) & set(generated_list))\n",
    "\n",
    "    return similar / len(generated_list)\n",
    "\n",
    "def f1_score(truth, generated):\n",
    "    precision = precision_score(truth, generated)\n",
    "    recall = recall_score(truth, generated)\n",
    "\n",
    "    if precision + recall == 0:\n",
    "        return 0\n",
    "    else:\n",
    "        return 2 * (precision * recall) / (precision + recall)\n",
    "\n",
    "\n",
    "# Note Parsing Functions\n",
    "def format_icd9(x):\n",
    "    new_codes = []\n",
    "    code_list = ast.literal_eval(x)\n",
    "    for code in code_list:\n",
    "        new_codes.append(f\"{code:0>3}\".format(num=\"1\"))\n",
    "\n",
    "    return str(new_codes)"
   ]
  },
  {
   "cell_type": "code",
   "execution_count": null,
   "metadata": {},
   "outputs": [],
   "source": [
    "# Grade final code outputs\n",
    "\n",
    "results = pd.DataFrame()\n",
    "\n",
    "results['ICD9_CODE'] = df['ICD9_CODE'].apply(format_icd9)\n",
    "results['Recall'] = df.apply(lambda x: recall_score(x['ICD9_CODE'], x['Generated']), axis=1)\n",
    "results['Precision'] = df.apply(lambda x: precision_score(x['ICD9_CODE'], x['Generated']), axis=1)\n",
    "results['F1 Score'] = df.apply(lambda x: f1_score(x['ICD9_CODE'], x['Generated']), axis=1)\n",
    "\n",
    "display(results[['Recall', 'Precision', 'F1 Score']].mean(axis=0))"
   ]
  },
  {
   "cell_type": "markdown",
   "metadata": {},
   "source": [
    "---\n",
    "#### Limitations\n",
    "\n",
    "- The gpt-4o-mini model was used for demo purposes to save on cost, however, this model is not great at generalizing 'up' the ICD9 code tree. Predictions at the Chapter (L1) and sub-category (L2) level are poor, which lead to poor final results.\n",
    "    - Check out [the fine tuning modules](./04a_aoai_ft_data_prep.ipynb) in this repo for techniques on how to conquer this problem"
   ]
  },
  {
   "cell_type": "markdown",
   "metadata": {},
   "source": []
  }
 ],
 "metadata": {
  "kernelspec": {
   "display_name": "med_code",
   "language": "python",
   "name": "python3"
  },
  "language_info": {
   "codemirror_mode": {
    "name": "ipython",
    "version": 3
   },
   "file_extension": ".py",
   "mimetype": "text/x-python",
   "name": "python",
   "nbconvert_exporter": "python",
   "pygments_lexer": "ipython3",
   "version": "3.9.19"
  }
 },
 "nbformat": 4,
 "nbformat_minor": 2
}
