{
 "cells": [
  {
   "cell_type": "markdown",
   "metadata": {},
   "source": [
    "## Tree Based Small Language Model Medical Coding Architecture\n",
    "\n",
    "The approach is the leverage small language model(s) to traverse a heirarchy of ICD-9 codes and ask many small questions to classify a Note Event from the MIMI-III dataset.\n",
    "\n",
    "For example, the image below is a representation of a small portion of the ICD9 code tree. The branch in the picture below shows a subset of the 'Infectious and Parasitic Disease' Chapter of the ICD9 code tree. [View a full json representation of the taxonomy here.](./icd9_full.json) For this implementation, ICD-9 Code levels are broken down into Chapters, Blocks, Categories. To expand on this implementation the Tree can be broken down further into Sub-categories, Extension I, and Extension II codes.\n",
    "  \n",
    "The coding algorithm recursively walks the tree, starting at the top level and continuing down any branch(es) directed by the mini model until the final codes is returned.\n",
    "\n",
    "0        Infectious and Parasitic Diseases  \n",
    "├── 00   Intestinal infectious diseases  \n",
    "│   ├── 001 Cholera  \n",
    "│   ├── 002 Typhoid and paratyphoid fevers  \n",
    "│   ├── 003 Salmonella  \n",
    "│   ├── 004 Shigellosis  \n",
    "│   ├── 005 Other poisoning (bacterial)  \n",
    "│   ├── 006 Amebiasis  \n",
    "│   ├── 007 Other protozoal intestinal diseases  \n",
    "│   ├── 008 Intestinal infections due to other organisms  \n",
    "│   └── 009 Ill-defined intestinal infections  \n",
    "├── 01   Tuberculosis  \n",
    "│   ├── 010 Primary tuberculous infection  \n",
    "│   ├── 011 Pulmonary tuberculosis  \n",
    "│   ├── 012 Other respiratory tuberculosis  \n",
    "│   ├── 013 Tuberculosis of meninges and central nervous system  \n",
    "│   ├── 014 Tuberculosis of intestines, peritoneum, and mesenteric glands  \n",
    "│   ├── 015 Tuberculosis of bones and joints  \n",
    "│   ├── 016 Tuberculosis of genitourinary system  \n",
    "│   ├── 017 Tuberculosis of other organs  \n",
    "│   ├── 018 Miliary tuberculosis  \n",
    "│   └── 019 Respiratory tuberculosis unspecified  \n",
    "...  \n",
    "├── 09   Rickettsioses and other arthropod-borne diseases  \n",
    "│   ├── ...   \n",
    "│   ├── 087 Relapsing fever  \n",
    "│   └── 088 Other arthropod-borne diseases   \n",
    "\n",
    "  \n",
    "This approach is explored further in this paper:  \n",
    " [Automated clinical coding using off-the-shelf large language models](https://arxiv.org/pdf/2310.06552) (Boyle et al.)"
   ]
  },
  {
   "cell_type": "code",
   "execution_count": 2,
   "metadata": {},
   "outputs": [
    {
     "name": "stderr",
     "output_type": "stream",
     "text": [
      "/home/zacksoenen/miniconda3/envs/med_code/lib/python3.9/site-packages/medcat/cat.py:18: TqdmExperimentalWarning: Using `tqdm.autonotebook.tqdm` in notebook mode. Use `tqdm.tqdm` instead to force console mode (e.g. in jupyter console)\n",
      "  from tqdm.autonotebook import tqdm, trange\n"
     ]
    },
    {
     "name": "stdout",
     "output_type": "stream",
     "text": [
      "https://medcode-aoai-useast.openai.azure.com/\n"
     ]
    }
   ],
   "source": [
    "from src.tree import TaxonomyParser\n",
    "from zensols.mednlp import ApplicationFactory\n",
    "\n",
    "from nltk import flatten\n",
    "from tqdm import tqdm\n",
    "from dotenv import load_dotenv, find_dotenv\n",
    "from textwrap import dedent\n",
    "from openai import AzureOpenAI\n",
    "from typing import List, Dict, Any\n",
    "\n",
    "import pandas as pd\n",
    "import ast\n",
    "import functools\n",
    "import logging\n",
    "import os\n",
    "\n",
    "\n",
    "doc_parser = ApplicationFactory.get_doc_parser()\n",
    "logger = logging.getLogger(__name__)\n",
    "\n",
    "load_dotenv(find_dotenv(), override=True)\n",
    "print(os.getenv(\"AZURE_OPENAI_BASE\"))\n",
    "\n",
    "pd.set_option('display.max_colwidth', None)"
   ]
  },
  {
   "cell_type": "code",
   "execution_count": 3,
   "metadata": {},
   "outputs": [
    {
     "name": "stdout",
     "output_type": "stream",
     "text": [
      "Node('/root/0/00', description='Intestinal infectious diseases')\n"
     ]
    }
   ],
   "source": [
    "# Initialize Code Tree\n",
    "code_tree = TaxonomyParser()\n",
    "code_tree.read_from_json(\"icd9_tax.json\")\n",
    "\n",
    "print(code_tree.find_by_name(\"00\"))"
   ]
  },
  {
   "cell_type": "code",
   "execution_count": 4,
   "metadata": {},
   "outputs": [
    {
     "name": "stdout",
     "output_type": "stream",
     "text": [
      "0        Infectious and Parasitic Diseases\n",
      "├── 00   Intestinal infectious diseases\n",
      "│   ├── 001 Cholera\n",
      "│   ├── 002 Typhoid and paratyphoid fevers\n",
      "│   ├── 003 Salmonella\n",
      "│   ├── 004 Shigellosis\n",
      "│   ├── 005 Other poisoning (bacterial)\n",
      "│   ├── 006 Amebiasis\n",
      "│   ├── 007 Other protozoal intestinal diseases\n",
      "│   ├── 008 Intestinal infections due to other organisms\n",
      "│   └── 009 Ill-defined intestinal infections\n",
      "├── 01   Tuberculosis\n",
      "│   ├── 010 Primary tuberculous infection\n",
      "│   ├── 011 Pulmonary tuberculosis\n",
      "│   ├── 012 Other respiratory tuberculosis\n",
      "│   ├── 013 Tuberculosis of meninges and central nervous system\n",
      "│   ├── 014 Tuberculosis of intestines, peritoneum, and mesenteric glands\n",
      "│   ├── 015 Tuberculosis of bones and joints\n",
      "│   ├── 016 Tuberculosis of genitourinary system\n",
      "│   ├── 017 Tuberculosis of other organs\n",
      "│   ├── 018 Miliary tuberculosis\n",
      "│   └── 019 Respiratory tuberculosis unspecified\n",
      "├── 02   Zoonotic bacterial diseases\n",
      "│   ├── 020 Plague\n",
      "│   ├── 021 Tularemia\n",
      "│   ├── 022 Anthrax\n",
      "│   ├── 023 Brucellosis\n",
      "│   ├── 024 Glanders\n",
      "│   ├── 025 Melioidosis\n",
      "│   ├── 026 Rat-bite fever\n",
      "│   └── 027 Other zoonotic bacterial diseases\n",
      "├── 03   Other bacterial diseases\n",
      "│   ├── 030 Leprosy\n",
      "│   ├── 031 Diseases due to other mycobacteria\n",
      "│   ├── 032 Diphtheria\n",
      "│   ├── 033 Whooping cough\n",
      "│   ├── 034 Streptococcal sore throat and scarlatina\n",
      "│   ├── 035 Erysipelas\n",
      "│   ├── 036 Meningococcal meningitis\n",
      "│   ├── 037 Tetanus\n",
      "│   ├── 038 Septicemia\n",
      "│   ├── 039 Actinomycotic infections\n",
      "│   ├── 040 Other bacterial diseases\n",
      "│   └── 041 Bacterial infection in conditions classified elsewhere and of unspecified site\n",
      "├── 04   Human immunodeficiency virus (HIV) infection\n",
      "│   ├── 042 Human immunodeficiency virus (HIV) infection with specified conditions\n",
      "│   ├── 043 Human immunodeficiency virus (HIV) infection causing other specified\n",
      "│   └── 044 Other human immunodeficiency virus (HIV) disease\n",
      "├── 05   Poliomyelitis and other non-arthropod-borne viral diseases of central nervous system\n",
      "│   ├── 045 Acute poliomyelitis\n",
      "│   ├── 046 Slow virus infection of central nervous system\n",
      "│   ├── 047 Meningitis due to enterovirus\n",
      "│   ├── 048 Other enterovirus diseases of central nervous system\n",
      "│   └── 049 Other non-arthropod-borne viral diseases of central nervous system\n",
      "├── 06   Viral diseases accompanied by exanthem\n",
      "│   ├── 050 Smallpox\n",
      "│   ├── 051 Cowpox and paravaccinia\n",
      "│   ├── 052 Chickenpox\n",
      "│   ├── 053 Herpes zoster\n",
      "│   ├── 054 Herpes simplex\n",
      "│   ├── 055 Measles\n",
      "│   ├── 056 Rubela\n",
      "│   ├── 057 Other viral exanthemata\n",
      "│   ├── 058 Other human herpesvirus\n",
      "│   └── 059 Other poxvirus infections\n",
      "├── 07   Arthropod-borne viral diseases\n",
      "│   ├── 060 Yellow fever\n",
      "│   ├── 061 Dengue fever\n",
      "│   ├── 062 Mosquito-borne viral encephalitis\n",
      "│   ├── 063 Tick-borne viral encephalitis\n",
      "│   ├── 064 Viral encephalitis transmitted by other and unspecified arthropods\n",
      "│   ├── 065 Arthropod-borne hemorrhagic fever\n",
      "│   └── 066 Other arthropod-borne viral diseases\n",
      "├── 08   Other diseases due to viruses and Chlamydiota\n",
      "│   ├── 070 Viral hepatitis\n",
      "│   ├── 071 Rabies\n",
      "│   ├── 072 Mumps\n",
      "│   ├── 073 Ornithosis\n",
      "│   ├── 074 Specific diseases due to Coxsackie virus\n",
      "│   ├── 075 Mononucleosis\n",
      "│   ├── 076 Trachoma\n",
      "│   ├── 077 Other diseases of conjunctiva due to viruses and Chlamydiota (formerly Chlamydiae)\n",
      "│   ├── 078 Other diseases due to viruses and Chlamydiota (formerly Chlamydiae)\n",
      "│   └── 079 Viral infection in conditions classified elsewhere and of unspecified site\n",
      "└── 09   Rickettsioses and other arthropod-borne diseases\n",
      "    ├── 080 Louse-borne (epidemic) typhus\n",
      "    ├── 081 Other typhus\n",
      "    ├── 082 Tick-borne rickettsioses\n",
      "    ├── 083 Other rickettsioses\n",
      "    ├── 084 Malaria\n",
      "    ├── 085 Leishmaniasis\n",
      "    ├── 086 Trypanosomiasis\n",
      "    ├── 087 Relapsing fever\n",
      "    └── 088 Other arthropod-borne diseases\n"
     ]
    }
   ],
   "source": [
    "# View Tree\n",
    "code_tree.visualize(\"0\")"
   ]
  },
  {
   "cell_type": "markdown",
   "metadata": {},
   "source": [
    "#### Define Helper Functions"
   ]
  },
  {
   "cell_type": "code",
   "execution_count": 5,
   "metadata": {},
   "outputs": [],
   "source": [
    "# Note Parsing Functions\n",
    "\n",
    "def format_icd9(x):\n",
    "    new_codes = []\n",
    "    code_list = ast.literal_eval(x)\n",
    "    for code in code_list:\n",
    "        new_codes.append(f\"{code:0>3}\".format(num=\"1\"))\n",
    "\n",
    "    return str(new_codes)\n",
    "\n",
    "def parse_note(note:str) -> str:\n",
    "    \n",
    "    doc = doc_parser(note)\n",
    "\n",
    "    new_note = set([])\n",
    "    for tok in doc.tokens:\n",
    "        if tok.is_concept and tok.tuis_ in ['T184', 'T047', 'T046', 'T033', 'T037','T191','T005', 'T004', 'T007', 'T008']:\n",
    "            \n",
    "            # print(tok, tok.detected_name_, tok.sub_names, tok.pref_name_, tok.tuis_, tok.tui_descs_)\n",
    "            new_note.add(tok.detected_name_.replace(\"~\",\" \"))\n",
    "            new_note.add(tok.pref_name_.lower())\n",
    "\n",
    "    logger.info(f\"Note Parsing Complete.\")\n",
    "    \n",
    "    return \" \".join(new_note)"
   ]
  },
  {
   "cell_type": "code",
   "execution_count": 6,
   "metadata": {},
   "outputs": [],
   "source": [
    "#Scoring Functions\n",
    "\n",
    "def recall_score(truth, generated):\n",
    "    actual_list = ast.literal_eval(truth)\n",
    "    generated_list = ast.literal_eval(generated)\n",
    "\n",
    "    similar = len(set(actual_list) & set(generated_list))\n",
    "\n",
    "    return similar / len(actual_list)\n",
    "\n",
    "def precision_score(truth, generated):\n",
    "    actual_list = ast.literal_eval(truth)\n",
    "    generated_list = ast.literal_eval(generated)\n",
    "\n",
    "    if len(generated_list) == 0:\n",
    "        return 0\n",
    "\n",
    "    similar = len(set(actual_list) & set(generated_list))\n",
    "\n",
    "    return similar / len(generated_list)\n",
    "\n",
    "def f1_score(truth, generated):\n",
    "    precision = precision_score(truth, generated)\n",
    "    recall = recall_score(truth, generated)\n",
    "\n",
    "    if precision + recall == 0:\n",
    "        return 0\n",
    "    else:\n",
    "        return 2 * (precision * recall) / (precision + recall)"
   ]
  },
  {
   "cell_type": "code",
   "execution_count": 7,
   "metadata": {},
   "outputs": [],
   "source": [
    "# Make Call to AOAI\n",
    "\n",
    "def call_aoai(sys:str, prompt:str) -> List:\n",
    "\n",
    "    aoai_client = AzureOpenAI(\n",
    "        azure_endpoint = os.getenv(\"AZURE_OPENAI_BASE\"), \n",
    "        api_key=os.getenv(\"AZURE_OPENAI_KEY\"),\n",
    "        api_version=\"2024-02-01\"\n",
    "    )\n",
    "    \n",
    "    response = aoai_client.chat.completions.create(\n",
    "        model=os.getenv(\"AZURE_DEPLOYMENT_NAME\"), # model = \"deployment_name\".\n",
    "        messages=[\n",
    "            {\"role\": \"system\", \"content\": dedent(sys)},\n",
    "            {\"role\": \"user\", \"content\": dedent(prompt)}\n",
    "        ],\n",
    "    )\n",
    "\n",
    "    try:\n",
    "        output = ast.literal_eval(response.choices[0].message.content)\n",
    "        return output\n",
    "    except Exception as e:\n",
    "        logger.warning(f\"{e}\")\n",
    "        return []"
   ]
  },
  {
   "cell_type": "code",
   "execution_count": 8,
   "metadata": {},
   "outputs": [],
   "source": [
    "# Build Prompt Dymanically\n",
    "\n",
    "def get_options(tree, parent_code):\n",
    "    children = tree.get_children(parent_code)\n",
    "    options = []\n",
    "    for child in children:\n",
    "        options.append(f\"{child.name}: {child.description}\")\n",
    "    \n",
    "    return '|'.join(options)\n",
    "\n",
    "def build_prompt(tree, parent_code, note, categories):\n",
    "    sys = \"\"\"\n",
    "    You are a medical expert. Your job is to classify notes of an event into one or more categories. ACCURACY is VERY IMPORTANT to your job.\n",
    "    Choose the best option(s) based on the categories offered. ALWAYS return at least one index. ONLY choose from categories listed. \n",
    "    Respond with a list of quoted string indeces of the categories the note belongs to.\n",
    "    Think through your answer. \n",
    "    \n",
    "    ### EXAMPLE ###\n",
    "    Categories = 0: Infectious and Parasitic Diseases | 1: Neoplasms | 2: Endocrine, Nutritional and Metabolic Diseases, and Immunity Disorders\n",
    "    Note = Patient has Tuberculosis and an Immunity Disorder\n",
    "    Answer: ['0','2']\n",
    "    ## END EXAMPLE ##\n",
    "    \"\"\"\n",
    "    \n",
    "    \n",
    "    prompt = f\"\"\"\n",
    "    Categories = {categories}\n",
    "    Note = {note}\n",
    "    Answer:\n",
    "    \"\"\"\n",
    "\n",
    "    return sys, prompt"
   ]
  },
  {
   "cell_type": "code",
   "execution_count": 9,
   "metadata": {},
   "outputs": [],
   "source": [
    "# Recursive Walk of tree and call aoai to get codes\n",
    "\n",
    "def get_codes_for_note(parent_code, tree, note, level=3):\n",
    "    \n",
    "    categories = get_options(tree, parent_code)\n",
    "    sys, prompt = build_prompt(tree, parent_code, note, categories)\n",
    "\n",
    "    codes = call_aoai(sys, prompt)\n",
    "    \n",
    "    logger.info(f\"Parent Code: {parent_code} | Found: {codes}\")\n",
    "    logger.info(f\"Prompt: {prompt}\")\n",
    "\n",
    "    if codes == [] or codes == ['']:\n",
    "        return ['X'*level]\n",
    "    elif all(len(i) == level for i in codes):\n",
    "        return codes\n",
    "    else:\n",
    "        return list(map(functools.partial(get_codes_for_note, tree=tree, note=note, level=level), codes))\n",
    "    "
   ]
  },
  {
   "cell_type": "markdown",
   "metadata": {},
   "source": [
    "## Prepare Data"
   ]
  },
  {
   "cell_type": "code",
   "execution_count": 10,
   "metadata": {},
   "outputs": [
    {
     "name": "stdout",
     "output_type": "stream",
     "text": [
      "(4855, 3)\n"
     ]
    },
    {
     "data": {
      "text/plain": [
       "HADM_ID       int64\n",
       "TEXT         object\n",
       "ICD9_CODE    object\n",
       "dtype: object"
      ]
     },
     "metadata": {},
     "output_type": "display_data"
    }
   ],
   "source": [
    "# df = transform_data(\"data/\") # Only re-run if change in preparation logic\n",
    "df = pd.read_csv(\"data/joined/dataset_single_001_088.csv.gz\")\n",
    "print(df.shape)\n",
    "display(df.dtypes)"
   ]
  },
  {
   "cell_type": "code",
   "execution_count": 11,
   "metadata": {},
   "outputs": [
    {
     "data": {
      "text/html": [
       "<div>\n",
       "<style scoped>\n",
       "    .dataframe tbody tr th:only-of-type {\n",
       "        vertical-align: middle;\n",
       "    }\n",
       "\n",
       "    .dataframe tbody tr th {\n",
       "        vertical-align: top;\n",
       "    }\n",
       "\n",
       "    .dataframe thead th {\n",
       "        text-align: right;\n",
       "    }\n",
       "</style>\n",
       "<table border=\"1\" class=\"dataframe\">\n",
       "  <thead>\n",
       "    <tr style=\"text-align: right;\">\n",
       "      <th></th>\n",
       "      <th>ICD9_CODE</th>\n",
       "      <th>L2_CODES</th>\n",
       "      <th>L1_CODES</th>\n",
       "    </tr>\n",
       "  </thead>\n",
       "  <tbody>\n",
       "    <tr>\n",
       "      <th>0</th>\n",
       "      <td>['041']</td>\n",
       "      <td>['03']</td>\n",
       "      <td>['0']</td>\n",
       "    </tr>\n",
       "    <tr>\n",
       "      <th>1</th>\n",
       "      <td>['038', '070']</td>\n",
       "      <td>['08', '03']</td>\n",
       "      <td>['0']</td>\n",
       "    </tr>\n",
       "    <tr>\n",
       "      <th>2</th>\n",
       "      <td>['041']</td>\n",
       "      <td>['03']</td>\n",
       "      <td>['0']</td>\n",
       "    </tr>\n",
       "    <tr>\n",
       "      <th>3</th>\n",
       "      <td>['038']</td>\n",
       "      <td>['03']</td>\n",
       "      <td>['0']</td>\n",
       "    </tr>\n",
       "    <tr>\n",
       "      <th>4</th>\n",
       "      <td>['038']</td>\n",
       "      <td>['03']</td>\n",
       "      <td>['0']</td>\n",
       "    </tr>\n",
       "  </tbody>\n",
       "</table>\n",
       "</div>"
      ],
      "text/plain": [
       "        ICD9_CODE      L2_CODES L1_CODES\n",
       "0         ['041']        ['03']    ['0']\n",
       "1  ['038', '070']  ['08', '03']    ['0']\n",
       "2         ['041']        ['03']    ['0']\n",
       "3         ['038']        ['03']    ['0']\n",
       "4         ['038']        ['03']    ['0']"
      ]
     },
     "metadata": {},
     "output_type": "display_data"
    }
   ],
   "source": [
    "# Get L1 and L2 codes for grading purposes\n",
    "\n",
    "def get_parent_codes(code_tree, codes):\n",
    "    code_list = ast.literal_eval(codes)\n",
    "    parent_codes = []\n",
    "    for code in code_list:\n",
    "        parent_codes.append(code_tree.find_by_name(code).parent.name)\n",
    "    \n",
    "    parent_codes = list(set(parent_codes))\n",
    "    return str(parent_codes)\n",
    "\n",
    "df['L2_CODES'] = df['ICD9_CODE'].apply(lambda x: get_parent_codes(code_tree, x))\n",
    "df['L1_CODES'] = df['L2_CODES'].apply(lambda x: get_parent_codes(code_tree, x))\n",
    "display(df[['ICD9_CODE', 'L2_CODES', 'L1_CODES']].head(5))"
   ]
  },
  {
   "cell_type": "code",
   "execution_count": 12,
   "metadata": {},
   "outputs": [
    {
     "name": "stdout",
     "output_type": "stream",
     "text": [
      "(10, 5)\n"
     ]
    }
   ],
   "source": [
    "# Take Final Subset\n",
    "\n",
    "df = df[0:10]\n",
    "print(df.shape)"
   ]
  },
  {
   "cell_type": "code",
   "execution_count": 13,
   "metadata": {},
   "outputs": [
    {
     "name": "stderr",
     "output_type": "stream",
     "text": [
      "  0%|          | 0/10 [00:00<?, ?it/s]/home/zacksoenen/miniconda3/envs/med_code/lib/python3.9/site-packages/medcat/meta_cat.py:356: FutureWarning: You are using `torch.load` with `weights_only=False` (the current default value), which uses the default pickle module implicitly. It is possible to construct malicious pickle data which will execute arbitrary code during unpickling (See https://github.com/pytorch/pytorch/blob/main/SECURITY.md#untrusted-models for more details). In a future release, the default value for `weights_only` will be flipped to `True`. This limits the functions that could be executed during unpickling. Arbitrary objects will no longer be allowed to be loaded via this mode unless they are explicitly allowlisted by the user via `torch.serialization.add_safe_globals`. We recommend you start setting `weights_only=True` for any use case where you don't have full control of the loaded file. Please open an issue on GitHub for any issues related to this experimental feature.\n",
      "  meta_cat.model.load_state_dict(torch.load(model_save_path, map_location=device))\n",
      "2024-08-28 13:51:56,692 filtering on tuis: \n",
      "2024-08-28 13:52:13,749 parsing: ['Admission Date Discharge Date Date Birth Sex Service [...]\n",
      " 20%|██        | 2/10 [00:21<01:25, 10.69s/it]2024-08-28 13:52:14,525 parsing: ['Admission Date Discharge Date Date Birth Sex F [...]\n",
      " 30%|███       | 3/10 [00:21<00:44,  6.42s/it]2024-08-28 13:52:15,839 parsing: ['Admission Date Discharge Date Date Birth Sex Service [...]\n",
      " 40%|████      | 4/10 [00:23<00:28,  4.68s/it]2024-08-28 13:52:17,083 parsing: ['Admission Date Discharge Date Date Birth Sex Service [...]\n",
      " 50%|█████     | 5/10 [00:24<00:16,  3.38s/it]2024-08-28 13:52:18,072 parsing: ['Admission Date Discharge Date Date Birth Sex Service [...]\n",
      " 60%|██████    | 6/10 [00:25<00:10,  2.61s/it]2024-08-28 13:52:20,150 parsing: ['Admission Date Discharge Date Date Birth Sex F [...]\n",
      " 70%|███████   | 7/10 [00:28<00:07,  2.55s/it]2024-08-28 13:52:20,842 parsing: ['Sinus rhythm . Probable prior inferior wall [...]\n",
      "2024-08-28 13:52:20,915 parsing: ['CHEST PORTABLE AP Clip Clip Number Radiology Reason [...]\n",
      " 90%|█████████ | 9/10 [00:28<00:01,  1.36s/it]2024-08-28 13:52:23,298 parsing: ['Admission Date Discharge Date Date Birth Sex F [...]\n",
      "100%|██████████| 10/10 [00:31<00:00,  1.96s/it]2024-08-28 13:52:26,368 parsing: ['Admission Date Month/Day/Year Date Date Birth Sex F [...]\n",
      "100%|██████████| 10/10 [00:34<00:00,  3.44s/it]\n"
     ]
    }
   ],
   "source": [
    "# Add Parsed Text field\n",
    "tqdm.pandas()\n",
    "df['PARSED_TEXT'] = df['TEXT'].progress_apply(parse_note)"
   ]
  },
  {
   "cell_type": "code",
   "execution_count": 18,
   "metadata": {},
   "outputs": [
    {
     "name": "stdout",
     "output_type": "stream",
     "text": [
      "(10, 7)\n"
     ]
    },
    {
     "data": {
      "text/html": [
       "<div>\n",
       "<style scoped>\n",
       "    .dataframe tbody tr th:only-of-type {\n",
       "        vertical-align: middle;\n",
       "    }\n",
       "\n",
       "    .dataframe tbody tr th {\n",
       "        vertical-align: top;\n",
       "    }\n",
       "\n",
       "    .dataframe thead th {\n",
       "        text-align: right;\n",
       "    }\n",
       "</style>\n",
       "<table border=\"1\" class=\"dataframe\">\n",
       "  <thead>\n",
       "    <tr style=\"text-align: right;\">\n",
       "      <th></th>\n",
       "      <th>HADM_ID</th>\n",
       "      <th>TEXT</th>\n",
       "      <th>ICD9_CODE</th>\n",
       "      <th>L2_CODES</th>\n",
       "      <th>L1_CODES</th>\n",
       "      <th>PARSED_TEXT</th>\n",
       "      <th>Parsed_Generated</th>\n",
       "    </tr>\n",
       "  </thead>\n",
       "  <tbody>\n",
       "    <tr>\n",
       "      <th>0</th>\n",
       "      <td>100020</td>\n",
       "      <td>['Admission Date Discharge Date Date Birth Sex Service MEDICINE Allergies Percocet / Bactrim Ds / Lisinopril AttendingFirst Name LF Chief Complaint hypotension Major Surgical Invasive Procedure none History Present Illness Mr . Known lastname yo w/ multiple sclerosis seizure disorder presented OSH delusions AMS x days . OSH , noted Na . history hyponatremia Na mid since . seen nephrology . OSH , approx sec generalized tonic clonic seizure , received mg Ativan , transferred ED Hospital . also history seizures especially setting infection hyponatremia . unclear seizures without inciting event . currently weaned Keppra Gabapentin started Tegretol . ER , VS . / % L. given L NS . Given AMS setting infection known chronic UTIs indwelling suprapubic catheter neurogenic bladder , blood urine cultures obtained well CXR . urine culture grew pseudomonas CXR showed possible infiltrate treated vancomycin cefepime . head CT negative . Past Medical History MS since , progressive , quadriplegic , neurogenic bladder suprapubic catheter , restrictive PFTs History Aspiration PNAs Esophageal Ulcer NSAIDs , , small bowel bx negative Recurrent UTIs CHF EF &gt; % moderate LVH HTN Legally Blind Social History married years lives wife home . three children three grandchildren . professor First Name Titles Last Name Titles engineering University/College , retired disability spring semester due MS. Name STitle wheelchair bound . denies tobacco , alcohol , recreational drug use . personal care assistant . Family History Father CAD CVA . Mother Name NI disease . Brother diabetes . Physical Exam General Alert , oriented , acute distress HEENT Sclera anicteric , MMM , oropharynx clear Neck supple , JVP elevated , LAD Lungs Clear auscultation bilaterally , wheezes , rales , ronchi CV Regular rate rhythm , normal + , murmurs , rubs , gallops Abdomen soft , non tender , non distended , bowel sounds present , rebound tenderness guarding , organomegaly Ext Warm , well perfused , + pulses , clubbing , cyanosis edema Pertinent Results PM BLOOD WBC . RBC . Hgb . Hct . MCV MCH . MCHC . RDW . Plt Ct BLOOD WBC . RBC . Hgb . Hct . MCV MCH . MCHC . RDW . Plt Ct BLOOD PT . PTT . INRPT . PM BLOOD Glucose UreaN Creat . Na K . Cl HCO AnGap BLOOD Glucose UreaN Creat . Na K . Cl HCO AnGap PM BLOOD Na PM BLOOD Na BLOOD Glucose UreaN Creat . Na K . Cl HCO AnGap PM BLOOD Glucose UreaN Creat . Na K . Cl HCO AnGap BLOOD Glucose UreaN Creat . Na K . Cl HCO AnGap PM BLOOD Glucose UreaN Creat . Na K . Cl HCO AnGap BLOOD Glucose UreaN Creat . Na K . Cl HCO AnGap PM BLOOD Glucose UreaN Creat . Na K . Cl HCO AnGap BLOOD Glucose UreaN Creat . Na K . Cl HCO AnGap BLOOD Glucose UreaN Creat . Na K . Cl HCO AnGap BLOOD Glucose UreaN Creat . Na K . Cl HCO AnGap BLOOD Glucose UreaN Creat . Na K . Cl HCO AnGap BLOOD Glucose UreaN Creat . Na K . Cl HCO AnGap BLOOD Glucose UreaN Creat . Na K . Cl HCO AnGap BLOOD Glucose UreaN Creat . Na K . Cl HCO AnGap PM BLOOD Osmolal PM BLOOD Osmolal BLOOD ALT AST LDLDH AlkPhos TotBili . BLOOD Calcium . Phos . Mg . U/A nit + , LE + , WBC , RBC , Epi , bact U/A sm bld , prot/gluc WBC , RBC , Epi , bact mod U/A sm LE , WBC , RBC , Epi , bact none U/A prot , ket , lg LE WBC , RBC , Epi , bact U/A prot , mod LE WBC , RBC , Epi , bact none U/A neg leuk CULTURES BCx x neg BCx x neg UCx PSEUDOMONAS AERUGINOSA . &gt; , ORGANISMS/ML UCx pseudomonas UCx yeast Ucx neg Ucx yeast Ucx neg c.diff neg x CXR Patchy opacity left base noted , significance setting low inspiratory volumes uncertain . CTA PE . Scattered patchy ground glass opacities may represent expiratory state air trapping . Renal u/s evidence abscess , hydronephrosis mass abd xray non specific bowel gas pattern , stool throughout colon , free air abd xray Stool air filled loops large small bowel consistent ileus . Liver u/s Hypoechoic right hepatic mass , measuring . cm size CT abd prelim read Arterially enhancing liver lesion fully characterized , may represent adenoma , FNH , less likely HCC . Brief Hospital Course yo male w/ progressive multiple sclerosis admitted AMS seizure GTC OSH responded mg Ativan . negative head CT found Na level . hyponatremic past often caused changes mental status . ED , treated L NS concern hypovolemic hyponatremia . time , urine osm serum osm . also CXR prelim concern pneumonia cause ADH like effect final read neagtive . Neurology consulted AMS seizure felt hyponatremia likely related recent initiation carbamezapine sensory illusions . Carbamezapine known ADH like effect cause hyponatremia . Following discontinuation carbamezapine along fluid restriction , Na increased . several days , pt appeared slightly dehydrated fluid restriction lifted . time discharge , serum Na . . past , seizures instigated underlying infection . However , upon admission afebrile leukocystosis . likely source either pneumonia UTI . suprapubic catheter neurogenic bladder day prior admission , urine sample grew pseudomonas , bacteria past . also several pneumonias past , likely frequent aspirations first CXR concerning lung infiltrate . treated one dose vancomycin cefepime pneumonia . Ultimately , repeat CXR CTA negative pneumonia . . pseudomonal bacteriuria , started ciprofloxacin . urine culture drawn prior abx inititian also grew pseudomonas . afebrile leukocytosis thought may actually colonization opposed infection . However , treated full course cipro complicated UTI . catheter changed cultures remained negative . . admission , pt afebrile hypertensive . However , shortly arriving floor , episode hypotension systolic . time mentating well , complaints , denied chest pain , headache , visual changes . IVFs given , however hypotension initially respond , however came eventually prior getting ICU . labile blood pressure likely secondary patients autonomic dysfunction secondary SPMS . considerations infection possible sepsis , however patient continued afebrile . Blood urine cultures negative . monitored ICU hours stable swings BP asymptomatic consistent autonomic dysfunction . Changed clonidine dosing .mg Hospital .mg TID . Maintained blood pressure medications home doses . . next day , transferred MICU returned floor . Shortly arrival , developed fever . blood urine cultures sent negative . Pneumonia ruled UTI treated medication appropriate per sensitivities . CTA negative PE . However , started meropenem treated days . still slightly febrile meropenem discontinued concern drug fever . defervesced without treatment . . However , mental status continued fluctuate despite afebrile , obvious source infection , eunatremic . occasionally aggressive would say murdered kidnapped . Neurology reconsulted feel symptoms related keppra think subclinical seizures . continued repetitive shaking moves head conscious able speak episodes . Also , despite Keppra , continued sensory illusions , mostly centered around feeling bowel movement actually . . work source infection source AMS , CTA revealed liver lesion . ultrasound multiphase liver CT describe lesion MRI implanted baclofen pump . Mr Known lastname family decided biopsy lesion time ruled completely malignancy , although unlikely . work also KUB concerning ileus continued BMs kept regular diet . . Prior discharge , mental status completely returned baseline alert oriented x longer aggressive towards staff . definite etiology elucidated hypothesized could result progression established disease . Medications Admission BACLOFEN , mcg/mL Kit pump BRIMONIDINE Dosage uncertain CARVEDILOL mg Tablet Hospital CARBAMEZAPINE mg Hospital CLONIDINE . mg Tablet Hospital CLOTRIMAZOLE BETAMETHASONE % . % Cream tid FENTANYL mcg/hour Patch hr FUROSEMIDE mg Tablet qd IPRATROPIUM ALBUTEROL prn LACTULOSE prn MINOCYCLINE mg Tablet Hospital MODAFINIL PROVIGIL Hospital OMEPRAZOLE Hospital OXYBUTYNIN CHLORIDE mg qhs SIMVASTATIN mg qd TRAVOPROST drop L eye day ACETAMINOPHEN prn ASCORBIC ACID Hospital BISACODYL hs CALCIUM mg Tid CRANBERRY mg Capsule Hospital ERGOCALCIFEROL VITAMIN Hospital MINERAL OIL prn OMEGA FATTY ACIDS Hospital PSYLLIUM METAMUCIL prn SENNA . mg Tablet prn Discharge Medications . Carvedilol . mg Tablet Sig Two Tablet PO BID times day . . Fentanyl mcg/hr Patch hr Sig One Patch hr Transdermal QH every hours . . Furosemide mg Tablet Sig One Tablet PO DAILY Daily . . Lactulose gram/ mL Syrup Sig Thirty ML PO QH every hours needed . . Acetaminophen mg Tablet Sig Tablets PO QH every hours needed . . Oxybutynin Chloride mg Tablet Sig Three Tablet PO QHS day bedtime . . Ascorbic Acid mg Tablet Sig One Tablet PO BID times day . . Docusate Sodium mg Capsule Sig One Capsule PO BID times day needed . . Senna . mg Tablet Sig One Tablet PO BID times day needed . . Calcium Carbonate mg Tablet , Chewable Sig One Tablet , Chewable PO TID times day . . Omeprazole mg Capsule , Delayed ReleaseE.C . Sig One Capsule , Delayed ReleaseE.C . PO BID times day . . Simvastatin mg Tablet Sig Four Tablet PO DAILY Daily . . Brimonidine . % Drops Sig One Drop Ophthalmic Hospital times day . . Modafinil mg Tablet Sig . Tablet PO BID times day . . Ciprofloxacin mg Tablet Sig One Tablet PO QH every hours days . . Clonidine . mg Tablet Sig One Tablet PO TID times day . . Bisacodyl mg Tablet , Delayed Release E.C . Sig Two Tablet , Delayed Release E.C . PO DAILY Daily needed . . Levetiracetam mg Tablet Sig Two Tablet PO BID times day . . Combivent mcg/Actuation Aerosol Sig One inh Inhalation twice day needed . . TRAVATAN Z . % Drops Sig One Ophthalmic day Left eye . . Cranberry mg Capsule Sig One Capsule PO twice day . . Omega Fatty Acids Capsule Sig One Capsule PO twice day . . Ergocalciferol Vitamin unit Tablet Sig One Tablet PO twice day . patient allergy listed ACE Inhibitors , therefore discharged ACE Inhibitor . communicated PCP . Discharge Disposition Home Service Facility Hospital Home Health Care Discharge Diagnosis . Multiple Sclerosis . Urinary Tract Infection , complicated . Hyponatremia . Secondary . Chronic Diastolic CHF Discharge Condition Stable vital signs . Discharge Instructions admitted altered mental status found low sodium urinary tract infection . started antibiotics urinary tract infection cipro complete week course . sodium corrected adjusting medications reducing water intake . . found abnormality liver . CT scan results pending final interpretation . provided phone number schedule appointment Hospital clinic . may necessary reimage liver take biopsy lesion seen CT scan . . medications changed . switched tegratol keppra . Please review recent medication list take medications , discard old medications list . . Please return hospital develop fevers , chills , worsening symptoms . Followup Instructions . First Name NamePattern First Name NamePattern Last Name NamePattern , MD PhoneTelephone/Fax Date/Time . . First Name Name Pattern Last Name NamePattern , MD PhoneTelephone/Fax Date/Time . . Hospital CLINIC Hospital Telephone/Fax Completed']</td>\n",
       "      <td>['041']</td>\n",
       "      <td>['03']</td>\n",
       "      <td>['0']</td>\n",
       "      <td>cva communicated uti chf left ventricular hypertrophy leukocytosis congestive heart failure diabetes mellitus, insulin-dependent wheezing chief complaint ground glass opacity hypotension absence of fever urinary tract infection does communicate liver carcinoma afebrile discharge diagnosis chief complaint (finding) hydronephroses wheeze hcc cerebrovascular accident ggo tid hydronephrosis hyponatremia lvh</td>\n",
       "      <td>['00', '01', '04', '05', '08', '09']</td>\n",
       "    </tr>\n",
       "    <tr>\n",
       "      <th>1</th>\n",
       "      <td>100074</td>\n",
       "      <td>['Admission Date Discharge Date Date Birth Sex F Service SURGERY Allergies Ovral / Codeine / Sulfonamides AttendingDoctor First Name Chief Complaint bruising mild abdominal pain Major Surgical Invasive Procedure Exploratory laparotomy , debridement abdominal wall , small large bowel resection , closure Location un bag . Exploratory laparotomy . History Present Illness INDICATIONS SURGERY year old woman noted bruising mild abdominal pain large incisional hernia site . came emergency room developed profound sepsis CT scan showed intraperitoneal air . also found crepitance expanding hematoma bruising incisional hernia . patient taken emergently operating room . Past Medical History s/p MVC , s/p R AKA , ventral hernia repair w/ component seperation , anxiety Social History Mother son patients support system Family History noncontributory Physical Exam gen Intubated , secated CV +ss Pulm coarse BS diffusely Abd large Location un bag place Ext + edema Pertinent Results CT . Large ventral abdominal wall hernia two discrete defects . inferior hernia defect smaller defect contains several loops necrotic appearing bowel evidence pneumatosis possible perforation , suggesting strangulated ventral hernia . Large amount subcutaneous free air within ventral hernia sac inferiorly tracks retroperitoneally mesentery , necrotizing fascitis considered . . Likely aspiration lung bases , worse right side . Pathology Ventral hernial sac B Hernial sac acute inflammation serositis . II Abdominal wall C Skin subcutaneous tissue extensive necrosis abscess formation . III Distal ileum ascending colon , resection E L Extensive hemorrhagic necrosis transmural infarction small large intestine a. Transmural necrosis present proximal ileal resection margin . b . Viable distal colonic resection margin serositis acute inflammation focally extends subserosa muscularis . PM BLOOD WBC . RBC . Hgb . Hct . MCV MCH . MCHC . RDW . Plt Ct BLOOD WBC . RBC . Hgb . Hct . MCV MCH . MCHC . RDW . Plt Ct PM BLOOD WBC . RBC . Hgb . Hct . MCV MCH . MCHC . RDW . Plt Ct PM BLOOD Neuts Bands Lymphs Monos Eos Baso Atyps Metas Myelos BLOOD Neuts Bands Lymphs Monos Eos Baso Atyps Metas Myelos PM BLOOD ALT AST LDLDH AlkPhos Amylase TotBili . BLOOD ALT AST LDLDH AlkPhos Amylase TotBili . BLOOD ALT AST AlkPhos Amylase TotBili . BLOOD ALT AST AlkPhos TotBili . PM BLOOD Lipase BLOOD Lipase BLOOD Lipase PM BLOOD Cortsol . PM BLOOD Cortsol . PM BLOOD Lactate . K . BLOOD Glucose Lactate . Na K . Cl BLOOD Glucose Lactate . Na K . Cl BLOOD Lactate . BLOOD Glucose Lactate . K . Brief Hospital Course patient admitted , underwent aforementioned surgical procedures details , please see operative notes . patient returned SICU intubated sedated care . , family decided make patient CMO two exploratory laparotomies . Neuro patient sedated received paralytics times keep comfortable ventilated . received pain medications IV appropriate . CV patients vital signs routinely monitored , put vasopressin , norepinephrine epinephrine stay maintain appropriate hemodynamics . Pulmonary Vital signs routinely monitored . intubated sedated throughout admission , ventilation settings adjusted based ABG values . Serial chest x rays performed . bronchoscopy performed , aspiration feculant material right bronchus intermedius , blood clot adherent left main bronchus . GI/GU/FEN Post operatively , patient made NPO IVF . unable extubated receive nutrition . , patient made CMO . patients intake output closely monitored , IVF adjusted necessary . patients electrolytes routinely followed hospitalization , repleted necessary . ID patients white blood count fever curves closely watched signs infection . white blood count continued rise throughout admission trends , please see results section . patient septic shock multiorgan failure . vancomycin , fluconazole Zosyn stay , culture data routinely monitored . Endocrine patients blood sugar monitored throughout stay insulin dosing adjusted accordingly , put drip necessary . received cosyntropin cortisol stimulation test . Hematology patients complete blood count examined routinely multiple units transfusions required stay . Prophylaxis patient received subcutaneous heparin stay . patient made CMO , passed away . Medications Admission serax , amitryptiline Discharge Disposition Expired Discharge Diagnosis Perforated viscus , dead bowel , deep tissue infection . Discharge Condition deceased Discharge Instructions none Followup Instructions none Name MD Last Name NamePattern MD , MD Number']</td>\n",
       "      <td>['038', '070']</td>\n",
       "      <td>['08', '03']</td>\n",
       "      <td>['0']</td>\n",
       "      <td>death (finding) necrotizing fasciitis incisional hernia active inflammation discharge diagnosis chief complaint (finding) chief complaint septic shock blood clot passed away abdominal pain acute inflammation</td>\n",
       "      <td>['03']</td>\n",
       "    </tr>\n",
       "  </tbody>\n",
       "</table>\n",
       "</div>"
      ],
      "text/plain": [
       "   HADM_ID  \\\n",
       "0   100020   \n",
       "1   100074   \n",
       "\n",
       "                                                                                                                                                                                                                                                                                                                                                                                                                                                                                                                                                                                                                                                                                                                                                                                                                                                                                                                                                                                                                                                                                                                                                                                                                                                                                                                                                                                                                                                                                                                                                                                                                                                                                                                                                                                                                                                                                                                                                                                                                                                                                                                                                                                                                                                                                                                                                                                                                                                                                                                                                                                                                                                                                                                                                                                                                                                                                                                                                                                                                                                                                                                                                                                                                                                                                                                                                                                                                                                                                                                                                                                                                                                                                                                                                                                                                                                                                                                                                                                                                                                                                                                                                                                                                                                                                                                                                                                                                                                                                                                                                                                                                                                                                                                                                                                                                                                                                                                                                                                                                                                                                                                                                                                                                                                                                                                                                                                                                                                                                                                                                                                                                                                                                                                                                                                                                                                                                                                                                                                                                                                                                                                                                                                                                                                                                                                                                                                                                                                                                                                                                                                                                                                                                                                                                                                                                                                                                                                                                                                                                                                                                                                                                                                                                                                                                                                                                                                                                                                                                                                                                                                                                                                                                                                                                                                                                                                                                                                                                                                                                                                                                                                                                                                                                                                                                                                                                                                                                                                                                                                                                                                                                                                                                                                                                                                                                                                                                                                                                                                                                                                                                                                                                                                                                                                                                                                                                                                                                                                                                                                                                                                                                                                                                                                                                                                                                                                                                                                                                                                                                                                                                                                                                                                                                                                                                                                                                                                                                                                                                                                                                                                                                                                                                                                                                                                                                                                                                                                                                                                                                                                                                                                                                                                                                                                                                                                                    TEXT  \\\n",
       "0  ['Admission Date Discharge Date Date Birth Sex Service MEDICINE Allergies Percocet / Bactrim Ds / Lisinopril AttendingFirst Name LF Chief Complaint hypotension Major Surgical Invasive Procedure none History Present Illness Mr . Known lastname yo w/ multiple sclerosis seizure disorder presented OSH delusions AMS x days . OSH , noted Na . history hyponatremia Na mid since . seen nephrology . OSH , approx sec generalized tonic clonic seizure , received mg Ativan , transferred ED Hospital . also history seizures especially setting infection hyponatremia . unclear seizures without inciting event . currently weaned Keppra Gabapentin started Tegretol . ER , VS . / % L. given L NS . Given AMS setting infection known chronic UTIs indwelling suprapubic catheter neurogenic bladder , blood urine cultures obtained well CXR . urine culture grew pseudomonas CXR showed possible infiltrate treated vancomycin cefepime . head CT negative . Past Medical History MS since , progressive , quadriplegic , neurogenic bladder suprapubic catheter , restrictive PFTs History Aspiration PNAs Esophageal Ulcer NSAIDs , , small bowel bx negative Recurrent UTIs CHF EF > % moderate LVH HTN Legally Blind Social History married years lives wife home . three children three grandchildren . professor First Name Titles Last Name Titles engineering University/College , retired disability spring semester due MS. Name STitle wheelchair bound . denies tobacco , alcohol , recreational drug use . personal care assistant . Family History Father CAD CVA . Mother Name NI disease . Brother diabetes . Physical Exam General Alert , oriented , acute distress HEENT Sclera anicteric , MMM , oropharynx clear Neck supple , JVP elevated , LAD Lungs Clear auscultation bilaterally , wheezes , rales , ronchi CV Regular rate rhythm , normal + , murmurs , rubs , gallops Abdomen soft , non tender , non distended , bowel sounds present , rebound tenderness guarding , organomegaly Ext Warm , well perfused , + pulses , clubbing , cyanosis edema Pertinent Results PM BLOOD WBC . RBC . Hgb . Hct . MCV MCH . MCHC . RDW . Plt Ct BLOOD WBC . RBC . Hgb . Hct . MCV MCH . MCHC . RDW . Plt Ct BLOOD PT . PTT . INRPT . PM BLOOD Glucose UreaN Creat . Na K . Cl HCO AnGap BLOOD Glucose UreaN Creat . Na K . Cl HCO AnGap PM BLOOD Na PM BLOOD Na BLOOD Glucose UreaN Creat . Na K . Cl HCO AnGap PM BLOOD Glucose UreaN Creat . Na K . Cl HCO AnGap BLOOD Glucose UreaN Creat . Na K . Cl HCO AnGap PM BLOOD Glucose UreaN Creat . Na K . Cl HCO AnGap BLOOD Glucose UreaN Creat . Na K . Cl HCO AnGap PM BLOOD Glucose UreaN Creat . Na K . Cl HCO AnGap BLOOD Glucose UreaN Creat . Na K . Cl HCO AnGap BLOOD Glucose UreaN Creat . Na K . Cl HCO AnGap BLOOD Glucose UreaN Creat . Na K . Cl HCO AnGap BLOOD Glucose UreaN Creat . Na K . Cl HCO AnGap BLOOD Glucose UreaN Creat . Na K . Cl HCO AnGap BLOOD Glucose UreaN Creat . Na K . Cl HCO AnGap BLOOD Glucose UreaN Creat . Na K . Cl HCO AnGap PM BLOOD Osmolal PM BLOOD Osmolal BLOOD ALT AST LDLDH AlkPhos TotBili . BLOOD Calcium . Phos . Mg . U/A nit + , LE + , WBC , RBC , Epi , bact U/A sm bld , prot/gluc WBC , RBC , Epi , bact mod U/A sm LE , WBC , RBC , Epi , bact none U/A prot , ket , lg LE WBC , RBC , Epi , bact U/A prot , mod LE WBC , RBC , Epi , bact none U/A neg leuk CULTURES BCx x neg BCx x neg UCx PSEUDOMONAS AERUGINOSA . > , ORGANISMS/ML UCx pseudomonas UCx yeast Ucx neg Ucx yeast Ucx neg c.diff neg x CXR Patchy opacity left base noted , significance setting low inspiratory volumes uncertain . CTA PE . Scattered patchy ground glass opacities may represent expiratory state air trapping . Renal u/s evidence abscess , hydronephrosis mass abd xray non specific bowel gas pattern , stool throughout colon , free air abd xray Stool air filled loops large small bowel consistent ileus . Liver u/s Hypoechoic right hepatic mass , measuring . cm size CT abd prelim read Arterially enhancing liver lesion fully characterized , may represent adenoma , FNH , less likely HCC . Brief Hospital Course yo male w/ progressive multiple sclerosis admitted AMS seizure GTC OSH responded mg Ativan . negative head CT found Na level . hyponatremic past often caused changes mental status . ED , treated L NS concern hypovolemic hyponatremia . time , urine osm serum osm . also CXR prelim concern pneumonia cause ADH like effect final read neagtive . Neurology consulted AMS seizure felt hyponatremia likely related recent initiation carbamezapine sensory illusions . Carbamezapine known ADH like effect cause hyponatremia . Following discontinuation carbamezapine along fluid restriction , Na increased . several days , pt appeared slightly dehydrated fluid restriction lifted . time discharge , serum Na . . past , seizures instigated underlying infection . However , upon admission afebrile leukocystosis . likely source either pneumonia UTI . suprapubic catheter neurogenic bladder day prior admission , urine sample grew pseudomonas , bacteria past . also several pneumonias past , likely frequent aspirations first CXR concerning lung infiltrate . treated one dose vancomycin cefepime pneumonia . Ultimately , repeat CXR CTA negative pneumonia . . pseudomonal bacteriuria , started ciprofloxacin . urine culture drawn prior abx inititian also grew pseudomonas . afebrile leukocytosis thought may actually colonization opposed infection . However , treated full course cipro complicated UTI . catheter changed cultures remained negative . . admission , pt afebrile hypertensive . However , shortly arriving floor , episode hypotension systolic . time mentating well , complaints , denied chest pain , headache , visual changes . IVFs given , however hypotension initially respond , however came eventually prior getting ICU . labile blood pressure likely secondary patients autonomic dysfunction secondary SPMS . considerations infection possible sepsis , however patient continued afebrile . Blood urine cultures negative . monitored ICU hours stable swings BP asymptomatic consistent autonomic dysfunction . Changed clonidine dosing .mg Hospital .mg TID . Maintained blood pressure medications home doses . . next day , transferred MICU returned floor . Shortly arrival , developed fever . blood urine cultures sent negative . Pneumonia ruled UTI treated medication appropriate per sensitivities . CTA negative PE . However , started meropenem treated days . still slightly febrile meropenem discontinued concern drug fever . defervesced without treatment . . However , mental status continued fluctuate despite afebrile , obvious source infection , eunatremic . occasionally aggressive would say murdered kidnapped . Neurology reconsulted feel symptoms related keppra think subclinical seizures . continued repetitive shaking moves head conscious able speak episodes . Also , despite Keppra , continued sensory illusions , mostly centered around feeling bowel movement actually . . work source infection source AMS , CTA revealed liver lesion . ultrasound multiphase liver CT describe lesion MRI implanted baclofen pump . Mr Known lastname family decided biopsy lesion time ruled completely malignancy , although unlikely . work also KUB concerning ileus continued BMs kept regular diet . . Prior discharge , mental status completely returned baseline alert oriented x longer aggressive towards staff . definite etiology elucidated hypothesized could result progression established disease . Medications Admission BACLOFEN , mcg/mL Kit pump BRIMONIDINE Dosage uncertain CARVEDILOL mg Tablet Hospital CARBAMEZAPINE mg Hospital CLONIDINE . mg Tablet Hospital CLOTRIMAZOLE BETAMETHASONE % . % Cream tid FENTANYL mcg/hour Patch hr FUROSEMIDE mg Tablet qd IPRATROPIUM ALBUTEROL prn LACTULOSE prn MINOCYCLINE mg Tablet Hospital MODAFINIL PROVIGIL Hospital OMEPRAZOLE Hospital OXYBUTYNIN CHLORIDE mg qhs SIMVASTATIN mg qd TRAVOPROST drop L eye day ACETAMINOPHEN prn ASCORBIC ACID Hospital BISACODYL hs CALCIUM mg Tid CRANBERRY mg Capsule Hospital ERGOCALCIFEROL VITAMIN Hospital MINERAL OIL prn OMEGA FATTY ACIDS Hospital PSYLLIUM METAMUCIL prn SENNA . mg Tablet prn Discharge Medications . Carvedilol . mg Tablet Sig Two Tablet PO BID times day . . Fentanyl mcg/hr Patch hr Sig One Patch hr Transdermal QH every hours . . Furosemide mg Tablet Sig One Tablet PO DAILY Daily . . Lactulose gram/ mL Syrup Sig Thirty ML PO QH every hours needed . . Acetaminophen mg Tablet Sig Tablets PO QH every hours needed . . Oxybutynin Chloride mg Tablet Sig Three Tablet PO QHS day bedtime . . Ascorbic Acid mg Tablet Sig One Tablet PO BID times day . . Docusate Sodium mg Capsule Sig One Capsule PO BID times day needed . . Senna . mg Tablet Sig One Tablet PO BID times day needed . . Calcium Carbonate mg Tablet , Chewable Sig One Tablet , Chewable PO TID times day . . Omeprazole mg Capsule , Delayed ReleaseE.C . Sig One Capsule , Delayed ReleaseE.C . PO BID times day . . Simvastatin mg Tablet Sig Four Tablet PO DAILY Daily . . Brimonidine . % Drops Sig One Drop Ophthalmic Hospital times day . . Modafinil mg Tablet Sig . Tablet PO BID times day . . Ciprofloxacin mg Tablet Sig One Tablet PO QH every hours days . . Clonidine . mg Tablet Sig One Tablet PO TID times day . . Bisacodyl mg Tablet , Delayed Release E.C . Sig Two Tablet , Delayed Release E.C . PO DAILY Daily needed . . Levetiracetam mg Tablet Sig Two Tablet PO BID times day . . Combivent mcg/Actuation Aerosol Sig One inh Inhalation twice day needed . . TRAVATAN Z . % Drops Sig One Ophthalmic day Left eye . . Cranberry mg Capsule Sig One Capsule PO twice day . . Omega Fatty Acids Capsule Sig One Capsule PO twice day . . Ergocalciferol Vitamin unit Tablet Sig One Tablet PO twice day . patient allergy listed ACE Inhibitors , therefore discharged ACE Inhibitor . communicated PCP . Discharge Disposition Home Service Facility Hospital Home Health Care Discharge Diagnosis . Multiple Sclerosis . Urinary Tract Infection , complicated . Hyponatremia . Secondary . Chronic Diastolic CHF Discharge Condition Stable vital signs . Discharge Instructions admitted altered mental status found low sodium urinary tract infection . started antibiotics urinary tract infection cipro complete week course . sodium corrected adjusting medications reducing water intake . . found abnormality liver . CT scan results pending final interpretation . provided phone number schedule appointment Hospital clinic . may necessary reimage liver take biopsy lesion seen CT scan . . medications changed . switched tegratol keppra . Please review recent medication list take medications , discard old medications list . . Please return hospital develop fevers , chills , worsening symptoms . Followup Instructions . First Name NamePattern First Name NamePattern Last Name NamePattern , MD PhoneTelephone/Fax Date/Time . . First Name Name Pattern Last Name NamePattern , MD PhoneTelephone/Fax Date/Time . . Hospital CLINIC Hospital Telephone/Fax Completed']   \n",
       "1                                                                                                                                                                                                                                                                                                                                                                                                                                                                                                                                                                                                                                                                                                                                                                                                                                                                                                                                                                                                                                                                                                                                                                                                                                                                                                                                                                                                                                                                                                                                                                                                                                                                                                                                                                                                                                                                                                                                                                                                                                                                                                                                                                                                                                                                                                                                                                                                                                                                                                                                                                                                                                                                                                                                                                                                                                                                                                                                                                                                                                                                                                                                                                                                                                                                                                                                                                                                                                                                                                                                                                                                                                                                                                                                                                                                                                                                                                                                                                                                                                                                                                                                                                                                                                                                                                                                                                                                                                                                                                                                                                                                                                                                                                                                                                                                                                                                                                                                                                                                                                                                                                                                                                                                                                                                                                                                                                                                                                                                                                                                                                                                                                                                                                                                                                                                                                                                                                                                                                                                                                                                                                                                                                                                                                                                                                                                                                                                                                                                                                                                                                                                                                ['Admission Date Discharge Date Date Birth Sex F Service SURGERY Allergies Ovral / Codeine / Sulfonamides AttendingDoctor First Name Chief Complaint bruising mild abdominal pain Major Surgical Invasive Procedure Exploratory laparotomy , debridement abdominal wall , small large bowel resection , closure Location un bag . Exploratory laparotomy . History Present Illness INDICATIONS SURGERY year old woman noted bruising mild abdominal pain large incisional hernia site . came emergency room developed profound sepsis CT scan showed intraperitoneal air . also found crepitance expanding hematoma bruising incisional hernia . patient taken emergently operating room . Past Medical History s/p MVC , s/p R AKA , ventral hernia repair w/ component seperation , anxiety Social History Mother son patients support system Family History noncontributory Physical Exam gen Intubated , secated CV +ss Pulm coarse BS diffusely Abd large Location un bag place Ext + edema Pertinent Results CT . Large ventral abdominal wall hernia two discrete defects . inferior hernia defect smaller defect contains several loops necrotic appearing bowel evidence pneumatosis possible perforation , suggesting strangulated ventral hernia . Large amount subcutaneous free air within ventral hernia sac inferiorly tracks retroperitoneally mesentery , necrotizing fascitis considered . . Likely aspiration lung bases , worse right side . Pathology Ventral hernial sac B Hernial sac acute inflammation serositis . II Abdominal wall C Skin subcutaneous tissue extensive necrosis abscess formation . III Distal ileum ascending colon , resection E L Extensive hemorrhagic necrosis transmural infarction small large intestine a. Transmural necrosis present proximal ileal resection margin . b . Viable distal colonic resection margin serositis acute inflammation focally extends subserosa muscularis . PM BLOOD WBC . RBC . Hgb . Hct . MCV MCH . MCHC . RDW . Plt Ct BLOOD WBC . RBC . Hgb . Hct . MCV MCH . MCHC . RDW . Plt Ct PM BLOOD WBC . RBC . Hgb . Hct . MCV MCH . MCHC . RDW . Plt Ct PM BLOOD Neuts Bands Lymphs Monos Eos Baso Atyps Metas Myelos BLOOD Neuts Bands Lymphs Monos Eos Baso Atyps Metas Myelos PM BLOOD ALT AST LDLDH AlkPhos Amylase TotBili . BLOOD ALT AST LDLDH AlkPhos Amylase TotBili . BLOOD ALT AST AlkPhos Amylase TotBili . BLOOD ALT AST AlkPhos TotBili . PM BLOOD Lipase BLOOD Lipase BLOOD Lipase PM BLOOD Cortsol . PM BLOOD Cortsol . PM BLOOD Lactate . K . BLOOD Glucose Lactate . Na K . Cl BLOOD Glucose Lactate . Na K . Cl BLOOD Lactate . BLOOD Glucose Lactate . K . Brief Hospital Course patient admitted , underwent aforementioned surgical procedures details , please see operative notes . patient returned SICU intubated sedated care . , family decided make patient CMO two exploratory laparotomies . Neuro patient sedated received paralytics times keep comfortable ventilated . received pain medications IV appropriate . CV patients vital signs routinely monitored , put vasopressin , norepinephrine epinephrine stay maintain appropriate hemodynamics . Pulmonary Vital signs routinely monitored . intubated sedated throughout admission , ventilation settings adjusted based ABG values . Serial chest x rays performed . bronchoscopy performed , aspiration feculant material right bronchus intermedius , blood clot adherent left main bronchus . GI/GU/FEN Post operatively , patient made NPO IVF . unable extubated receive nutrition . , patient made CMO . patients intake output closely monitored , IVF adjusted necessary . patients electrolytes routinely followed hospitalization , repleted necessary . ID patients white blood count fever curves closely watched signs infection . white blood count continued rise throughout admission trends , please see results section . patient septic shock multiorgan failure . vancomycin , fluconazole Zosyn stay , culture data routinely monitored . Endocrine patients blood sugar monitored throughout stay insulin dosing adjusted accordingly , put drip necessary . received cosyntropin cortisol stimulation test . Hematology patients complete blood count examined routinely multiple units transfusions required stay . Prophylaxis patient received subcutaneous heparin stay . patient made CMO , passed away . Medications Admission serax , amitryptiline Discharge Disposition Expired Discharge Diagnosis Perforated viscus , dead bowel , deep tissue infection . Discharge Condition deceased Discharge Instructions none Followup Instructions none Name MD Last Name NamePattern MD , MD Number']   \n",
       "\n",
       "        ICD9_CODE      L2_CODES L1_CODES  \\\n",
       "0         ['041']        ['03']    ['0']   \n",
       "1  ['038', '070']  ['08', '03']    ['0']   \n",
       "\n",
       "                                                                                                                                                                                                                                                                                                                                                                                                              PARSED_TEXT  \\\n",
       "0  cva communicated uti chf left ventricular hypertrophy leukocytosis congestive heart failure diabetes mellitus, insulin-dependent wheezing chief complaint ground glass opacity hypotension absence of fever urinary tract infection does communicate liver carcinoma afebrile discharge diagnosis chief complaint (finding) hydronephroses wheeze hcc cerebrovascular accident ggo tid hydronephrosis hyponatremia lvh   \n",
       "1                                                                                                                                                                                                         death (finding) necrotizing fasciitis incisional hernia active inflammation discharge diagnosis chief complaint (finding) chief complaint septic shock blood clot passed away abdominal pain acute inflammation   \n",
       "\n",
       "                       Parsed_Generated  \n",
       "0  ['00', '01', '04', '05', '08', '09']  \n",
       "1                                ['03']  "
      ]
     },
     "metadata": {},
     "output_type": "display_data"
    },
    {
     "ename": "",
     "evalue": "",
     "output_type": "error",
     "traceback": [
      "\u001b[1;31mThe Kernel crashed while executing code in the current cell or a previous cell. \n",
      "\u001b[1;31mPlease review the code in the cell(s) to identify a possible cause of the failure. \n",
      "\u001b[1;31mClick <a href='https://aka.ms/vscodeJupyterKernelCrash'>here</a> for more info. \n",
      "\u001b[1;31mView Jupyter <a href='command:jupyter.viewOutput'>log</a> for further details."
     ]
    }
   ],
   "source": [
    "print(df.shape)\n",
    "display(df.head(2))"
   ]
  },
  {
   "cell_type": "markdown",
   "metadata": {},
   "source": [
    "## Get ICD9 Codes"
   ]
  },
  {
   "cell_type": "markdown",
   "metadata": {},
   "source": [
    "### Part 1 - Get Codes from Gpt-4o mini"
   ]
  },
  {
   "cell_type": "code",
   "execution_count": 12,
   "metadata": {},
   "outputs": [
    {
     "data": {
      "text/plain": [
       "'\\nres = flatten(get_codes_for_note(\"root\", code_tree, \"Tuberculosis of the bones and joints and HIV\"))\\nprint(res)\\n'"
      ]
     },
     "execution_count": 12,
     "metadata": {},
     "output_type": "execute_result"
    }
   ],
   "source": [
    "### SIMPLE TEST ###\n",
    "\"\"\"\n",
    "res = flatten(get_codes_for_note(\"root\", code_tree, \"Tuberculosis of the bones and joints and HIV\"))\n",
    "print(res)\n",
    "\"\"\"\n",
    "#### END SIMPLE TEST ###"
   ]
  },
  {
   "cell_type": "code",
   "execution_count": 1,
   "metadata": {},
   "outputs": [
    {
     "ename": "NameError",
     "evalue": "name 'df' is not defined",
     "output_type": "error",
     "traceback": [
      "\u001b[0;31m---------------------------------------------------------------------------\u001b[0m",
      "\u001b[0;31mNameError\u001b[0m                                 Traceback (most recent call last)",
      "Cell \u001b[0;32mIn[1], line 2\u001b[0m\n\u001b[1;32m      1\u001b[0m results \u001b[38;5;241m=\u001b[39m []\n\u001b[0;32m----> 2\u001b[0m \u001b[43mdf\u001b[49m[\u001b[38;5;124m'\u001b[39m\u001b[38;5;124mGenerated\u001b[39m\u001b[38;5;124m'\u001b[39m] \u001b[38;5;241m=\u001b[39m \u001b[38;5;124m\"\u001b[39m\u001b[38;5;124m\"\u001b[39m\n\u001b[1;32m      3\u001b[0m \u001b[38;5;28;01mfor\u001b[39;00m index, row \u001b[38;5;129;01min\u001b[39;00m df\u001b[38;5;241m.\u001b[39miterrows():\n\u001b[1;32m      4\u001b[0m \n\u001b[1;32m      5\u001b[0m     \u001b[38;5;66;03m# Parse Note\u001b[39;00m\n\u001b[1;32m      6\u001b[0m     note \u001b[38;5;241m=\u001b[39m ast\u001b[38;5;241m.\u001b[39mliteral_eval(row[\u001b[38;5;124m'\u001b[39m\u001b[38;5;124mTEXT\u001b[39m\u001b[38;5;124m'\u001b[39m])[\u001b[38;5;241m0\u001b[39m]\n",
      "\u001b[0;31mNameError\u001b[0m: name 'df' is not defined"
     ]
    }
   ],
   "source": [
    "results = []\n",
    "df['Generated'] = \"\"\n",
    "for index, row in df.iterrows():\n",
    "\n",
    "    # Parse Note\n",
    "    note = ast.literal_eval(row['TEXT'])[0]\n",
    "    print(f\"Note: {note}\")\n",
    "    # Get Codes\n",
    "    result = flatten(get_codes_for_note(\"0\", code_tree, note, level=2)) # Change level here if needed\n",
    "\n",
    "    # Add result to DF\n",
    "    df.at[index, 'Generated'] = str(result)"
   ]
  },
  {
   "cell_type": "code",
   "execution_count": 14,
   "metadata": {},
   "outputs": [
    {
     "data": {
      "text/html": [
       "<div>\n",
       "<style scoped>\n",
       "    .dataframe tbody tr th:only-of-type {\n",
       "        vertical-align: middle;\n",
       "    }\n",
       "\n",
       "    .dataframe tbody tr th {\n",
       "        vertical-align: top;\n",
       "    }\n",
       "\n",
       "    .dataframe thead th {\n",
       "        text-align: right;\n",
       "    }\n",
       "</style>\n",
       "<table border=\"1\" class=\"dataframe\">\n",
       "  <thead>\n",
       "    <tr style=\"text-align: right;\">\n",
       "      <th></th>\n",
       "      <th>ICD9_CODE</th>\n",
       "      <th>L1_CODES</th>\n",
       "      <th>L2_CODES</th>\n",
       "      <th>Generated</th>\n",
       "    </tr>\n",
       "  </thead>\n",
       "  <tbody>\n",
       "    <tr>\n",
       "      <th>0</th>\n",
       "      <td>['041']</td>\n",
       "      <td>['0']</td>\n",
       "      <td>['03']</td>\n",
       "      <td>['01', '03']</td>\n",
       "    </tr>\n",
       "    <tr>\n",
       "      <th>1</th>\n",
       "      <td>['038', '070']</td>\n",
       "      <td>['0']</td>\n",
       "      <td>['03', '08']</td>\n",
       "      <td>['00', '01', '03']</td>\n",
       "    </tr>\n",
       "    <tr>\n",
       "      <th>2</th>\n",
       "      <td>['041']</td>\n",
       "      <td>['0']</td>\n",
       "      <td>['03']</td>\n",
       "      <td>['01', '03', '04', '08', '05']</td>\n",
       "    </tr>\n",
       "    <tr>\n",
       "      <th>3</th>\n",
       "      <td>['038']</td>\n",
       "      <td>['0']</td>\n",
       "      <td>['03']</td>\n",
       "      <td>['00', '01', '03']</td>\n",
       "    </tr>\n",
       "    <tr>\n",
       "      <th>4</th>\n",
       "      <td>['038']</td>\n",
       "      <td>['0']</td>\n",
       "      <td>['03']</td>\n",
       "      <td>['01', '03', '04', '05', '09']</td>\n",
       "    </tr>\n",
       "    <tr>\n",
       "      <th>5</th>\n",
       "      <td>['053']</td>\n",
       "      <td>['0']</td>\n",
       "      <td>['06']</td>\n",
       "      <td>['01', '00', '03', '04']</td>\n",
       "    </tr>\n",
       "    <tr>\n",
       "      <th>6</th>\n",
       "      <td>['038']</td>\n",
       "      <td>['0']</td>\n",
       "      <td>['03']</td>\n",
       "      <td>['01']</td>\n",
       "    </tr>\n",
       "    <tr>\n",
       "      <th>7</th>\n",
       "      <td>['038', '047']</td>\n",
       "      <td>['0']</td>\n",
       "      <td>['05', '03']</td>\n",
       "      <td>['01', '03']</td>\n",
       "    </tr>\n",
       "    <tr>\n",
       "      <th>8</th>\n",
       "      <td>['041', '038']</td>\n",
       "      <td>['0']</td>\n",
       "      <td>['03']</td>\n",
       "      <td>['01', '03', '04', '05', '08']</td>\n",
       "    </tr>\n",
       "    <tr>\n",
       "      <th>9</th>\n",
       "      <td>['038']</td>\n",
       "      <td>['0']</td>\n",
       "      <td>['03']</td>\n",
       "      <td>['01', '03', '04', '09']</td>\n",
       "    </tr>\n",
       "  </tbody>\n",
       "</table>\n",
       "</div>"
      ],
      "text/plain": [
       "        ICD9_CODE L1_CODES      L2_CODES                       Generated\n",
       "0         ['041']    ['0']        ['03']                    ['01', '03']\n",
       "1  ['038', '070']    ['0']  ['03', '08']              ['00', '01', '03']\n",
       "2         ['041']    ['0']        ['03']  ['01', '03', '04', '08', '05']\n",
       "3         ['038']    ['0']        ['03']              ['00', '01', '03']\n",
       "4         ['038']    ['0']        ['03']  ['01', '03', '04', '05', '09']\n",
       "5         ['053']    ['0']        ['06']        ['01', '00', '03', '04']\n",
       "6         ['038']    ['0']        ['03']                          ['01']\n",
       "7  ['038', '047']    ['0']  ['05', '03']                    ['01', '03']\n",
       "8  ['041', '038']    ['0']        ['03']  ['01', '03', '04', '05', '08']\n",
       "9         ['038']    ['0']        ['03']        ['01', '03', '04', '09']"
      ]
     },
     "metadata": {},
     "output_type": "display_data"
    }
   ],
   "source": [
    "# View Results\n",
    "\n",
    "display(df[['ICD9_CODE','L1_CODES','L2_CODES', 'Generated']].head(10))"
   ]
  },
  {
   "cell_type": "markdown",
   "metadata": {},
   "source": [
    "## Score Results"
   ]
  },
  {
   "cell_type": "markdown",
   "metadata": {},
   "source": [
    "#### Grade L2 Output"
   ]
  },
  {
   "cell_type": "code",
   "execution_count": 15,
   "metadata": {},
   "outputs": [
    {
     "data": {
      "text/plain": [
       "Recall       70.000000\n",
       "Precision    25.166667\n",
       "F1 Score     34.666667\n",
       "dtype: float64"
      ]
     },
     "metadata": {},
     "output_type": "display_data"
    }
   ],
   "source": [
    "results = pd.DataFrame()\n",
    "\n",
    "\n",
    "results['ICD9_CODE'] = df['ICD9_CODE'].apply(format_icd9)\n",
    "results['Recall'] = df.apply(lambda x: recall_score(x['L2_CODES'], x['Generated']), axis=1)\n",
    "results['Precision'] = df.apply(lambda x: precision_score(x['L2_CODES'], x['Generated']), axis=1)\n",
    "results['F1 Score'] = df.apply(lambda x: f1_score(x['L2_CODES'], x['Generated']), axis=1)\n",
    "display(results[['Recall', 'Precision', 'F1 Score']].mean(axis=0)*100)"
   ]
  },
  {
   "cell_type": "markdown",
   "metadata": {},
   "source": [
    "#### Grade Final  ICD 9 Code Output"
   ]
  },
  {
   "cell_type": "code",
   "execution_count": 24,
   "metadata": {},
   "outputs": [
    {
     "data": {
      "text/plain": [
       "Recall       5.000000\n",
       "Precision    3.333333\n",
       "F1 Score     4.000000\n",
       "dtype: float64"
      ]
     },
     "metadata": {},
     "output_type": "display_data"
    }
   ],
   "source": [
    "results = pd.DataFrame()\n",
    "\n",
    "results['ICD9_CODE'] = df['ICD9_CODE'].apply(format_icd9)\n",
    "results['Recall'] = df.apply(lambda x: recall_score(x['ICD9_CODE'], x['Generated']), axis=1)\n",
    "results['Precision'] = df.apply(lambda x: precision_score(x['ICD9_CODE'], x['Generated']), axis=1)\n",
    "results['F1 Score'] = df.apply(lambda x: f1_score(x['ICD9_CODE'], x['Generated']), axis=1)\n",
    "\n",
    "display(results[['Recall', 'Precision', 'F1 Score']].mean(axis=0)*100)"
   ]
  },
  {
   "cell_type": "markdown",
   "metadata": {},
   "source": [
    "#### Results Summary"
   ]
  },
  {
   "cell_type": "code",
   "execution_count": null,
   "metadata": {},
   "outputs": [],
   "source": [
    "print(f\"Recall = {round(results['Recall'].mean(),2)}\")\n",
    "print(f\"Precision = {round(results['Precision'].mean(),2)}\")"
   ]
  },
  {
   "cell_type": "markdown",
   "metadata": {},
   "source": [
    "## Implement Med NLP Note Parsing"
   ]
  },
  {
   "cell_type": "code",
   "execution_count": 15,
   "metadata": {},
   "outputs": [
    {
     "name": "stdout",
     "output_type": "stream",
     "text": [
      "Note: cva communicated uti chf left ventricular hypertrophy leukocytosis congestive heart failure diabetes mellitus, insulin-dependent wheezing chief complaint ground glass opacity hypotension absence of fever urinary tract infection does communicate liver carcinoma afebrile discharge diagnosis chief complaint (finding) hydronephroses wheeze hcc cerebrovascular accident ggo tid hydronephrosis hyponatremia lvh\n",
      "Note: death (finding) necrotizing fasciitis incisional hernia active inflammation discharge diagnosis chief complaint (finding) chief complaint septic shock blood clot passed away abdominal pain acute inflammation\n",
      "Note: cva communicated adverse drug reactions hyperkalemia rales acs - acute coronary syndrome acute renal failure chf kidney failure, acute leukocytosis congestive heart failure adverse reaction to drug severe cardiac valve stenosis wheezing chief complaint hypotension cholelithiasis constipated does communicate gestational thyrotoxicosis unstable angina severe stenosis discharge diagnosis chief complaint (finding) wheeze angina, unstable cerebrovascular accident left bundle-branch block acute coronary syndrome gtt constipation lbbb crackle abdominal pain\n",
      "Note: adverse drug reactions signs and symptoms acidosis danger sign rales septic shock bowel edema adverse reaction to drug edema sore throat chief complaint hypotension absence of fever gestational thyrotoxicosis sore to touch severe pain sun exposure afebrile discharge diagnosis chief complaint (finding) skip diverticulitides does skip diverticulitis gtt deep breathing soreness crackle abdominal pain\n",
      "Note: chronic obstructive pulmonary disease rhinorrhea chronic liver disease n v chronic obstructive airway disease congestive heart failure acute cholecystitis bronchospasm meningismus diabetes mellitus, insulin-dependent wheezing chief complaint nasal discharge hypotension ground glass opacity cholelithiasis infarcted spleen pmh hypokinesia discharge diagnosis angioendothelioma chief complaint (finding) bronchial spasm splenic infarct chronic disease liver ggo tid fever meningism abdominal pain nausea and vomiting documented fever\n"
     ]
    },
    {
     "name": "stderr",
     "output_type": "stream",
     "text": [
      "2024-08-28 13:53:01,804 invalid syntax (<unknown>, line 1)\n"
     ]
    },
    {
     "name": "stdout",
     "output_type": "stream",
     "text": [
      "Note: cva ulcerative colitis respiratory symptom gastric ulcer chorea chronic obstructive pulmonary disease hyperlipidemia uti chf dvts chronic obstructive airway disease congestive heart failure productive cough community acquired pneumonia deep vein thrombosis staphylococcus aureus rheumatic heart disease mass effect palpable mass diabetes mellitus, insulin-dependent staph wheezing chief complaint coughing productive hypotension pneumothorax constipated urinary tract infection gestational thyrotoxicosis masses palpable acquired community pneumonia discharge diagnosis chief complaint (finding) acquired hospital pneumonias respiratory signs symptoms iron deficiency anemia knee pain cerebrovascular accident tid vaginitis gtt nosocomial pneumonia constipation hypogammaglobulinemia abdominal pain pulmonary embolism\n",
      "Note: left ventricular hypertrophy\n",
      "Note: hypotension\n",
      "Note: death (finding) aortic regurgitation adverse drug reactions esophageal cancer acute renal failure bacteria rales passed away septic shock kidney failure, acute left ventricular hypertrophy adverse reaction to drug deep vein thrombosis reaccumulation tricuspid regurgitation edema mitral regurgitation mass effect lung consolidation aortic valve insufficiency chief complaint ground glass opacity neutrophilic infiltrate hypotension pneumothorax hiatal hernia gestational thyrotoxicosis occlusive disease deep venous thrombosis esophageal neoplasms rib fractures accumulation hydropneumothorax mottling gram positive rods discharge diagnosis chief complaint (finding) decreased appetite decrease in appetite polymorphonuclear fib anasarca mottled ggo weepiness arterial occlusive diseases gtt tearful rib fracture gram-positive rods (bacteria) tricuspid valve insufficiency crackle pericardial effusion mitral valve insufficiency streptococcus anginosus\n"
     ]
    },
    {
     "name": "stderr",
     "output_type": "stream",
     "text": [
      "2024-08-28 13:53:05,486 invalid syntax (<unknown>, line 1)\n"
     ]
    },
    {
     "name": "stdout",
     "output_type": "stream",
     "text": [
      "Note: acidosis bleeding, intracranial uti streak artifact rhabdomyolyses weight bearing azar kala suicide attempt staphylococcus aureus chronic pain streaking artifact hyperventilation ankylosing spondylitis aspiration pneumonia mass effect c . difficile diabetes mellitus, insulin-dependent staph wheezing chief complaint clostridium difficile (bacteria) pneumonia, ventilator associated hypotension absence of fever urinary tract infection gestational thyrotoxicosis tinea corporis rheumatoid arthritis intracranial hemorrhage afebrile chief complaint (finding) blood clot overdose wheeze unconscious iron deficiency anemia rhabdomyolysis tid gtt room air vap cvl tinea corporis (disorder) unconscious state\n"
     ]
    }
   ],
   "source": [
    "results = []\n",
    "df['Parsed_Generated'] = \"\"\n",
    "for index, row in df.iterrows():\n",
    "\n",
    "    # Parse Note\n",
    "    note = row['PARSED_TEXT']\n",
    "    print(f\"Note: {note}\")\n",
    "\n",
    "    # Get Codes\n",
    "    result = flatten(get_codes_for_note(\"0\", code_tree, note, level=2)) # Change level here if needed\n",
    "\n",
    "    # Add result to DF\n",
    "    df.at[index, 'Parsed_Generated'] = str(result)"
   ]
  },
  {
   "cell_type": "code",
   "execution_count": 16,
   "metadata": {},
   "outputs": [
    {
     "data": {
      "text/html": [
       "<div>\n",
       "<style scoped>\n",
       "    .dataframe tbody tr th:only-of-type {\n",
       "        vertical-align: middle;\n",
       "    }\n",
       "\n",
       "    .dataframe tbody tr th {\n",
       "        vertical-align: top;\n",
       "    }\n",
       "\n",
       "    .dataframe thead th {\n",
       "        text-align: right;\n",
       "    }\n",
       "</style>\n",
       "<table border=\"1\" class=\"dataframe\">\n",
       "  <thead>\n",
       "    <tr style=\"text-align: right;\">\n",
       "      <th></th>\n",
       "      <th>ICD9_CODE</th>\n",
       "      <th>L1_CODES</th>\n",
       "      <th>L2_CODES</th>\n",
       "      <th>Parsed_Generated</th>\n",
       "    </tr>\n",
       "  </thead>\n",
       "  <tbody>\n",
       "    <tr>\n",
       "      <th>0</th>\n",
       "      <td>['041']</td>\n",
       "      <td>['0']</td>\n",
       "      <td>['03']</td>\n",
       "      <td>['00', '01', '04', '05', '08', '09']</td>\n",
       "    </tr>\n",
       "    <tr>\n",
       "      <th>1</th>\n",
       "      <td>['038', '070']</td>\n",
       "      <td>['0']</td>\n",
       "      <td>['08', '03']</td>\n",
       "      <td>['03']</td>\n",
       "    </tr>\n",
       "    <tr>\n",
       "      <th>2</th>\n",
       "      <td>['041']</td>\n",
       "      <td>['0']</td>\n",
       "      <td>['03']</td>\n",
       "      <td>['01', '04']</td>\n",
       "    </tr>\n",
       "    <tr>\n",
       "      <th>3</th>\n",
       "      <td>['038']</td>\n",
       "      <td>['0']</td>\n",
       "      <td>['03']</td>\n",
       "      <td>['00', '03']</td>\n",
       "    </tr>\n",
       "    <tr>\n",
       "      <th>4</th>\n",
       "      <td>['038']</td>\n",
       "      <td>['0']</td>\n",
       "      <td>['03']</td>\n",
       "      <td>['XX']</td>\n",
       "    </tr>\n",
       "    <tr>\n",
       "      <th>5</th>\n",
       "      <td>['053']</td>\n",
       "      <td>['0']</td>\n",
       "      <td>['06']</td>\n",
       "      <td>['00', '01', '04', '05', '06', '08', '13']</td>\n",
       "    </tr>\n",
       "    <tr>\n",
       "      <th>6</th>\n",
       "      <td>['038']</td>\n",
       "      <td>['0']</td>\n",
       "      <td>['03']</td>\n",
       "      <td>['XX']</td>\n",
       "    </tr>\n",
       "    <tr>\n",
       "      <th>7</th>\n",
       "      <td>['038', '047']</td>\n",
       "      <td>['0']</td>\n",
       "      <td>['03', '05']</td>\n",
       "      <td>['00']</td>\n",
       "    </tr>\n",
       "    <tr>\n",
       "      <th>8</th>\n",
       "      <td>['041', '038']</td>\n",
       "      <td>['0']</td>\n",
       "      <td>['03']</td>\n",
       "      <td>['XX']</td>\n",
       "    </tr>\n",
       "    <tr>\n",
       "      <th>9</th>\n",
       "      <td>['038']</td>\n",
       "      <td>['0']</td>\n",
       "      <td>['03']</td>\n",
       "      <td>['01', '03', '08']</td>\n",
       "    </tr>\n",
       "  </tbody>\n",
       "</table>\n",
       "</div>"
      ],
      "text/plain": [
       "        ICD9_CODE L1_CODES      L2_CODES  \\\n",
       "0         ['041']    ['0']        ['03']   \n",
       "1  ['038', '070']    ['0']  ['08', '03']   \n",
       "2         ['041']    ['0']        ['03']   \n",
       "3         ['038']    ['0']        ['03']   \n",
       "4         ['038']    ['0']        ['03']   \n",
       "5         ['053']    ['0']        ['06']   \n",
       "6         ['038']    ['0']        ['03']   \n",
       "7  ['038', '047']    ['0']  ['03', '05']   \n",
       "8  ['041', '038']    ['0']        ['03']   \n",
       "9         ['038']    ['0']        ['03']   \n",
       "\n",
       "                             Parsed_Generated  \n",
       "0        ['00', '01', '04', '05', '08', '09']  \n",
       "1                                      ['03']  \n",
       "2                                ['01', '04']  \n",
       "3                                ['00', '03']  \n",
       "4                                      ['XX']  \n",
       "5  ['00', '01', '04', '05', '06', '08', '13']  \n",
       "6                                      ['XX']  \n",
       "7                                      ['00']  \n",
       "8                                      ['XX']  \n",
       "9                          ['01', '03', '08']  "
      ]
     },
     "metadata": {},
     "output_type": "display_data"
    }
   ],
   "source": [
    "display(df[['ICD9_CODE','L1_CODES','L2_CODES', 'Parsed_Generated']].head(10))"
   ]
  },
  {
   "cell_type": "code",
   "execution_count": 17,
   "metadata": {},
   "outputs": [
    {
     "data": {
      "text/plain": [
       "Recall       35.000000\n",
       "Precision    19.761905\n",
       "F1 Score     20.833333\n",
       "dtype: float64"
      ]
     },
     "metadata": {},
     "output_type": "display_data"
    }
   ],
   "source": [
    "results = pd.DataFrame()\n",
    "\n",
    "\n",
    "results['ICD9_CODE'] = df['ICD9_CODE'].apply(format_icd9)\n",
    "results['Recall'] = df.apply(lambda x: recall_score(x['L2_CODES'], x['Parsed_Generated']), axis=1)\n",
    "results['Precision'] = df.apply(lambda x: precision_score(x['L2_CODES'], x['Parsed_Generated']), axis=1)\n",
    "results['F1 Score'] = df.apply(lambda x: f1_score(x['L2_CODES'], x['Parsed_Generated']), axis=1)\n",
    "display(results[['Recall', 'Precision', 'F1 Score']].mean(axis=0)*100)"
   ]
  },
  {
   "cell_type": "code",
   "execution_count": null,
   "metadata": {},
   "outputs": [],
   "source": []
  }
 ],
 "metadata": {
  "kernelspec": {
   "display_name": "med_code",
   "language": "python",
   "name": "python3"
  },
  "language_info": {
   "codemirror_mode": {
    "name": "ipython",
    "version": 3
   },
   "file_extension": ".py",
   "mimetype": "text/x-python",
   "name": "python",
   "nbconvert_exporter": "python",
   "pygments_lexer": "ipython3",
   "version": "3.9.19"
  }
 },
 "nbformat": 4,
 "nbformat_minor": 2
}
