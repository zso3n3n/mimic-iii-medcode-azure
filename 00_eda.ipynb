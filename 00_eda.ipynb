{
 "cells": [
  {
   "cell_type": "code",
   "execution_count": null,
   "metadata": {},
   "outputs": [],
   "source": [
    "import plotly.express as px\n",
    "import pandas as pd\n",
    "import ast\n",
    "from zensols.mednlp import ApplicationFactory"
   ]
  },
  {
   "cell_type": "code",
   "execution_count": null,
   "metadata": {},
   "outputs": [],
   "source": [
    "data_folder = \"data/raw/\"\n",
    "d_icd = pd.read_csv(data_folder + 'D_ICD_DIAGNOSES.csv.gz', usecols=['ICD9_CODE', 'SHORT_TITLE', 'LONG_TITLE']) # ICD Code lookup\n",
    "diagnoses = pd.read_csv(data_folder + 'DIAGNOSES_ICD.csv.gz', usecols=['HADM_ID', 'ICD9_CODE']) # Linkage between ICD codes and Note events\n",
    "drg = pd.read_csv(data_folder + 'DRGCODES.csv.gz', usecols=['HADM_ID','DESCRIPTION']) # DRG Codes\n",
    "note_events= pd.read_csv(data_folder + 'NOTEEVENTS.csv.gz', usecols=['HADM_ID','TEXT'], nrows=20000) # Number of rows = 2,083,180 without filter # We will handle this later"
   ]
  },
  {
   "cell_type": "code",
   "execution_count": null,
   "metadata": {},
   "outputs": [],
   "source": [
    "# Data Sizes\n",
    "print(f\"D_ICD Shape: {d_icd.shape}\")\n",
    "print(f\"DIAGNOSES Shape: {diagnoses.shape}\")\n",
    "print(f\"DRG Shape: {drg.shape}\")\n",
    "# print(f\"Note Events Shape: {note_events.shape}\")"
   ]
  },
  {
   "cell_type": "code",
   "execution_count": null,
   "metadata": {},
   "outputs": [],
   "source": [
    "# Schemas\n",
    "print(f\"D_ICD Schema: {d_icd.columns}\")\n",
    "print(f\"DIAGNOSES Schema: {diagnoses.dtypes}\")\n",
    "print(f\"DRG Schema: {drg.columns}\")\n",
    "print(f\"Note Events Schema: {note_events.columns}\")"
   ]
  },
  {
   "cell_type": "code",
   "execution_count": null,
   "metadata": {},
   "outputs": [],
   "source": [
    "note_events['TEXT'] = note_events['TEXT'].apply(lambda x: \"\\\"\" + str(x) + \"\\\"\")\n",
    "diagnoses = diagnoses.groupby(['HADM_ID']).agg(tuple).map(list).reset_index()\n",
    "joined = note_events.join(diagnoses.set_index(\"HADM_ID\"), on=['HADM_ID'], how='inner')\n",
    "# joined = joined.join(drg.set_index('HADM_ID'), on='HADM_ID', how='inner').groupby(['HADM_ID','TEXT', 'ICD9_CODE']).agg(tuple).map(list).reset_index()\n",
    "# joined = joined.join(d_icd.set_index('ICD9_CODE'), on='ICD9_CODE', how='inner')"
   ]
  },
  {
   "cell_type": "code",
   "execution_count": null,
   "metadata": {},
   "outputs": [],
   "source": [
    "print(joined.columns)\n",
    "print(joined.shape)\n",
    "display(joined.head(20))"
   ]
  },
  {
   "cell_type": "code",
   "execution_count": null,
   "metadata": {},
   "outputs": [],
   "source": [
    "display(joined.loc[joined['HADM_ID'] == 100195])\n",
    "display(joined.loc[joined['HADM_ID'] == 100195]['TEXT'].values[0])\n",
    "display(len(joined.loc[joined['HADM_ID'] == 100195]['TEXT'].values[0]))"
   ]
  },
  {
   "cell_type": "code",
   "execution_count": null,
   "metadata": {},
   "outputs": [],
   "source": [
    "display(d_icd.loc[d_icd['ICD9_CODE'] == '1890'])"
   ]
  },
  {
   "cell_type": "code",
   "execution_count": null,
   "metadata": {},
   "outputs": [],
   "source": [
    "diagnoses.dtypes"
   ]
  },
  {
   "cell_type": "markdown",
   "metadata": {},
   "source": [
    "## Look at Note Format"
   ]
  },
  {
   "cell_type": "code",
   "execution_count": null,
   "metadata": {},
   "outputs": [],
   "source": [
    "joined['TEXT'][1]"
   ]
  },
  {
   "cell_type": "markdown",
   "metadata": {},
   "source": [
    "### Examine Code Distribution"
   ]
  },
  {
   "cell_type": "code",
   "execution_count": null,
   "metadata": {},
   "outputs": [],
   "source": [
    "# Get Distribution of codes from Diagnoses table\n",
    "def remove_evm_codes(df: pd.DataFrame) -> pd.DataFrame:\n",
    "    # Drop E, V, and M codes\n",
    "    df['ICD9_CODE'] = df['ICD9_CODE'].apply(lambda x: str(x))\n",
    "    output = df[~df['ICD9_CODE'].str.startswith(\"E\")]\n",
    "    output = output[~output['ICD9_CODE'].str.startswith(\"V\")]   \n",
    "    output = output[~output['ICD9_CODE'].str.startswith(\"M\")]\n",
    "    return output\n",
    "\n",
    "# DIAGNOSES Schema: Index(['HADM_ID', 'ICD9_CODE'], dtype='object')\n",
    "\n",
    "df = diagnoses[diagnoses['ICD9_CODE'].notna()]\n",
    "\n",
    "df = remove_evm_codes(df)\n",
    "\n",
    "# Drop codes that start with E, V, and M\n",
    "df = remove_evm_codes(df)\n",
    "\n",
    "# Shorten codes to 3 digits (for now)\n",
    "df['ICD9_CODE'] = df['ICD9_CODE'].str.slice(0, 3)\n",
    "\n",
    "# Explode list\n",
    "df['ICD9_CODE'] = df['ICD9_CODE'].explode('ICD9_CODE').reset_index(drop=True)\n",
    "df = df.drop(columns=['HADM_ID'])\n",
    "\n",
    "# Get count for each ecode\n",
    "df = df.value_counts().reset_index()\n",
    "\n",
    "display(df.head())\n"
   ]
  },
  {
   "cell_type": "code",
   "execution_count": null,
   "metadata": {},
   "outputs": [],
   "source": [
    "# Plot ALL\n",
    "\n",
    "fig = px.bar(df.nlargest(columns=['count'], n=500), x='ICD9_CODE', y='count',color='ICD9_CODE', title='Code Counts')\n",
    "fig.update_layout(xaxis={'categoryorder':'total descending'})\n",
    "fig.show()\n"
   ]
  },
  {
   "cell_type": "code",
   "execution_count": null,
   "metadata": {},
   "outputs": [],
   "source": [
    "# Plot ALL\n",
    "\n",
    "fig = px.bar(df.nlargest(columns=['count'], n=200), x='ICD9_CODE', y='count',color='ICD9_CODE', title='Code Counts')\n",
    "fig.update_layout(xaxis={'categoryorder':'total descending'})\n",
    "fig.show()"
   ]
  },
  {
   "cell_type": "code",
   "execution_count": null,
   "metadata": {},
   "outputs": [],
   "source": [
    "# Plot Scoped to MAX\n",
    "\n",
    "# Filter out codes out of scope\n",
    "subset_df = pd.read_csv(\"./data/joined/dataset_single_001_088.csv.gz\")\n",
    "subset_df.drop(columns=['TEXT'], inplace=True)\n",
    "\n",
    "# Explode list\n",
    "subset_df['ICD9_CODE'] = subset_df['ICD9_CODE'].explode('ICD9_CODE').reset_index(drop=True)\n",
    "display(subset_df.head(3))\n",
    "subset_df.drop(columns=['HADM_ID'], inplace=True)\n",
    "\n",
    "# Get count for each ecode\n",
    "subset_df = subset_df.value_counts().reset_index()\n",
    "\n",
    "\n",
    "\n",
    "fig = px.bar(subset_df, x='ICD9_CODE', y='count',color='ICD9_CODE', title='Code Counts')\n",
    "fig.update_layout(xaxis={'categoryorder':'total descending'})\n",
    "fig.show()"
   ]
  },
  {
   "cell_type": "markdown",
   "metadata": {},
   "source": [
    "## The Long Tail Problem"
   ]
  },
  {
   "cell_type": "code",
   "execution_count": null,
   "metadata": {},
   "outputs": [],
   "source": [
    "# The TOP X codes represent what percent of the data? (Total Dataset)\n",
    "x=260\n",
    "\n",
    "top_100 = df.nlargest(columns=['count'], n=x)\n",
    "top_100_sum = top_100['count'].sum()\n",
    "total_sum = df['count'].sum()\n",
    "\n",
    "print(f\"Top {x} Codes represent {top_100_sum/total_sum*100:.2f}% of the data\")"
   ]
  },
  {
   "cell_type": "markdown",
   "metadata": {},
   "source": [
    "## Test out MedNLP Package for Note Parsing"
   ]
  },
  {
   "cell_type": "code",
   "execution_count": null,
   "metadata": {},
   "outputs": [],
   "source": [
    "# Sample\n",
    "doc_parser = ApplicationFactory.get_doc_parser()\n",
    "doc = doc_parser('John was diagnosed with kidney failure')\n",
    "\n",
    "for tok in doc.tokens: \n",
    "    print(tok.norm, tok.pos_, tok.tag_, tok.cui_, tok.detected_name_)\n",
    "\n",
    "print(doc.entities)"
   ]
  },
  {
   "cell_type": "code",
   "execution_count": null,
   "metadata": {},
   "outputs": [],
   "source": [
    "# Sample from MIMIC-III dataset\n",
    "\n",
    "#print(f\"***\\n{joined['TEXT'][1]} \\n***\")\n",
    "\n",
    "doc_parser = ApplicationFactory.get_doc_parser()\n",
    "doc = doc_parser(joined['TEXT'][1])\n",
    "\n",
    "print(\"**Parsed:**\")\n",
    "# print(doc.entities)\n",
    "new_note = set([])\n",
    "for tok in doc.tokens:\n",
    "    if tok.is_concept and tok.tuis_ in ['T184', 'T047', 'T046', 'T033', 'T037','T191']:\n",
    "        '''\n",
    "        Maybe add?:\n",
    "        T060: Diagnostic Procedure\n",
    "        T061 Therapeutic or Preventive Procedure\n",
    "        T033: Finding\n",
    "        T046: Pathologic Function\n",
    "        '''\n",
    "        print(tok, tok.detected_name_, tok.sub_names, tok.pref_name_, tok.tuis_, tok.tui_descs_)\n",
    "        new_note.add(tok.detected_name_.replace(\"~\",\" \"))\n",
    "        new_note.add(tok.pref_name_.lower())\n",
    "\n",
    "print(f\"**New Note:**\\n{new_note}\")"
   ]
  },
  {
   "cell_type": "code",
   "execution_count": null,
   "metadata": {},
   "outputs": [],
   "source": []
  }
 ],
 "metadata": {
  "kernelspec": {
   "display_name": "med_code",
   "language": "python",
   "name": "python3"
  },
  "language_info": {
   "codemirror_mode": {
    "name": "ipython",
    "version": 3
   },
   "file_extension": ".py",
   "mimetype": "text/x-python",
   "name": "python",
   "nbconvert_exporter": "python",
   "pygments_lexer": "ipython3",
   "version": "3.9.19"
  }
 },
 "nbformat": 4,
 "nbformat_minor": 2
}
