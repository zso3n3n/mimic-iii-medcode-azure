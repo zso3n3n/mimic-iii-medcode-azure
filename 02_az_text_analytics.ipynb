{
 "cells": [
  {
   "cell_type": "markdown",
   "metadata": {},
   "source": [
    "## Azure Text Analytics for Health\n",
    "  \n",
    "**Goal of this notebook:**\n",
    "- Extract medical concepts and the sysnonym terminology (according to UMLS) from the NOTEEVENT TEXT field in the mimic-iii dataser\n",
    "  \n",
    "**The extracted data will be used to...**\n",
    "- Build/Supplement a dataset for fine tuning\n",
    "- Supplement Note Text to improve Language Model (LM) understanding and reasoning for medical coding classification\n",
    "  \n",
    "**Requirements**\n",
    "- UMLS setup and API access\n",
    "\n",
    "**Overview of [Azure Text Analytics for Health](https://learn.microsoft.com/en-us/azure/ai-services/language-service/text-analytics-for-health/overview?tabs=ner)**  \n",
    "  \n",
    "Text Analytics for health is one of the prebuilt features offered by Azure AI Language. It is a cloud-based API service that applies machine-learning intelligence to extract and label relevant medical information from a variety of unstructured texts such as doctor's notes, discharge summaries, clinical documents, and electronic health records.\n",
    "\n",
    "**Overview of [UMLS Metathesaurus API](https://documentation.uts.nlm.nih.gov/rest/home.html)**\n",
    "  \n",
    "The UMLS Metathesaurus is a large biomedical thesaurus that is organized by concept, or meaning. It links synonymous names from over 200 different source vocabularies. The Metathesaurus also identifies useful relationships between concepts and preserves the meanings, concept names, and relationships from each vocabulary. "
   ]
  },
  {
   "cell_type": "code",
   "execution_count": 8,
   "metadata": {},
   "outputs": [],
   "source": [
    "from azure.ai.textanalytics import TextAnalyticsClient\n",
    "from azure.core.credentials import AzureKeyCredential\n",
    "from dotenv import load_dotenv, find_dotenv\n",
    "import pandas as pd\n",
    "import os \n",
    "import requests\n",
    "\n",
    "load_dotenv(find_dotenv(), override=True)\n",
    "\n",
    "key = os.getenv(\"LANGUAGE_KEY\")\n",
    "endpoint = os.getenv(\"LANGUAGE_ENDPOINT\")\n"
   ]
  },
  {
   "cell_type": "code",
   "execution_count": null,
   "metadata": {},
   "outputs": [],
   "source": [
    "# Read in a subsample of the Mimic-iii NOTEEVENTS.csv table\n",
    "data_folder = \"data/raw/\"\n",
    "note_events= pd.read_csv(data_folder + 'NOTEEVENTS.csv.gz', usecols=['HADM_ID','TEXT'], nrows=20000)"
   ]
  },
  {
   "cell_type": "markdown",
   "metadata": {},
   "source": [
    "#### Extract Medical Concepts with Azure Text Analytics"
   ]
  },
  {
   "cell_type": "code",
   "execution_count": 3,
   "metadata": {},
   "outputs": [],
   "source": [
    "# Authenticate the client using your key and endpoint \n",
    "def authenticate_client():\n",
    "    ta_credential = AzureKeyCredential(key)\n",
    "    text_analytics_client = TextAnalyticsClient(\n",
    "            endpoint=endpoint, \n",
    "            credential=ta_credential)\n",
    "    return text_analytics_client\n",
    "\n",
    "client = authenticate_client()"
   ]
  },
  {
   "cell_type": "code",
   "execution_count": 7,
   "metadata": {},
   "outputs": [
    {
     "name": "stdout",
     "output_type": "stream",
     "text": [
      "{'text': '50 mg', 'normalized_text': None, 'category': 'Dosage', 'subcategory': None, 'assertion': None, 'length': 5, 'offset': 31, 'confidence_score': 1.0, 'data_sources': None}\n",
      "{'text': 'ibuprofen', 'normalized_text': 'ibuprofen', 'category': 'MedicationName', 'subcategory': None, 'assertion': None, 'length': 9, 'offset': 40, 'confidence_score': 1.0, 'data_sources': [HealthcareEntityDataSource(entity_id=C0020740, name=UMLS), HealthcareEntityDataSource(entity_id=0000019879, name=AOD), HealthcareEntityDataSource(entity_id=M01AE01, name=ATC), HealthcareEntityDataSource(entity_id=0046165, name=CCPSS), HealthcareEntityDataSource(entity_id=0000006519, name=CHV), HealthcareEntityDataSource(entity_id=2270-2077, name=CSP), HealthcareEntityDataSource(entity_id=DB01050, name=DRUGBANK), HealthcareEntityDataSource(entity_id=1611, name=GS), HealthcareEntityDataSource(entity_id=sh97005926, name=LCH_NW), HealthcareEntityDataSource(entity_id=LP16165-0, name=LNC), HealthcareEntityDataSource(entity_id=40458, name=MEDCIN), HealthcareEntityDataSource(entity_id=d00015, name=MMSL), HealthcareEntityDataSource(entity_id=D007052, name=MSH), HealthcareEntityDataSource(entity_id=WK2XYI10QM, name=MTHSPL), HealthcareEntityDataSource(entity_id=C561, name=NCI), HealthcareEntityDataSource(entity_id=002377, name=NDDF), HealthcareEntityDataSource(entity_id=CDR0000040475, name=PDQ), HealthcareEntityDataSource(entity_id=x02MO, name=RCD), HealthcareEntityDataSource(entity_id=5640, name=RXNORM), HealthcareEntityDataSource(entity_id=E-7772, name=SNM), HealthcareEntityDataSource(entity_id=C-603C0, name=SNMI), HealthcareEntityDataSource(entity_id=387207008, name=SNOMEDCT_US), HealthcareEntityDataSource(entity_id=m39860, name=USP), HealthcareEntityDataSource(entity_id=MTHU000060, name=USPMG), HealthcareEntityDataSource(entity_id=4017840, name=VANDF)]}\n",
      "{'relation_type': 'DosageOfMedication', 'roles': [HealthcareRelationRole(name=Dosage, entity=HealthcareEntity(text=50 mg, normalized_text=None, category=Dosage, subcategory=None, assertion=None, length=5, offset=31, confidence_score=1.0, data_sources=None)), HealthcareRelationRole(name=Medication, entity=HealthcareEntity(text=ibuprofen, normalized_text=ibuprofen, category=MedicationName, subcategory=None, assertion=None, length=9, offset=40, confidence_score=1.0, data_sources=[HealthcareEntityDataSource(entity_id=C0020740, name=UMLS), HealthcareEntityDataSource(entity_id=0000019879, name=AOD), HealthcareEntityDataSource(entity_id=M01AE01, name=ATC), HealthcareEntityDataSource(entity_id=0046165, name=CCPSS), HealthcareEntityDataSource(entity_id=0000006519, name=CHV), HealthcareEntityDataSource(entity_id=2270-2077, name=CSP), HealthcareEntityDataSource(entity_id=DB01050, name=DRUGBANK), HealthcareEntityDataSource(entity_id=1611, name=GS), HealthcareEntityDataSource(entity_id=sh97005926, name=LCH_NW), HealthcareEntityDataSource(entity_id=LP16165-0, name=LNC), HealthcareEntityDataSource(entity_id=40458, name=MEDCIN), HealthcareEntityDataSource(entity_id=d00015, name=MMSL), HealthcareEntityDataSource(entity_id=D007052, name=MSH), HealthcareEntityDataSource(entity_id=WK2XYI10QM, name=MTHSPL), HealthcareEntityDataSo)]}\n",
      "{'name': 'Dosage', 'entity': HealthcareEntity(text=50 mg, normalized_text=None, category=Dosage, subcategory=None, assertion=None, length=5, offset=31, confidence_score=1.0, data_sources=None)}\n",
      "{'name': 'Medication', 'entity': HealthcareEntity(text=ibuprofen, normalized_text=ibuprofen, category=MedicationName, subcategory=None, assertion=None, length=9, offset=40, confidence_score=1.0, data_sources=[HealthcareEntityDataSource(entity_id=C0020740, name=UMLS), HealthcareEntityDataSource(entity_id=0000019879, name=AOD), HealthcareEntityDataSource(entity_id=M01AE01, name=ATC), HealthcareEntityDataSource(entity_id=0046165, name=CCPSS), HealthcareEntityDataSource(entity_id=0000006519, name=CHV), HealthcareEntityDataSource(entity_id=2270-2077, name=CSP), HealthcareEntityDataSource(entity_id=DB01050, name=DRUGBANK), HealthcareEntityDataSource(entity_id=1611, name=GS), HealthcareEntityDataSource(entity_id=sh97005926, name=LCH_NW), HealthcareEntityDataSource(entity_id=LP16165-0, name=LNC), HealthcareEntityDataSource(entity_id=40458, name=MEDCIN), HealthcareEntityDataSource(entity_id=d00015, name=MMSL), HealthcareEntityDataSource(entity_id=D007052, name=MSH), HealthcareEntityDataSource(entity_id=WK2XYI10QM, name=MTHSPL), HealthcareEntityDataSo}\n",
      "------------------------------------------\n"
     ]
    }
   ],
   "source": [
    "# Example function for extracting information from healthcare-related text \n",
    "\n",
    "def health_example(client):\n",
    "    documents = [\n",
    "        \"\"\"\n",
    "        Patient needs to take 50 mg of ibuprofen.\n",
    "        \"\"\"\n",
    "    ]\n",
    "\n",
    "    poller = client.begin_analyze_healthcare_entities(documents)\n",
    "    result = poller.result()\n",
    "\n",
    "    docs = [doc for doc in result if not doc.is_error]\n",
    "\n",
    "    for idx, doc in enumerate(docs):\n",
    "        for entity in doc.entities:\n",
    "            print(f\"{entity}\")\n",
    "        \n",
    "        for relation in doc.entity_relations:\n",
    "            print(f\"{relation}\")\n",
    "            for role in relation.roles:\n",
    "                print(f\"{role}\")\n",
    "        print(\"------------------------------------------\")\n",
    "health_example(client)"
   ]
  },
  {
   "cell_type": "code",
   "execution_count": null,
   "metadata": {},
   "outputs": [],
   "source": []
  },
  {
   "cell_type": "markdown",
   "metadata": {},
   "source": [
    "#### Supplement Medical Concepts with UMLS Metathesaurus"
   ]
  },
  {
   "cell_type": "code",
   "execution_count": null,
   "metadata": {},
   "outputs": [],
   "source": [
    "\n"
   ]
  }
 ],
 "metadata": {
  "kernelspec": {
   "display_name": "med_code",
   "language": "python",
   "name": "python3"
  },
  "language_info": {
   "codemirror_mode": {
    "name": "ipython",
    "version": 3
   },
   "file_extension": ".py",
   "mimetype": "text/x-python",
   "name": "python",
   "nbconvert_exporter": "python",
   "pygments_lexer": "ipython3",
   "version": "3.9.19"
  }
 },
 "nbformat": 4,
 "nbformat_minor": 2
}
