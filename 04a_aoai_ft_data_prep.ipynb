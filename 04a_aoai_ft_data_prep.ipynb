{
 "cells": [
  {
   "cell_type": "markdown",
   "metadata": {},
   "source": [
    "## Fine Tuning for Medical Coding  \n",
    "#### Part 1: Data Preparation  \n",
    "\n",
    "---\n",
    "\n",
    "**Goal for this Notebook**\n",
    "- Prepare a dataset to fine tune a model for L1 (Chapter) level classification. The reason for fine-tuning at a 'higher' level is to eliminate challenges assocaited with the long-tail problem. This exercise will fine tune a model for multi-label classification with 17 label options.\n",
    "  \n",
    "<small>[_Click here for a complete list of ICD9 Chapters_](https://en.wikipedia.org/wiki/List_of_ICD-9_codes)</small>\n",
    "\n",
    "**Approach**\n",
    "  \n",
    "The dataset will be created using the ICD9 code tree to create descriptions for chapter classifications. For example, for a single chapter we can create many rows for training by using the ICD code name, child code names, and supplement information from UMLS.\n",
    "<small>\n",
    "```markdown\n",
    "--> Chapter name / description  \n",
    "    --> UMLS concept atoms  \n",
    "    --> UMLS concept definitions  \n",
    "    --> Children, grandchildren, etc node names / descriptions  \n",
    "        --> UMLS concept atoms  \n",
    "        --> UMLS concept definitions  \n",
    "```\n",
    "</small>  \n",
    "\n",
    "**Data**\n",
    "\n",
    "The dataset will need to be formatted in json format as follows:\n",
    "<small>\n",
    "```json\n",
    "{\"messages\": [{\"role\": \"system\", \"content\": \"<SYSTEM MSG>\"}, {\"role\": \"user\", \"content\": \"<PROMPT>\"}, {\"role\": \"assistant\", \"content\": \"<CODE>\"}]}\n",
    "{\"messages\": [{\"role\": \"system\", \"content\": \"<SYSTEM MSG>\"}, {\"role\": \"user\", \"content\": \"<PROMPT>\"}, {\"role\": \"assistant\", \"content\": \"<CODE>\"}]}\n",
    "{\"messages\": [{\"role\": \"system\", \"content\": \"<SYSTEM MSG>\"}, {\"role\": \"user\", \"content\": \"<PROMPT>\"}, {\"role\": \"assistant\", \"content\": \"<CODE>\"}]}\n",
    "```\n",
    "</small>"
   ]
  },
  {
   "cell_type": "code",
   "execution_count": 166,
   "metadata": {},
   "outputs": [],
   "source": [
    "from azure.ai.textanalytics import TextAnalyticsClient\n",
    "from azure.core.credentials import AzureKeyCredential\n",
    "from src.icd9_tree import ICD9\n",
    "from dotenv import load_dotenv, find_dotenv\n",
    "from textwrap import dedent\n",
    "\n",
    "import pandas as pd\n",
    "import numpy as np\n",
    "import random\n",
    "import requests\n",
    "import os\n",
    "import re\n",
    "\n",
    "load_dotenv(find_dotenv(), override=True)\n",
    "pd.set_option('display.max_colwidth', None)"
   ]
  },
  {
   "cell_type": "code",
   "execution_count": 2,
   "metadata": {},
   "outputs": [],
   "source": [
    "# Authenticate to Client\n",
    "# Authenticate the client using your key and endpoint \n",
    "key = os.getenv(\"LANGUAGE_KEY\")\n",
    "endpoint = os.getenv(\"LANGUAGE_ENDPOINT\")\n",
    "\n",
    "ta_credential = AzureKeyCredential(key)\n",
    "client = TextAnalyticsClient(\n",
    "        endpoint=endpoint, \n",
    "        credential=ta_credential)"
   ]
  },
  {
   "cell_type": "markdown",
   "metadata": {},
   "source": [
    "---\n",
    "#### Setup Code Tree"
   ]
  },
  {
   "cell_type": "code",
   "execution_count": 3,
   "metadata": {},
   "outputs": [
    {
     "name": "stdout",
     "output_type": "stream",
     "text": [
      "001-139 INFECTIOUS AND PARASITIC DISEASES \n",
      "140-239 NEOPLASMS \n",
      "240-279 ENDOCRINE, NUTRITIONAL AND METABOLIC DISEASES, AND IMMUNITY DISORDERS \n",
      "280-289 DISEASES OF THE BLOOD AND BLOOD-FORMING ORGANS \n",
      "290-319 MENTAL DISORDERS \n",
      "320-389 DISEASES OF THE NERVOUS SYSTEM AND SENSE ORGANS \n",
      "390-459 DISEASES OF THE CIRCULATORY SYSTEM \n",
      "460-519 DISEASES OF THE RESPIRATORY SYSTEM \n",
      "520-579 DISEASES OF THE DIGESTIVE SYSTEM \n",
      "580-629 DISEASES OF THE GENITOURINARY SYSTEM \n",
      "630-679 COMPLICATIONS OF PREGNANCY, CHILDBIRTH, AND THE PUERPERIUM \n",
      "680-709 DISEASES OF THE SKIN AND SUBCUTANEOUS TISSUE \n",
      "710-739 DISEASES OF THE MUSCULOSKELETAL SYSTEM AND CONNECTIVE TISSUE \n",
      "740-759 CONGENITAL ANOMALIES \n",
      "760-779 CERTAIN CONDITIONS ORIGINATING IN THE PERINATAL PERIOD \n",
      "780-799 SYMPTOMS, SIGNS, AND ILL-DEFINED CONDITIONS \n",
      "800-999 INJURY AND POISONING \n"
     ]
    }
   ],
   "source": [
    "# Read ICD9 codes in as a tree and view top level. These 'Chapter' codes will be the labels for our fine tuned model.\n",
    "\n",
    "tree = ICD9('icd9_codes_full.json')\n",
    "chapter_codes = []\n",
    "# list of top level codes (e.g., '001-139', ...)\n",
    "toplevelnodes = tree.children\n",
    "for node in toplevelnodes:\n",
    "    if node.code[0] not in ['E', 'V']:\n",
    "        print(node.code, node.description)\n",
    "        chapter_codes.append(node.description)"
   ]
  },
  {
   "cell_type": "markdown",
   "metadata": {},
   "source": [
    "---\n",
    "#### Establish Helper Functions"
   ]
  },
  {
   "cell_type": "code",
   "execution_count": 8,
   "metadata": {},
   "outputs": [
    {
     "name": "stdout",
     "output_type": "stream",
     "text": [
      "630-679\n"
     ]
    }
   ],
   "source": [
    "# Get code from description\n",
    "def get_chapter_code(description):\n",
    "    code = None\n",
    "    for node in tree.children:\n",
    "        if node.description.strip() == description.strip():\n",
    "            code = node.code\n",
    "            break\n",
    "        else:\n",
    "            for child in node.children:\n",
    "                if child.description.strip() == description.strip():\n",
    "                    code = child.code\n",
    "                    break\n",
    "    return code\n",
    "\n",
    "print(get_chapter_code('COMPLICATIONS OF PREGNANCY, CHILDBIRTH, AND THE PUERPERIUM'))"
   ]
  },
  {
   "cell_type": "code",
   "execution_count": 10,
   "metadata": {},
   "outputs": [],
   "source": [
    "# Function to get the UMLS CUID(s) for a given text\n",
    "# This function uses Azure Text Analytics for Health\n",
    "\n",
    "def get_umls_concepts(client, documents):\n",
    "    umls_concepts = []\n",
    "    poller = client.begin_analyze_healthcare_entities(documents)\n",
    "    result = poller.result()\n",
    "\n",
    "    docs = [doc for doc in result if not doc.is_error]\n",
    "\n",
    "    for idx, doc in enumerate(docs):\n",
    "        for entity in doc.entities:\n",
    "            if entity.data_sources and entity.category in ['SymptonOrSign', 'Diagnosis']:\n",
    "                for data_source in entity.data_sources:\n",
    "                    if data_source.name == \"UMLS\":\n",
    "                        umls_concepts.append(data_source.entity_id)\n",
    "\n",
    "    return umls_concepts"
   ]
  },
  {
   "cell_type": "code",
   "execution_count": 11,
   "metadata": {},
   "outputs": [],
   "source": [
    "# Function to get the UMLS atoms from a cuid\n",
    "\n",
    "def get_umls_atoms(cuid):\n",
    "    synonyms = []\n",
    "    sabs = ['ICD10', 'ICD10CM', 'ICD9CM', 'SNOMEDCT_US', 'MDR']      \n",
    "    atom_uri = f\"https://uts-ws.nlm.nih.gov/rest/content/2024AA/CUI/{cuid}/atoms\"\n",
    "    page = 0  \n",
    "    try:   \n",
    "        while True:\n",
    "            page += 1\n",
    "            atom_query = {'apiKey':os.getenv(\"UMLS_API_KEY\"), 'pageNumber':page, 'language':'ENG', 'sabs': ','.join(sabs)}\n",
    "            a = requests.get(atom_uri, params=atom_query)\n",
    "            a.encoding = 'utf-8'\n",
    "            \n",
    "            if a.status_code != 200:\n",
    "                break\n",
    "\n",
    "            all_atoms = a.json()\n",
    "        \n",
    "            for atom in all_atoms['result']:\n",
    "                synonyms.append(re.sub(\"[\\(\\[].*?[\\)\\]]\", \"\", atom['name']).lower().rstrip())\n",
    "                #print(f'{atom}')\n",
    "\n",
    "            return list(set(synonyms))\n",
    "            \n",
    "    except Exception as except_error:\n",
    "        print(except_error)\n",
    "        return"
   ]
  },
  {
   "cell_type": "code",
   "execution_count": 12,
   "metadata": {},
   "outputs": [],
   "source": [
    "# Function to get UMLS definition list from a cuid\n",
    "\n",
    "def umls_define(cuid):    \n",
    "    definitions = []\n",
    "    umls_uri = f\"https://uts-ws.nlm.nih.gov/rest/content/current/CUI/{cuid}/definitions\"\n",
    "    root_sources = ['CSP','NCI','MSH','PDQ', 'MTH', 'HPO', 'DXP', 'SNMI', 'SNOMEDCT_US', 'ICD10CM', 'ICD10', 'ICD9CM', 'MDR']  \n",
    "    page = 0  \n",
    "    try:   \n",
    "        while True:\n",
    "            page += 1\n",
    "            query = {'apiKey':os.getenv(\"UMLS_API_KEY\"), 'pageNumber':page}\n",
    "            a = requests.get(umls_uri, params=query)\n",
    "            a.encoding = 'utf-8'\n",
    "            \n",
    "            if a.status_code != 200:\n",
    "                break\n",
    "            result = a.json()\n",
    "        \n",
    "            for value in result['result']:\n",
    "                if value['rootSource'] in root_sources:\n",
    "                    definitions.append(value['value'].lower().rstrip())\n",
    "\n",
    "            return list(set(definitions))\n",
    "            \n",
    "    except Exception as except_error:\n",
    "        print(except_error)\n",
    "        return"
   ]
  },
  {
   "cell_type": "code",
   "execution_count": 13,
   "metadata": {},
   "outputs": [
    {
     "name": "stdout",
     "output_type": "stream",
     "text": [
      "[{'description': 'COMPLICATIONS OF PREGNANCY, CHILDBIRTH, AND THE PUERPERIUM', 'chapter': '001-139'}, {'description': 'pregnancy, function', 'chapter': '001-139'}, {'description': 'pregnancy', 'chapter': '001-139'}, {'description': 'gestation', 'chapter': '001-139'}, {'description': 'pregnancy nos', 'chapter': '001-139'}, {'description': 'patient is currently pregnant.', 'chapter': '001-139'}, {'description': 'condition of having a developing embryo or fetus in the body.', 'chapter': '001-139'}, {'description': 'the status during which female mammals carry their developing young (embryos or fetuses) in utero before birth, beginning from fertilization to birth.', 'chapter': '001-139'}, {'description': 'patient currently pregnant', 'chapter': '001-139'}, {'description': 'the state or condition of having a developing embryo or fetus in the body (uterus), after union of an ovum and spermatozoon, during the period from conception to birth.', 'chapter': '001-139'}, {'description': 'parturition', 'chapter': '001-139'}, {'description': 'human parturition, function', 'chapter': '001-139'}, {'description': 'childbirth', 'chapter': '001-139'}, {'description': 'the event of being born.', 'chapter': '001-139'}]\n"
     ]
    }
   ],
   "source": [
    "# generate pd dataset\n",
    "\n",
    "def generate_dataset(description, chapter, az_ta_cli, dataset_list):\n",
    "    dataset_list.append({'description': description, 'chapter': chapter})\n",
    "\n",
    "    umls_concepts = get_umls_concepts(az_ta_cli, [description])\n",
    "    for cuid in umls_concepts:\n",
    "        \n",
    "        atoms = get_umls_atoms(cuid)\n",
    "        if atoms:\n",
    "            for atom in atoms:\n",
    "                dataset_list.append({'description': atom, 'chapter': chapter})\n",
    "\n",
    "        definitions = umls_define(cuid)\n",
    "        if definitions:\n",
    "            for definition in definitions:\n",
    "                dataset_list.append({'description': definition, 'chapter': chapter})\n",
    "    return\n",
    "\n",
    "# Test\n",
    "test_list = []\n",
    "generate_dataset('COMPLICATIONS OF PREGNANCY, CHILDBIRTH, AND THE PUERPERIUM', '001-139', client, test_list)\n",
    "print(test_list)"
   ]
  },
  {
   "cell_type": "markdown",
   "metadata": {},
   "source": [
    "---\n",
    "#### Create Fine Tuning Training Dataset"
   ]
  },
  {
   "cell_type": "code",
   "execution_count": 106,
   "metadata": {},
   "outputs": [],
   "source": [
    "# Build the dataset \n",
    "# NOTE: This may take a while (15 min per 1500 samples)\n",
    "# TODO: Make this more efficient\n",
    "\n",
    "ft_df_list = []\n",
    "\n",
    "for L1_node in tree.children:\n",
    "    if L1_node.code[0] not in ['E', 'V']:\n",
    "        # print(f\"L1: {L1_node.code} - {L1_node.description}\")\n",
    "        generate_dataset(L1_node.description, L1_node.description, client, ft_df_list)\n",
    "        for L2_node in L1_node.children:\n",
    "            # print(f\"L2: {L2_node.code} - {L2_node.description}\")\n",
    "            generate_dataset(L2_node.description, L1_node.description, client, ft_df_list)\n",
    "            for L3_node in L2_node.children:\n",
    "                # print(f\"L3: {L3_node.code} - {L3_node.description}\")\n",
    "                # generate_dataset(L3_node.description, L1_node.code, client, ft_df_list)\n",
    "                for L4_node in L3_node.children:\n",
    "                    # print(f\"L4: {L4_node.code} - {L4_node.description}\")\n",
    "                    # generate_dataset(L4_node.description, L1_node.code, client, ft_df_list)\n",
    "                    for L5_node in L4_node.children:\n",
    "                        # print(f\"L5: {L5_node.code} - {L5_node.description}\")\n",
    "                        # generate_dataset(L5_node.description, L1_node.code, client, ft_df_list)\n",
    "                        pass"
   ]
  },
  {
   "cell_type": "code",
   "execution_count": 169,
   "metadata": {},
   "outputs": [
    {
     "name": "stdout",
     "output_type": "stream",
     "text": [
      "(1618, 2)\n",
      "description    object\n",
      "chapter        object\n",
      "dtype: object\n"
     ]
    }
   ],
   "source": [
    "# Examine data\n",
    "ft_df = pd.DataFrame(ft_df_list)\n",
    "ft_df.chapter = ft_df.chapter.apply(lambda x: x.strip())\n",
    "print(ft_df.shape)\n",
    "print(ft_df.dtypes)"
   ]
  },
  {
   "cell_type": "code",
   "execution_count": 159,
   "metadata": {},
   "outputs": [
    {
     "data": {
      "text/html": [
       "<div>\n",
       "<style scoped>\n",
       "    .dataframe tbody tr th:only-of-type {\n",
       "        vertical-align: middle;\n",
       "    }\n",
       "\n",
       "    .dataframe tbody tr th {\n",
       "        vertical-align: top;\n",
       "    }\n",
       "\n",
       "    .dataframe thead th {\n",
       "        text-align: right;\n",
       "    }\n",
       "</style>\n",
       "<table border=\"1\" class=\"dataframe\">\n",
       "  <thead>\n",
       "    <tr style=\"text-align: right;\">\n",
       "      <th></th>\n",
       "      <th>description</th>\n",
       "      <th>chapter</th>\n",
       "    </tr>\n",
       "  </thead>\n",
       "  <tbody>\n",
       "    <tr>\n",
       "      <th>0</th>\n",
       "      <td>disorder of peripheral nervous system nos,mort...</td>\n",
       "      <td>DISEASES OF THE NERVOUS SYSTEM AND SENSE ORGAN...</td>\n",
       "    </tr>\n",
       "    <tr>\n",
       "      <th>1</th>\n",
       "      <td>neuroendocrine neoplasm,NONSPECIFIC ABNORMAL F...</td>\n",
       "      <td>NEOPLASMS;SYMPTOMS, SIGNS, AND ILL-DEFINED CON...</td>\n",
       "    </tr>\n",
       "    <tr>\n",
       "      <th>2</th>\n",
       "      <td>any abnormal condition of the body or mind tha...</td>\n",
       "      <td>DISEASES OF THE MUSCULOSKELETAL SYSTEM AND CON...</td>\n",
       "    </tr>\n",
       "  </tbody>\n",
       "</table>\n",
       "</div>"
      ],
      "text/plain": [
       "                                         description  \\\n",
       "0  disorder of peripheral nervous system nos,mort...   \n",
       "1  neuroendocrine neoplasm,NONSPECIFIC ABNORMAL F...   \n",
       "2  any abnormal condition of the body or mind tha...   \n",
       "\n",
       "                                             chapter  \n",
       "0  DISEASES OF THE NERVOUS SYSTEM AND SENSE ORGAN...  \n",
       "1  NEOPLASMS;SYMPTOMS, SIGNS, AND ILL-DEFINED CON...  \n",
       "2  DISEASES OF THE MUSCULOSKELETAL SYSTEM AND CON...  "
      ]
     },
     "metadata": {},
     "output_type": "display_data"
    }
   ],
   "source": [
    "# Add multi-label examples to the dataframe (normal distribution with a mean of 6 labels per example [min 1, max 12])\n",
    "\n",
    "def multi_sample(code_count, sample_count):\n",
    "    new_rows = []\n",
    "    for i in range(sample_count):\n",
    "        code_samples = list(map(str.strip, random.sample(chapter_codes, code_count)))\n",
    "        item = {'description': '', 'chapter': ';'.join(code_samples)}\n",
    "        desciption_list = []\n",
    "        for chapter in code_samples:\n",
    "            sample = ft_df[ft_df['chapter']==chapter].sample(1)\n",
    "            desciption_list.append(sample['description'].values[0])\n",
    "\n",
    "        item['description'] = ','.join(desciption_list)   \n",
    "        new_rows.append(item)\n",
    "    return new_rows\n",
    "\n",
    "\n",
    "# TEST\n",
    "new_rows = multi_sample(6, 3)\n",
    "display(pd.DataFrame(new_rows))"
   ]
  },
  {
   "cell_type": "code",
   "execution_count": 165,
   "metadata": {},
   "outputs": [
    {
     "name": "stdout",
     "output_type": "stream",
     "text": [
      "(5918, 2)\n"
     ]
    },
    {
     "data": {
      "text/html": [
       "<div>\n",
       "<style scoped>\n",
       "    .dataframe tbody tr th:only-of-type {\n",
       "        vertical-align: middle;\n",
       "    }\n",
       "\n",
       "    .dataframe tbody tr th {\n",
       "        vertical-align: top;\n",
       "    }\n",
       "\n",
       "    .dataframe thead th {\n",
       "        text-align: right;\n",
       "    }\n",
       "</style>\n",
       "<table border=\"1\" class=\"dataframe\">\n",
       "  <thead>\n",
       "    <tr style=\"text-align: right;\">\n",
       "      <th></th>\n",
       "      <th>description</th>\n",
       "      <th>chapter</th>\n",
       "    </tr>\n",
       "  </thead>\n",
       "  <tbody>\n",
       "    <tr>\n",
       "      <th>759</th>\n",
       "      <td>inflammatory rheumatism</td>\n",
       "      <td>DISEASES OF THE CIRCULATORY SYSTEM</td>\n",
       "    </tr>\n",
       "    <tr>\n",
       "      <th>4844</th>\n",
       "      <td>pneumoconiosis,NONSPECIFIC ABNORMAL FINDINGS ,...</td>\n",
       "      <td>DISEASES OF THE RESPIRATORY SYSTEM;SYMPTOMS, S...</td>\n",
       "    </tr>\n",
       "    <tr>\n",
       "      <th>4190</th>\n",
       "      <td>patient is currently pregnant.,top term headin...</td>\n",
       "      <td>COMPLICATIONS OF PREGNANCY, CHILDBIRTH, AND TH...</td>\n",
       "    </tr>\n",
       "    <tr>\n",
       "      <th>2613</th>\n",
       "      <td>disorder of ear, unspecified,coagulation defec...</td>\n",
       "      <td>DISEASES OF THE NERVOUS SYSTEM AND SENSE ORGAN...</td>\n",
       "    </tr>\n",
       "    <tr>\n",
       "      <th>561</th>\n",
       "      <td>disorder of hemostatic system</td>\n",
       "      <td>DISEASES OF THE BLOOD AND BLOOD-FORMING ORGANS</td>\n",
       "    </tr>\n",
       "    <tr>\n",
       "      <th>4645</th>\n",
       "      <td>all deaths reported in a given population.,dis...</td>\n",
       "      <td>CERTAIN CONDITIONS ORIGINATING IN THE PERINATA...</td>\n",
       "    </tr>\n",
       "    <tr>\n",
       "      <th>2094</th>\n",
       "      <td>a genus of the family chlamydiaceae whose spec...</td>\n",
       "      <td>INFECTIOUS AND PARASITIC DISEASES;DISEASES OF ...</td>\n",
       "    </tr>\n",
       "    <tr>\n",
       "      <th>1833</th>\n",
       "      <td>RHEUMATISM, EXCLUDING THE BACK ,disorder of ma...</td>\n",
       "      <td>DISEASES OF THE MUSCULOSKELETAL SYSTEM AND CON...</td>\n",
       "    </tr>\n",
       "    <tr>\n",
       "      <th>2343</th>\n",
       "      <td>diseases,OTHER CONDITIONS ORIGINATING IN THE P...</td>\n",
       "      <td>DISEASES OF THE MUSCULOSKELETAL SYSTEM AND CON...</td>\n",
       "    </tr>\n",
       "    <tr>\n",
       "      <th>54</th>\n",
       "      <td>hiv infection</td>\n",
       "      <td>INFECTIOUS AND PARASITIC DISEASES</td>\n",
       "    </tr>\n",
       "  </tbody>\n",
       "</table>\n",
       "</div>"
      ],
      "text/plain": [
       "                                            description  \\\n",
       "759                             inflammatory rheumatism   \n",
       "4844  pneumoconiosis,NONSPECIFIC ABNORMAL FINDINGS ,...   \n",
       "4190  patient is currently pregnant.,top term headin...   \n",
       "2613  disorder of ear, unspecified,coagulation defec...   \n",
       "561                       disorder of hemostatic system   \n",
       "4645  all deaths reported in a given population.,dis...   \n",
       "2094  a genus of the family chlamydiaceae whose spec...   \n",
       "1833  RHEUMATISM, EXCLUDING THE BACK ,disorder of ma...   \n",
       "2343  diseases,OTHER CONDITIONS ORIGINATING IN THE P...   \n",
       "54                                        hiv infection   \n",
       "\n",
       "                                                chapter  \n",
       "759                  DISEASES OF THE CIRCULATORY SYSTEM  \n",
       "4844  DISEASES OF THE RESPIRATORY SYSTEM;SYMPTOMS, S...  \n",
       "4190  COMPLICATIONS OF PREGNANCY, CHILDBIRTH, AND TH...  \n",
       "2613  DISEASES OF THE NERVOUS SYSTEM AND SENSE ORGAN...  \n",
       "561      DISEASES OF THE BLOOD AND BLOOD-FORMING ORGANS  \n",
       "4645  CERTAIN CONDITIONS ORIGINATING IN THE PERINATA...  \n",
       "2094  INFECTIOUS AND PARASITIC DISEASES;DISEASES OF ...  \n",
       "1833  DISEASES OF THE MUSCULOSKELETAL SYSTEM AND CON...  \n",
       "2343  DISEASES OF THE MUSCULOSKELETAL SYSTEM AND CON...  \n",
       "54                    INFECTIOUS AND PARASITIC DISEASES  "
      ]
     },
     "metadata": {},
     "output_type": "display_data"
    }
   ],
   "source": [
    "# Add multi-label examples to the dataframe\n",
    "# TODO: Add data according to the distribution of the MIMIC-III dataset\n",
    "\n",
    "ft_df = pd.concat([ft_df, pd.DataFrame(multi_sample(2,150))], ignore_index=True)\n",
    "ft_df = pd.concat([ft_df, pd.DataFrame(multi_sample(3,200))], ignore_index=True)\n",
    "ft_df = pd.concat([ft_df, pd.DataFrame(multi_sample(4,300))], ignore_index=True)\n",
    "ft_df = pd.concat([ft_df, pd.DataFrame(multi_sample(5,500))], ignore_index=True)\n",
    "ft_df = pd.concat([ft_df, pd.DataFrame(multi_sample(6,1000))], ignore_index=True)\n",
    "ft_df = pd.concat([ft_df, pd.DataFrame(multi_sample(7,600))], ignore_index=True)\n",
    "ft_df = pd.concat([ft_df, pd.DataFrame(multi_sample(8,500))], ignore_index=True)\n",
    "ft_df = pd.concat([ft_df, pd.DataFrame(multi_sample(9,400))], ignore_index=True)\n",
    "ft_df = pd.concat([ft_df, pd.DataFrame(multi_sample(10,300))], ignore_index=True)\n",
    "ft_df = pd.concat([ft_df, pd.DataFrame(multi_sample(11,200))], ignore_index=True)\n",
    "ft_df = pd.concat([ft_df, pd.DataFrame(multi_sample(12,150))], ignore_index=True)"
   ]
  },
  {
   "cell_type": "code",
   "execution_count": 167,
   "metadata": {},
   "outputs": [
    {
     "name": "stdout",
     "output_type": "stream",
     "text": [
      "(5918, 2)\n"
     ]
    },
    {
     "data": {
      "text/html": [
       "<div>\n",
       "<style scoped>\n",
       "    .dataframe tbody tr th:only-of-type {\n",
       "        vertical-align: middle;\n",
       "    }\n",
       "\n",
       "    .dataframe tbody tr th {\n",
       "        vertical-align: top;\n",
       "    }\n",
       "\n",
       "    .dataframe thead th {\n",
       "        text-align: right;\n",
       "    }\n",
       "</style>\n",
       "<table border=\"1\" class=\"dataframe\">\n",
       "  <thead>\n",
       "    <tr style=\"text-align: right;\">\n",
       "      <th></th>\n",
       "      <th>description</th>\n",
       "      <th>chapter</th>\n",
       "    </tr>\n",
       "  </thead>\n",
       "  <tbody>\n",
       "    <tr>\n",
       "      <th>3487</th>\n",
       "      <td>a primary or metastatic malignant neoplasm involving the lip.,the status during which female mammals carry their developing young (embryos or fetuses) in utero before birth, beginning from fertilization to birth.,the proportion of patients with a particular disease during a given year per given unit of population.,aplastic anaemia,fracture of skull,INFECTIONS OF SKIN AND SUBCUTANEOUS TISSUE</td>\n",
       "      <td>NEOPLASMS;COMPLICATIONS OF PREGNANCY, CHILDBIRTH, AND THE PUERPERIUM;SYMPTOMS, SIGNS, AND ILL-DEFINED CONDITIONS;DISEASES OF THE BLOOD AND BLOOD-FORMING ORGANS;INJURY AND POISONING;DISEASES OF THE SKIN AND SUBCUTANEOUS TISSUE</td>\n",
       "    </tr>\n",
       "    <tr>\n",
       "      <th>5493</th>\n",
       "      <td>peripheral neuropathy,patient currently pregnant,bacterial infection of unspecified site,deficiency anaemia,neoplasm malignant,an abnormality of the nervous system that is present at birth or detected in the neonatal period.,fracture of lower leg,disorders of any of the organs that are associated with ingestion, digestion, and absorption of food.,disorder of the circulatory system,cartilage disorders</td>\n",
       "      <td>DISEASES OF THE NERVOUS SYSTEM AND SENSE ORGANS;COMPLICATIONS OF PREGNANCY, CHILDBIRTH, AND THE PUERPERIUM;INFECTIOUS AND PARASITIC DISEASES;DISEASES OF THE BLOOD AND BLOOD-FORMING ORGANS;NEOPLASMS;CONGENITAL ANOMALIES;INJURY AND POISONING;DISEASES OF THE DIGESTIVE SYSTEM;DISEASES OF THE CIRCULATORY SYSTEM;DISEASES OF THE MUSCULOSKELETAL SYSTEM AND CONNECTIVE TISSUE</td>\n",
       "    </tr>\n",
       "    <tr>\n",
       "      <th>5389</th>\n",
       "      <td>congenital abnormality of urinary system,infection by treponema pallidum,osteopathia,disorder of pulmonary circulation,top term heading for all specific disorders and diseases; a disease is a deviation from or interruption of the normal structure or function of any part, organ or system (or combination thereof) of the body that is manifested by a characteristic set of symptoms and signs; a disorder is a derangement or abnormality of function.,nutritional deficiency, unspecified,NEUROTIC DISORDERS, PERSONALITY DISORDERS, AND OTHER NONPSYCHOTIC MENTAL DISORDERS ,NEOPLASMS ,disorders,disorders of any of the organs that are associated with ingestion, digestion, and absorption of food.</td>\n",
       "      <td>CONGENITAL ANOMALIES;INFECTIOUS AND PARASITIC DISEASES;DISEASES OF THE MUSCULOSKELETAL SYSTEM AND CONNECTIVE TISSUE;DISEASES OF THE CIRCULATORY SYSTEM;DISEASES OF THE GENITOURINARY SYSTEM;ENDOCRINE, NUTRITIONAL AND METABOLIC DISEASES, AND IMMUNITY DISORDERS;MENTAL DISORDERS;NEOPLASMS;DISEASES OF THE SKIN AND SUBCUTANEOUS TISSUE;DISEASES OF THE DIGESTIVE SYSTEM</td>\n",
       "    </tr>\n",
       "    <tr>\n",
       "      <th>5349</th>\n",
       "      <td>infectious and parasitic diseases,clinical disease and/or syndrome,hereditary hemolytic anemias,the proportion of deaths occurring in a population over a specified time.,OTHER MATERNAL AND FETAL COMPLICATIONS ,neurotic disorder,neurological disorder nos,the proportion of deaths occurring in a population over a specified time.,abdominal hernia,NUTRITIONAL DEFICIENCIES</td>\n",
       "      <td>INFECTIOUS AND PARASITIC DISEASES;DISEASES OF THE SKIN AND SUBCUTANEOUS TISSUE;DISEASES OF THE BLOOD AND BLOOD-FORMING ORGANS;SYMPTOMS, SIGNS, AND ILL-DEFINED CONDITIONS;COMPLICATIONS OF PREGNANCY, CHILDBIRTH, AND THE PUERPERIUM;MENTAL DISORDERS;DISEASES OF THE NERVOUS SYSTEM AND SENSE ORGANS;CERTAIN CONDITIONS ORIGINATING IN THE PERINATAL PERIOD;DISEASES OF THE DIGESTIVE SYSTEM;ENDOCRINE, NUTRITIONAL AND METABOLIC DISEASES, AND IMMUNITY DISORDERS</td>\n",
       "    </tr>\n",
       "    <tr>\n",
       "      <th>1294</th>\n",
       "      <td>structural or functional abnormalities of the central or peripheral nervous system existing at birth and often before birth, resulting primarily from defects of embryogenesis.</td>\n",
       "      <td>CONGENITAL ANOMALIES</td>\n",
       "    </tr>\n",
       "    <tr>\n",
       "      <th>4373</th>\n",
       "      <td>FRACTURE OF UPPER LIMB ,ihd,any of a variety of disorders marked by inflammation, degeneration, or metabolic derangement of the connective tissue structures of the body, especially the joints and related structures, including muscles, bursae, tendons, and fibrous tissue.,unspecified infectious and parasitic diseases,chronic obstructive airway disease,character neurosis nos,any abnormal condition of the body or mind that causes discomfort, dysfunction, or distress to the person affected or those in contact with the person. the term is often used broadly to include injuries, disabilities, syndromes, symptoms, deviant behaviors, and atypical variations of structure and function.,pathological processes involving the male reproductive tract (genitalia, male).</td>\n",
       "      <td>INJURY AND POISONING;DISEASES OF THE CIRCULATORY SYSTEM;DISEASES OF THE MUSCULOSKELETAL SYSTEM AND CONNECTIVE TISSUE;INFECTIOUS AND PARASITIC DISEASES;DISEASES OF THE RESPIRATORY SYSTEM;MENTAL DISORDERS;ENDOCRINE, NUTRITIONAL AND METABOLIC DISEASES, AND IMMUNITY DISORDERS;DISEASES OF THE GENITOURINARY SYSTEM</td>\n",
       "    </tr>\n",
       "    <tr>\n",
       "      <th>2407</th>\n",
       "      <td>chronic airway obstruction,INFECTIONS OF SKIN AND SUBCUTANEOUS TISSUE ,neurological disorder nos,ischaemia myocardial,a non-neoplastic or neoplastic disorder that affects the esophagus. representative examples of non-neoplastic disorders include esophagitis and esophageal ulcer. representative examples of neoplastic disorders include carcinomas, lymphomas, and melanomas.</td>\n",
       "      <td>DISEASES OF THE RESPIRATORY SYSTEM;DISEASES OF THE SKIN AND SUBCUTANEOUS TISSUE;DISEASES OF THE NERVOUS SYSTEM AND SENSE ORGANS;DISEASES OF THE CIRCULATORY SYSTEM;DISEASES OF THE DIGESTIVE SYSTEM</td>\n",
       "    </tr>\n",
       "    <tr>\n",
       "      <th>5892</th>\n",
       "      <td>cartilage disorder,helminthosis,disorder,patient is currently pregnant.,oesophageal disorder,disorders of the peripheral nervous system,neoplasm malignant,NEUROTIC DISORDERS, PERSONALITY DISORDERS, AND OTHER NONPSYCHOTIC MENTAL DISORDERS ,generalized arterial disease,nephrosis,intracranial injury,the proportion of deaths occurring in a population over a specified time.</td>\n",
       "      <td>DISEASES OF THE MUSCULOSKELETAL SYSTEM AND CONNECTIVE TISSUE;INFECTIOUS AND PARASITIC DISEASES;ENDOCRINE, NUTRITIONAL AND METABOLIC DISEASES, AND IMMUNITY DISORDERS;COMPLICATIONS OF PREGNANCY, CHILDBIRTH, AND THE PUERPERIUM;DISEASES OF THE DIGESTIVE SYSTEM;DISEASES OF THE NERVOUS SYSTEM AND SENSE ORGANS;NEOPLASMS;MENTAL DISORDERS;DISEASES OF THE CIRCULATORY SYSTEM;DISEASES OF THE GENITOURINARY SYSTEM;INJURY AND POISONING;CERTAIN CONDITIONS ORIGINATING IN THE PERINATAL PERIOD</td>\n",
       "    </tr>\n",
       "    <tr>\n",
       "      <th>2784</th>\n",
       "      <td>NEOPLASMS OF UNSPECIFIED NATURE ,congenital anomaly nos of urinary system,nutritional deficiency, unspecified,disorder circulatory system,chondropathies,pregnancy nos</td>\n",
       "      <td>NEOPLASMS;CONGENITAL ANOMALIES;ENDOCRINE, NUTRITIONAL AND METABOLIC DISEASES, AND IMMUNITY DISORDERS;DISEASES OF THE CIRCULATORY SYSTEM;DISEASES OF THE MUSCULOSKELETAL SYSTEM AND CONNECTIVE TISSUE;COMPLICATIONS OF PREGNANCY, CHILDBIRTH, AND THE PUERPERIUM</td>\n",
       "    </tr>\n",
       "    <tr>\n",
       "      <th>5249</th>\n",
       "      <td>hiv infection,ear disorder nos,leg fracture,patient is currently pregnant.,anomaly congenital,disorder,the collection of organs and tissues, including the ovaries, genital tract, and breasts, that have several functions, including sexual maturation, pregnancy, and childbirth.,disorder cerebrovascular,DISEASES OF THE SKIN AND SUBCUTANEOUS TISSUE</td>\n",
       "      <td>INFECTIOUS AND PARASITIC DISEASES;DISEASES OF THE NERVOUS SYSTEM AND SENSE ORGANS;INJURY AND POISONING;COMPLICATIONS OF PREGNANCY, CHILDBIRTH, AND THE PUERPERIUM;CONGENITAL ANOMALIES;ENDOCRINE, NUTRITIONAL AND METABOLIC DISEASES, AND IMMUNITY DISORDERS;DISEASES OF THE GENITOURINARY SYSTEM;DISEASES OF THE CIRCULATORY SYSTEM;DISEASES OF THE SKIN AND SUBCUTANEOUS TISSUE</td>\n",
       "    </tr>\n",
       "  </tbody>\n",
       "</table>\n",
       "</div>"
      ],
      "text/plain": [
       "                                                                                                                                                                                                                                                                                                                                                                                                                                                                                                                                                                                                                                                                                                                                                                                       description  \\\n",
       "3487                                                                                                                                                                                                                                                                                                                                                                                    a primary or metastatic malignant neoplasm involving the lip.,the status during which female mammals carry their developing young (embryos or fetuses) in utero before birth, beginning from fertilization to birth.,the proportion of patients with a particular disease during a given year per given unit of population.,aplastic anaemia,fracture of skull,INFECTIONS OF SKIN AND SUBCUTANEOUS TISSUE    \n",
       "5493                                                                                                                                                                                                                                                                                                                                                                           peripheral neuropathy,patient currently pregnant,bacterial infection of unspecified site,deficiency anaemia,neoplasm malignant,an abnormality of the nervous system that is present at birth or detected in the neonatal period.,fracture of lower leg,disorders of any of the organs that are associated with ingestion, digestion, and absorption of food.,disorder of the circulatory system,cartilage disorders   \n",
       "5389                                                                             congenital abnormality of urinary system,infection by treponema pallidum,osteopathia,disorder of pulmonary circulation,top term heading for all specific disorders and diseases; a disease is a deviation from or interruption of the normal structure or function of any part, organ or system (or combination thereof) of the body that is manifested by a characteristic set of symptoms and signs; a disorder is a derangement or abnormality of function.,nutritional deficiency, unspecified,NEUROTIC DISORDERS, PERSONALITY DISORDERS, AND OTHER NONPSYCHOTIC MENTAL DISORDERS ,NEOPLASMS ,disorders,disorders of any of the organs that are associated with ingestion, digestion, and absorption of food.   \n",
       "5349                                                                                                                                                                                                                                                                                                                                                                                                            infectious and parasitic diseases,clinical disease and/or syndrome,hereditary hemolytic anemias,the proportion of deaths occurring in a population over a specified time.,OTHER MATERNAL AND FETAL COMPLICATIONS ,neurotic disorder,neurological disorder nos,the proportion of deaths occurring in a population over a specified time.,abdominal hernia,NUTRITIONAL DEFICIENCIES    \n",
       "1294                                                                                                                                                                                                                                                                                                                                                                                                                                                                                                                                                                                                               structural or functional abnormalities of the central or peripheral nervous system existing at birth and often before birth, resulting primarily from defects of embryogenesis.   \n",
       "4373  FRACTURE OF UPPER LIMB ,ihd,any of a variety of disorders marked by inflammation, degeneration, or metabolic derangement of the connective tissue structures of the body, especially the joints and related structures, including muscles, bursae, tendons, and fibrous tissue.,unspecified infectious and parasitic diseases,chronic obstructive airway disease,character neurosis nos,any abnormal condition of the body or mind that causes discomfort, dysfunction, or distress to the person affected or those in contact with the person. the term is often used broadly to include injuries, disabilities, syndromes, symptoms, deviant behaviors, and atypical variations of structure and function.,pathological processes involving the male reproductive tract (genitalia, male).   \n",
       "2407                                                                                                                                                                                                                                                                                                                                                                                                         chronic airway obstruction,INFECTIONS OF SKIN AND SUBCUTANEOUS TISSUE ,neurological disorder nos,ischaemia myocardial,a non-neoplastic or neoplastic disorder that affects the esophagus. representative examples of non-neoplastic disorders include esophagitis and esophageal ulcer. representative examples of neoplastic disorders include carcinomas, lymphomas, and melanomas.   \n",
       "5892                                                                                                                                                                                                                                                                                                                                                                                                           cartilage disorder,helminthosis,disorder,patient is currently pregnant.,oesophageal disorder,disorders of the peripheral nervous system,neoplasm malignant,NEUROTIC DISORDERS, PERSONALITY DISORDERS, AND OTHER NONPSYCHOTIC MENTAL DISORDERS ,generalized arterial disease,nephrosis,intracranial injury,the proportion of deaths occurring in a population over a specified time.   \n",
       "2784                                                                                                                                                                                                                                                                                                                                                                                                                                                                                                                                                                                                                        NEOPLASMS OF UNSPECIFIED NATURE ,congenital anomaly nos of urinary system,nutritional deficiency, unspecified,disorder circulatory system,chondropathies,pregnancy nos   \n",
       "5249                                                                                                                                                                                                                                                                                                                                                                                                                                   hiv infection,ear disorder nos,leg fracture,patient is currently pregnant.,anomaly congenital,disorder,the collection of organs and tissues, including the ovaries, genital tract, and breasts, that have several functions, including sexual maturation, pregnancy, and childbirth.,disorder cerebrovascular,DISEASES OF THE SKIN AND SUBCUTANEOUS TISSUE    \n",
       "\n",
       "                                                                                                                                                                                                                                                                                                                                                                                                                                                                                              chapter  \n",
       "3487                                                                                                                                                                                                                                                                NEOPLASMS;COMPLICATIONS OF PREGNANCY, CHILDBIRTH, AND THE PUERPERIUM;SYMPTOMS, SIGNS, AND ILL-DEFINED CONDITIONS;DISEASES OF THE BLOOD AND BLOOD-FORMING ORGANS;INJURY AND POISONING;DISEASES OF THE SKIN AND SUBCUTANEOUS TISSUE  \n",
       "5493                                                                                                                 DISEASES OF THE NERVOUS SYSTEM AND SENSE ORGANS;COMPLICATIONS OF PREGNANCY, CHILDBIRTH, AND THE PUERPERIUM;INFECTIOUS AND PARASITIC DISEASES;DISEASES OF THE BLOOD AND BLOOD-FORMING ORGANS;NEOPLASMS;CONGENITAL ANOMALIES;INJURY AND POISONING;DISEASES OF THE DIGESTIVE SYSTEM;DISEASES OF THE CIRCULATORY SYSTEM;DISEASES OF THE MUSCULOSKELETAL SYSTEM AND CONNECTIVE TISSUE  \n",
       "5389                                                                                                                       CONGENITAL ANOMALIES;INFECTIOUS AND PARASITIC DISEASES;DISEASES OF THE MUSCULOSKELETAL SYSTEM AND CONNECTIVE TISSUE;DISEASES OF THE CIRCULATORY SYSTEM;DISEASES OF THE GENITOURINARY SYSTEM;ENDOCRINE, NUTRITIONAL AND METABOLIC DISEASES, AND IMMUNITY DISORDERS;MENTAL DISORDERS;NEOPLASMS;DISEASES OF THE SKIN AND SUBCUTANEOUS TISSUE;DISEASES OF THE DIGESTIVE SYSTEM  \n",
       "5349                              INFECTIOUS AND PARASITIC DISEASES;DISEASES OF THE SKIN AND SUBCUTANEOUS TISSUE;DISEASES OF THE BLOOD AND BLOOD-FORMING ORGANS;SYMPTOMS, SIGNS, AND ILL-DEFINED CONDITIONS;COMPLICATIONS OF PREGNANCY, CHILDBIRTH, AND THE PUERPERIUM;MENTAL DISORDERS;DISEASES OF THE NERVOUS SYSTEM AND SENSE ORGANS;CERTAIN CONDITIONS ORIGINATING IN THE PERINATAL PERIOD;DISEASES OF THE DIGESTIVE SYSTEM;ENDOCRINE, NUTRITIONAL AND METABOLIC DISEASES, AND IMMUNITY DISORDERS  \n",
       "1294                                                                                                                                                                                                                                                                                                                                                                                                                                                                             CONGENITAL ANOMALIES  \n",
       "4373                                                                                                                                                                            INJURY AND POISONING;DISEASES OF THE CIRCULATORY SYSTEM;DISEASES OF THE MUSCULOSKELETAL SYSTEM AND CONNECTIVE TISSUE;INFECTIOUS AND PARASITIC DISEASES;DISEASES OF THE RESPIRATORY SYSTEM;MENTAL DISORDERS;ENDOCRINE, NUTRITIONAL AND METABOLIC DISEASES, AND IMMUNITY DISORDERS;DISEASES OF THE GENITOURINARY SYSTEM  \n",
       "2407                                                                                                                                                                                                                                                                                              DISEASES OF THE RESPIRATORY SYSTEM;DISEASES OF THE SKIN AND SUBCUTANEOUS TISSUE;DISEASES OF THE NERVOUS SYSTEM AND SENSE ORGANS;DISEASES OF THE CIRCULATORY SYSTEM;DISEASES OF THE DIGESTIVE SYSTEM  \n",
       "5892  DISEASES OF THE MUSCULOSKELETAL SYSTEM AND CONNECTIVE TISSUE;INFECTIOUS AND PARASITIC DISEASES;ENDOCRINE, NUTRITIONAL AND METABOLIC DISEASES, AND IMMUNITY DISORDERS;COMPLICATIONS OF PREGNANCY, CHILDBIRTH, AND THE PUERPERIUM;DISEASES OF THE DIGESTIVE SYSTEM;DISEASES OF THE NERVOUS SYSTEM AND SENSE ORGANS;NEOPLASMS;MENTAL DISORDERS;DISEASES OF THE CIRCULATORY SYSTEM;DISEASES OF THE GENITOURINARY SYSTEM;INJURY AND POISONING;CERTAIN CONDITIONS ORIGINATING IN THE PERINATAL PERIOD  \n",
       "2784                                                                                                                                                                                                                                  NEOPLASMS;CONGENITAL ANOMALIES;ENDOCRINE, NUTRITIONAL AND METABOLIC DISEASES, AND IMMUNITY DISORDERS;DISEASES OF THE CIRCULATORY SYSTEM;DISEASES OF THE MUSCULOSKELETAL SYSTEM AND CONNECTIVE TISSUE;COMPLICATIONS OF PREGNANCY, CHILDBIRTH, AND THE PUERPERIUM  \n",
       "5249                                                                                                                INFECTIOUS AND PARASITIC DISEASES;DISEASES OF THE NERVOUS SYSTEM AND SENSE ORGANS;INJURY AND POISONING;COMPLICATIONS OF PREGNANCY, CHILDBIRTH, AND THE PUERPERIUM;CONGENITAL ANOMALIES;ENDOCRINE, NUTRITIONAL AND METABOLIC DISEASES, AND IMMUNITY DISORDERS;DISEASES OF THE GENITOURINARY SYSTEM;DISEASES OF THE CIRCULATORY SYSTEM;DISEASES OF THE SKIN AND SUBCUTANEOUS TISSUE  "
      ]
     },
     "metadata": {},
     "output_type": "display_data"
    }
   ],
   "source": [
    "print(ft_df.shape)\n",
    "display(ft_df.sample(10))"
   ]
  },
  {
   "cell_type": "code",
   "execution_count": null,
   "metadata": {},
   "outputs": [],
   "source": [
    "# define system prompt\n",
    "# system prompt will be a constant in all examples\n",
    "sys = 'Classify the following text into an ICD9 code chapter. The text is a clinical note from a patient medical record. ### You must choose from the following semi-colon delimited list of codes:{0} ### RESPOND ONLY WITH A CODE FROM THE LIST ABOVE.'.format('; '.join(chapter_codes))\n",
    "print(dedent(sys))"
   ]
  },
  {
   "cell_type": "code",
   "execution_count": 110,
   "metadata": {},
   "outputs": [
    {
     "data": {
      "text/plain": [
       "0    {'messages': [{'role': 'user', 'content': 'INF...\n",
       "1    {'messages': [{'role': 'user', 'content': 'inf...\n",
       "2    {'messages': [{'role': 'user', 'content': 'uns...\n",
       "3    {'messages': [{'role': 'user', 'content': 'inf...\n",
       "4    {'messages': [{'role': 'user', 'content': 'INT...\n",
       "5    {'messages': [{'role': 'user', 'content': 'int...\n",
       "6    {'messages': [{'role': 'user', 'content': 'int...\n",
       "7    {'messages': [{'role': 'user', 'content': 'int...\n",
       "8    {'messages': [{'role': 'user', 'content': 'int...\n",
       "9    {'messages': [{'role': 'user', 'content': 'inf...\n",
       "dtype: object"
      ]
     },
     "metadata": {},
     "output_type": "display_data"
    }
   ],
   "source": [
    "# apply formatting to each row\n",
    "ft_df[\"chapter\"] = ft_df.chapter.apply(lambda x: {\"role\": \"assistant\", \"content\": x})\n",
    "ft_df[\"description\"] = ft_df.description.apply(lambda x: {\"role\": \"user\", \"content\": x})\n",
    "ft_df['sys'] = sys\n",
    "ft_df[\"sys\"] = ft_df.sys.apply(lambda x: {\"role\": \"system\", \"content\": x})\n",
    "\n",
    "out_df = pd.DataFrame()\n",
    "out_df = ft_df.apply(lambda x: {\"messages\": x.values}, axis=1)\n",
    "\n",
    "display(out_df.head(10))"
   ]
  },
  {
   "cell_type": "code",
   "execution_count": 111,
   "metadata": {},
   "outputs": [],
   "source": [
    "# write to file\n",
    "output_file_name = \"data/ft/training_data_L1toL2_multi.jsonl\"\n",
    "out_df.to_json(output_file_name, orient=\"records\", lines=True)"
   ]
  },
  {
   "cell_type": "markdown",
   "metadata": {},
   "source": [
    "---\n",
    "#### Examine the Dataset"
   ]
  },
  {
   "cell_type": "code",
   "execution_count": 112,
   "metadata": {},
   "outputs": [
    {
     "name": "stdout",
     "output_type": "stream",
     "text": [
      "(1618, 1)\n"
     ]
    }
   ],
   "source": [
    "df = pd.read_json(output_file_name, lines=True)\n",
    "print(df.shape)"
   ]
  },
  {
   "cell_type": "code",
   "execution_count": 113,
   "metadata": {},
   "outputs": [
    {
     "name": "stdout",
     "output_type": "stream",
     "text": [
      "code\n",
      "CONGENITAL ANOMALIES                                                      271\n",
      "INFECTIOUS AND PARASITIC DISEASES                                         243\n",
      "DISEASES OF THE BLOOD AND BLOOD-FORMING ORGANS                            177\n",
      "NEOPLASMS                                                                 155\n",
      "DISEASES OF THE CIRCULATORY SYSTEM                                        121\n",
      "INJURY AND POISONING                                                       92\n",
      "DISEASES OF THE GENITOURINARY SYSTEM                                       90\n",
      "DISEASES OF THE RESPIRATORY SYSTEM                                         84\n",
      "DISEASES OF THE DIGESTIVE SYSTEM                                           75\n",
      "DISEASES OF THE NERVOUS SYSTEM AND SENSE ORGANS                            58\n",
      "MENTAL DISORDERS                                                           58\n",
      "ENDOCRINE, NUTRITIONAL AND METABOLIC DISEASES, AND IMMUNITY DISORDERS      56\n",
      "COMPLICATIONS OF PREGNANCY, CHILDBIRTH, AND THE PUERPERIUM                 49\n",
      "DISEASES OF THE MUSCULOSKELETAL SYSTEM AND CONNECTIVE TISSUE               46\n",
      "DISEASES OF THE SKIN AND SUBCUTANEOUS TISSUE                               26\n",
      "SYMPTOMS, SIGNS, AND ILL-DEFINED CONDITIONS                                10\n",
      "CERTAIN CONDITIONS ORIGINATING IN THE PERINATAL PERIOD                      7\n",
      "Name: count, dtype: int64\n"
     ]
    }
   ],
   "source": [
    "# Long tail problem no more\n",
    "\n",
    "df['code'] = df['messages'].apply(lambda x: x[1]['content'])\n",
    "print(df['code'].value_counts())"
   ]
  },
  {
   "cell_type": "code",
   "execution_count": null,
   "metadata": {},
   "outputs": [],
   "source": []
  }
 ],
 "metadata": {
  "kernelspec": {
   "display_name": "med_code",
   "language": "python",
   "name": "python3"
  },
  "language_info": {
   "codemirror_mode": {
    "name": "ipython",
    "version": 3
   },
   "file_extension": ".py",
   "mimetype": "text/x-python",
   "name": "python",
   "nbconvert_exporter": "python",
   "pygments_lexer": "ipython3",
   "version": "3.9.19"
  }
 },
 "nbformat": 4,
 "nbformat_minor": 2
}
