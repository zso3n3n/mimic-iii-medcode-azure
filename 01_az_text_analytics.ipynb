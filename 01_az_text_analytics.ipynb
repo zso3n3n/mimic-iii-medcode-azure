{
 "cells": [
  {
   "cell_type": "markdown",
   "metadata": {},
   "source": [
    "## Azure Text Analytics for Health\n",
    "  \n",
    "**Goal of this notebook:**\n",
    "- Extract medical concepts and the synonym terminology (according to UMLS) from the NOTEEVENT TEXT field in the mimic-iii dataser\n",
    "  \n",
    "The extracted data will be used to...\n",
    "- Build/Supplement a dataset for fine tuning\n",
    "- Supplement Note Text to improve Language Model (LM) understanding and reasoning for medical coding classification\n",
    "  \n",
    "**Requirements**\n",
    "- Setup [Azure Language Resource](https://learn.microsoft.com/en-us/azure/ai-services/language-service/text-analytics-for-health/overview?tabs=ner)\n",
    "- Setup [UMLS API](https://documentation.uts.nlm.nih.gov/rest/home.html) access\n",
    "- Populated .env file (see [.env.sample](./.env.sample))\n",
    "\n",
    "**Azure Text Analytics for Health**  \n",
    "  \n",
    "Text Analytics for health is one of the prebuilt features offered by Azure AI Language. It is a cloud-based API service that applies machine-learning intelligence to extract and label relevant medical information from a variety of unstructured texts such as doctor's notes, discharge summaries, clinical documents, and electronic health records.\n",
    "\n",
    "**UMLS Metathesaurus API**\n",
    "  \n",
    "The UMLS Metathesaurus is a large biomedical thesaurus that is organized by concept, or meaning. It links synonymous names from over 200 different source vocabularies. The Metathesaurus also identifies useful relationships between concepts and preserves the meanings, concept names, and relationships from each vocabulary. "
   ]
  },
  {
   "cell_type": "code",
   "execution_count": null,
   "metadata": {},
   "outputs": [],
   "source": [
    "from azure.ai.textanalytics import TextAnalyticsClient\n",
    "from azure.core.credentials import AzureKeyCredential\n",
    "from dotenv import load_dotenv, find_dotenv\n",
    "import pandas as pd\n",
    "import os \n",
    "import re\n",
    "import requests\n",
    "\n",
    "load_dotenv(find_dotenv(), override=True)\n",
    "\n",
    "key = os.getenv(\"LANGUAGE_KEY\")\n",
    "endpoint = os.getenv(\"LANGUAGE_ENDPOINT\")\n"
   ]
  },
  {
   "cell_type": "code",
   "execution_count": null,
   "metadata": {},
   "outputs": [],
   "source": [
    "# Read in a subsample of the Mimic-iii NOTEEVENTS.csv table\n",
    "data_folder = \"data/raw/\"\n",
    "note_events= pd.read_csv(data_folder + 'NOTEEVENTS.csv.gz', usecols=['HADM_ID','TEXT'], nrows=20000)"
   ]
  },
  {
   "cell_type": "markdown",
   "metadata": {},
   "source": [
    "#### Extract Medical Concepts with Azure Text Analytics"
   ]
  },
  {
   "cell_type": "code",
   "execution_count": null,
   "metadata": {},
   "outputs": [],
   "source": [
    "# Authenticate the client using your key and endpoint \n",
    "ta_credential = AzureKeyCredential(key)\n",
    "client = TextAnalyticsClient(\n",
    "        endpoint=endpoint, \n",
    "        credential=ta_credential)"
   ]
  },
  {
   "cell_type": "code",
   "execution_count": null,
   "metadata": {},
   "outputs": [],
   "source": [
    "# Simple Example function for extracting information from healthcare-related text \n",
    "\n",
    "def az_ta_fh(client, documents):\n",
    "    poller = client.begin_analyze_healthcare_entities(documents)\n",
    "    result = poller.result()\n",
    "\n",
    "    docs = [doc for doc in result if not doc.is_error]\n",
    "\n",
    "    for idx, doc in enumerate(docs):\n",
    "        for entity in doc.entities:\n",
    "            print(f\"{entity}\")\n",
    "        \n",
    "        for relation in doc.entity_relations:\n",
    "            print(f\"{relation}\")\n",
    "            for role in relation.roles:\n",
    "                print(f\"{role}\")\n",
    "\n",
    "\n",
    "\n",
    "documents = [\"Infectious and Parasitic Diseases\", \"Patient was given 50mg of ibuprofen\"]\n",
    "az_ta_fh(client, documents)"
   ]
  },
  {
   "cell_type": "code",
   "execution_count": null,
   "metadata": {},
   "outputs": [],
   "source": [
    "# Example with the Mimic-iii data NOTEEVENT TEXT column\n",
    "\n",
    "print(f\"*******NOTE******:\\n{note_events['TEXT'][0]}\\n******END NOTE********\\n\")\n",
    "\n",
    "mimic_docs = [note_events['TEXT'][0]]\n",
    "az_ta_fh(client, mimic_docs)\n",
    "\n",
    "''' \n",
    "NOTE: Filtering by entity.category can simplify results. For medical coding 'SymptonOrSign' and 'Diagnosis' are useful categories.\n",
    "For relations, 'ExaminationFindsCondition' and 'DirectionOfCondition' are useful categories.\n",
    "'''"
   ]
  },
  {
   "cell_type": "code",
   "execution_count": null,
   "metadata": {},
   "outputs": [],
   "source": [
    "# Get all UMLS concepts from the Azure Text Analytics API\n",
    "def get_umls_concepts(client, documents):\n",
    "    umls_concepts = []\n",
    "    poller = client.begin_analyze_healthcare_entities(documents)\n",
    "    result = poller.result()\n",
    "\n",
    "    docs = [doc for doc in result if not doc.is_error]\n",
    "\n",
    "    for idx, doc in enumerate(docs):\n",
    "        for entity in doc.entities:\n",
    "            if entity.data_sources and entity.category in ['SymptonOrSign', 'Diagnosis']:\n",
    "                for data_source in entity.data_sources:\n",
    "                    if data_source.name == \"UMLS\":\n",
    "                        umls_concepts.append((data_source.entity_id, entity.text))\n",
    "\n",
    "    return umls_concepts\n",
    "\n",
    "umls_concepts = get_umls_concepts(client, mimic_docs)\n",
    "print(umls_concepts)"
   ]
  },
  {
   "cell_type": "markdown",
   "metadata": {},
   "source": [
    "#### Supplement Medical Concepts with UMLS Metathesaurus"
   ]
  },
  {
   "cell_type": "code",
   "execution_count": null,
   "metadata": {},
   "outputs": [],
   "source": [
    "def get_umls_atoms(cuid):\n",
    "    synonyms = []\n",
    "    sabs = ['ICD10', 'ICD10CM', 'ICD9CM', 'SNOMEDCT_US', 'MDR']      \n",
    "    atom_uri = f\"https://uts-ws.nlm.nih.gov/rest/content/2024AA/CUI/{cuid}/atoms\"\n",
    "    page = 0  \n",
    "    try:   \n",
    "        while True:\n",
    "            page += 1\n",
    "            atom_query = {'apiKey':os.getenv(\"UMLS_API_KEY\"), 'pageNumber':page, 'language':'ENG', 'sabs': ','.join(sabs)}\n",
    "            a = requests.get(atom_uri, params=atom_query)\n",
    "            a.encoding = 'utf-8'\n",
    "            \n",
    "            if a.status_code != 200:\n",
    "                break\n",
    "\n",
    "            all_atoms = a.json()\n",
    "        \n",
    "            for atom in all_atoms['result']:\n",
    "                synonyms.append(re.sub(\"[\\(\\[].*?[\\)\\]]\", \"\", atom['name']).lower().rstrip())\n",
    "                #print(f'{atom}')\n",
    "\n",
    "            return synonyms\n",
    "            \n",
    "    except Exception as except_error:\n",
    "        print(except_error)\n",
    "        return\n",
    "\n",
    "\n",
    "synonyms = get_umls_atoms('C0033785')\n",
    "print(list(set(synonyms)))"
   ]
  },
  {
   "cell_type": "code",
   "execution_count": null,
   "metadata": {},
   "outputs": [],
   "source": [
    "# Get the UMLS concept definitions\n",
    "\n",
    "def umls_define(cuid):    \n",
    "    definitions = []\n",
    "    umls_uri = f\"https://uts-ws.nlm.nih.gov/rest/content/current/CUI/{cuid}/definitions\"\n",
    "    page = 0  \n",
    "    try:   \n",
    "        while True:\n",
    "            page += 1\n",
    "            query = {'apiKey':os.getenv(\"UMLS_API_KEY\"), 'pageNumber':page}\n",
    "            a = requests.get(umls_uri, params=query)\n",
    "            a.encoding = 'utf-8'\n",
    "            \n",
    "            if a.status_code != 200:\n",
    "                break\n",
    "            result = a.json()\n",
    "        \n",
    "            for value in result['result']:\n",
    "                definitions.append((value['value'].lower().rstrip(), value['rootSource']))\n",
    "                print(value['value'])\n",
    "                print(value['rootSource'])\n",
    "\n",
    "            return definitions\n",
    "            \n",
    "    except Exception as except_error:\n",
    "        print(except_error)\n",
    "        return\n",
    "    \n",
    "\n",
    "definitions = umls_define('C0033785')"
   ]
  }
 ],
 "metadata": {
  "kernelspec": {
   "display_name": "med_code",
   "language": "python",
   "name": "python3"
  },
  "language_info": {
   "codemirror_mode": {
    "name": "ipython",
    "version": 3
   },
   "file_extension": ".py",
   "mimetype": "text/x-python",
   "name": "python",
   "nbconvert_exporter": "python",
   "pygments_lexer": "ipython3",
   "version": "3.9.19"
  }
 },
 "nbformat": 4,
 "nbformat_minor": 2
}
