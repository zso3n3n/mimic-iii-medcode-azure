{
 "cells": [
  {
   "cell_type": "code",
   "execution_count": 1,
   "metadata": {},
   "outputs": [],
   "source": [
    "import pandas as pd"
   ]
  },
  {
   "cell_type": "code",
   "execution_count": null,
   "metadata": {},
   "outputs": [],
   "source": [
    "data_folder = \"data/raw/\"\n",
    "d_icd = pd.read_csv(data_folder + 'D_ICD_DIAGNOSES.csv.gz', usecols=['ICD9_CODE', 'SHORT_TITLE', 'LONG_TITLE']) # ICD Code lookup\n",
    "diagnoses = pd.read_csv(data_folder + 'DIAGNOSES_ICD.csv.gz', usecols=['HADM_ID', 'ICD9_CODE']) # Linkage between ICD codes and Note events\n",
    "drg = pd.read_csv(data_folder + 'DRGCODES.csv.gz', usecols=['HADM_ID','DESCRIPTION']) # DRG Codes\n",
    "# note_events= pd.read_csv(data_folder + 'NOTEEVENTS.csv.gz', usecols=['HADM_ID','TEXT'], nrows=300000) # Number of rows = 2,083,180 without filter # We will handle this later"
   ]
  },
  {
   "cell_type": "code",
   "execution_count": null,
   "metadata": {},
   "outputs": [],
   "source": [
    "# Data Sizes\n",
    "print(f\"D_ICD Shape: {d_icd.shape}\")\n",
    "print(f\"DIAGNOSES Shape: {diagnoses.shape}\")\n",
    "print(f\"DRG Shape: {drg.shape}\")\n",
    "print(f\"Note Events Shape: {note_events.shape}\")"
   ]
  },
  {
   "cell_type": "code",
   "execution_count": null,
   "metadata": {},
   "outputs": [],
   "source": [
    "# Schemas\n",
    "print(f\"D_ICD Schema: {d_icd.columns}\")\n",
    "print(f\"DIAGNOSES Schema: {diagnoses.columns}\")\n",
    "print(f\"DRG Schema: {drg.columns}\")\n",
    "print(f\"Note Events Schema: {note_events.columns}\")"
   ]
  },
  {
   "cell_type": "code",
   "execution_count": null,
   "metadata": {},
   "outputs": [],
   "source": [
    "# Explore NOTE EVENTS\n",
    "data_folder = \"data/raw/\"\n",
    "max_notes = 1\n",
    "single_notes = pd.DataFrame()\n",
    "\n",
    "for reader in pd.read_csv(data_folder + 'NOTEEVENTS.csv.gz', usecols=['HADM_ID','TEXT'], dtype={'text':str,'HADM_ID':'Int64'}, chunksize=400000):\n",
    "    # Get HADM_IDs with only one note\n",
    "    sub_df = reader[reader['HADM_ID'].map(reader['HADM_ID'].value_counts()) == max_notes]\n",
    "    single_notes = pd.concat([single_notes, sub_df])\n",
    "    sub_df.iloc[0:0]\n",
    "    reader.iloc[0:0]\n",
    "\n",
    "\n",
    "single_notes = single_notes[single_notes['HADM_ID'].map(single_notes['HADM_ID'].value_counts()) == max_notes]\n",
    "display(single_notes.head())\n",
    "print(single_notes.shape)"
   ]
  },
  {
   "cell_type": "code",
   "execution_count": null,
   "metadata": {},
   "outputs": [],
   "source": [
    "note_events['TEXT'] = note_events['TEXT'].apply(lambda x: \"\\\"\" + str(x) + \"\\\"\")\n",
    "diagnoses = diagnoses.groupby(['HADM_ID']).agg(tuple).map(list).reset_index()\n",
    "joined = note_events.join(diagnoses.set_index(\"HADM_ID\"), on=['HADM_ID'], how='inner')\n",
    "# joined = joined.join(drg.set_index('HADM_ID'), on='HADM_ID', how='inner').groupby(['HADM_ID','TEXT', 'ICD9_CODE']).agg(tuple).map(list).reset_index()\n",
    "# joined = joined.join(d_icd.set_index('ICD9_CODE'), on='ICD9_CODE', how='inner')"
   ]
  },
  {
   "cell_type": "code",
   "execution_count": null,
   "metadata": {},
   "outputs": [],
   "source": [
    "print(joined.columns)\n",
    "print(joined.shape)\n",
    "display(joined.head(20))"
   ]
  },
  {
   "cell_type": "code",
   "execution_count": null,
   "metadata": {},
   "outputs": [],
   "source": [
    "display(joined.loc[joined['HADM_ID'] == 100195])\n",
    "display(joined.loc[joined['HADM_ID'] == 100195]['TEXT'].values[0])\n",
    "display(len(joined.loc[joined['HADM_ID'] == 100195]['TEXT'].values[0]))"
   ]
  },
  {
   "cell_type": "code",
   "execution_count": null,
   "metadata": {},
   "outputs": [],
   "source": [
    "display(d_icd.loc[d_icd['ICD9_CODE'] == '1890'])"
   ]
  },
  {
   "cell_type": "code",
   "execution_count": null,
   "metadata": {},
   "outputs": [],
   "source": [
    "diagnoses.dtypes"
   ]
  },
  {
   "cell_type": "code",
   "execution_count": null,
   "metadata": {},
   "outputs": [],
   "source": [
    "def remove_evm_codes(df: pd.DataFrame) -> pd.DataFrame:\n",
    "    # Drop E, V, and M codes\n",
    "    df['ICD9_CODE'] = df['ICD9_CODE'].apply(lambda x: str(x))\n",
    "    output = df[~df['ICD9_CODE'].str.startswith(\"E\")]\n",
    "    output = output[~output['ICD9_CODE'].str.startswith(\"V\")]   \n",
    "    output = output[~output['ICD9_CODE'].str.startswith(\"M\")]\n",
    "    return output\n",
    "\n",
    "diagnoses = remove_evm_codes(diagnoses)\n",
    "print(diagnoses.head())"
   ]
  },
  {
   "cell_type": "code",
   "execution_count": null,
   "metadata": {},
   "outputs": [],
   "source": [
    "df = diagnoses[diagnoses.icd9_code != 0]"
   ]
  },
  {
   "cell_type": "markdown",
   "metadata": {},
   "source": [
    "## Look at Note Format"
   ]
  },
  {
   "cell_type": "code",
   "execution_count": 2,
   "metadata": {},
   "outputs": [
    {
     "data": {
      "text/html": [
       "<div>\n",
       "<style scoped>\n",
       "    .dataframe tbody tr th:only-of-type {\n",
       "        vertical-align: middle;\n",
       "    }\n",
       "\n",
       "    .dataframe tbody tr th {\n",
       "        vertical-align: top;\n",
       "    }\n",
       "\n",
       "    .dataframe thead th {\n",
       "        text-align: right;\n",
       "    }\n",
       "</style>\n",
       "<table border=\"1\" class=\"dataframe\">\n",
       "  <thead>\n",
       "    <tr style=\"text-align: right;\">\n",
       "      <th></th>\n",
       "      <th>HADM_ID</th>\n",
       "      <th>TEXT</th>\n",
       "      <th>ICD9_CODE</th>\n",
       "    </tr>\n",
       "  </thead>\n",
       "  <tbody>\n",
       "    <tr>\n",
       "      <th>0</th>\n",
       "      <td>100006</td>\n",
       "      <td>['Sinus tachycardia Left axis deviation anteri...</td>\n",
       "      <td>[203, 276]</td>\n",
       "    </tr>\n",
       "    <tr>\n",
       "      <th>1</th>\n",
       "      <td>100018</td>\n",
       "      <td>['Admission Date Discharge Date Date of Birth ...</td>\n",
       "      <td>[225, 250, 276, 278]</td>\n",
       "    </tr>\n",
       "    <tr>\n",
       "      <th>2</th>\n",
       "      <td>100020</td>\n",
       "      <td>[\"Admission Date Discharge Date Date of Birth ...</td>\n",
       "      <td>[41, 276]</td>\n",
       "    </tr>\n",
       "    <tr>\n",
       "      <th>3</th>\n",
       "      <td>100024</td>\n",
       "      <td>['Sinus rhythm AV conduction delay Tall peaked...</td>\n",
       "      <td>[274]</td>\n",
       "    </tr>\n",
       "    <tr>\n",
       "      <th>4</th>\n",
       "      <td>100030</td>\n",
       "      <td>[\"MSICU NURSING PROGRESS NOTE SEE CAREVIEW FOR...</td>\n",
       "      <td>[276]</td>\n",
       "    </tr>\n",
       "  </tbody>\n",
       "</table>\n",
       "</div>"
      ],
      "text/plain": [
       "   HADM_ID                                               TEXT  \\\n",
       "0   100006  ['Sinus tachycardia Left axis deviation anteri...   \n",
       "1   100018  ['Admission Date Discharge Date Date of Birth ...   \n",
       "2   100020  [\"Admission Date Discharge Date Date of Birth ...   \n",
       "3   100024  ['Sinus rhythm AV conduction delay Tall peaked...   \n",
       "4   100030  [\"MSICU NURSING PROGRESS NOTE SEE CAREVIEW FOR...   \n",
       "\n",
       "              ICD9_CODE  \n",
       "0            [203, 276]  \n",
       "1  [225, 250, 276, 278]  \n",
       "2             [41, 276]  \n",
       "3                 [274]  \n",
       "4                 [276]  "
      ]
     },
     "execution_count": 2,
     "metadata": {},
     "output_type": "execute_result"
    }
   ],
   "source": [
    "notes = pd.read_csv(\"data/joined/dataset_single_001_279.csv.gz\")\n",
    "notes.head()"
   ]
  },
  {
   "cell_type": "code",
   "execution_count": 5,
   "metadata": {},
   "outputs": [
    {
     "data": {
      "text/plain": [
       "'[\\'Admission Date Discharge Date Date of Birth Sex M Service MEDICINE Allergies Penicillins Keflex AttendingFirst Name LF Chief Complaint Upper extremity weakness Major Surgical or Invasive Procedure CC anterior cervical decompression and fusion C tumor removal History of Present Illness yearold man with diabetes mellitus type hypertension severe peripheral First Name LF disease sp R SFA stent angioplasty and L SFA stent placement congenital pulmonic valve stenosis CAD sp BMS stents diastolic CHF atrial fibrillation sp ablation on warfarin stage diabetic nephropathy intradural tumor compressing his spinal cord at CC who was admitted on to neurosurgery for anterior cervical decompression at C fusion and extradural tumor removal of C intradural tumor The patient was postoperatively managed in the ICU with a dexamethasone taper He developed a small subdural hematoma with no new neurologic symptom Aspirin and heparin SC were restarted Clopidogrel for L SFA stent is scheduled to be restarted on POD and warfarin for atrial fibrillation to be restarted on Patient was extubated on and is coming off a furosemide drip for dCHF MonthDay is following the patient for a mottled right foot and his recent MonthDay procedures Patient\\\\\\'s other medical issues diabetes HTN CKD Cr atrial fibrillation HRs ss CAD sp stent and \"chronic hyponatremia\" Na have been stable Transfer is requested for ongoing management of diastolic CHF On evaluation in the SICU before transfer patient was sleeping but arousable complaining of old back pain and of constipation Vital signs were stable with O saturation % on L Past Medical History Type diabetes mellitus requiring insulin and the complications from years of poor glycemic control hypertension severe peripheral MonthDay disease peripheral neuropathy pressure venous stasis and neuropathic ulcers on his right and left lower extremities stage diabetic nephropathy renal insufficiency baseline creatinine to Atrial fibrillation status post ablation and on coumadin Congenital pulmonic valve stenosis status post two childhood surgeries history of RV failure history of peripheral edema and anasarca Chronic hyponatremia Chronic low back pain status post car accident Spinal cord meningioma compressing his spinal cord at CC COPD Coronary artery disease status post stenting bare metal stent by Dr First Name NamePattern Last Name NamePattern TelephoneFax and repeat stenting at Hospital in bare metal stent see dc summary MI in Social History The patient is married and has two adult sons who do not live at home He lives in Hospital MA His wife works hours a week and he is left at home for most of the day He has been bedbound for several years A visiting nurse can only come once a week to change the dressings on his lower extremity ulcers His sons struggle with alcoholism and heroin abuse His younger son has recently threatened suicide and homicide against the patient\\\\\\'s wife a source of much stress at home He used to work as a \"bouncer\" and in construction and enjoyed riding his motorcycle The patient says he tries to keep a positive attitude about his condition He says he feels depressed but says he is not interested in therapy or medication for depression He has not seen his primary care physician Last Name NamePattern years because he will only travel in an ambulance but his PCP\\\\\\'s office is in touch with the patient and wife weekly Name NI has a pack per year smoking history for \"several years\" He drinks alcohol occasionally and has never had a problem with alcoholism He denies recreational or IV drug use Family History Heart disease in unspecificed family members Physical Exam Physical exam on admission Gen obese deconditioned pain with movement of extremities Extrem B LE edema Neuro Mental status Awake and alert cooperative with exam Language Speech fluent with good comprehension and repetition Naming intact No dysarthria or paraphasic errors Motor Patient with severe bilateral wasting of muscles of hand UE\\\\\\'s FI\\\\\\'s WE Grip Bi Tri RLE PFDF LLE IP PFDF Pertinent Results PM GLUCOSE UREA N CREAT SODIUM POTASSIUM CHLORIDE TOTAL CO ANION GAP PM estGFRUsing this PM WBC RBC HGB HCT MCV MCH MCHC RDW PM PLT COUNT IMAGING STUDIES Cspine Xray Single lateral view of the cervical spine obtained portably in the OR labeled C through the C disc space is visualized The C vertebral body is faintly seen bony structures lower than this are obscured by overlying soft tissues However surgical markers are seen overlying the anterior aspects of the C and C disc spaces from an anterior approach Support tubing and temperature probles noted Cspine CT New interval CC anterior fusion with intervertebral disc spacer no immediate hardware complication Postsurgical changes in the soft tissue with subcutaneous emphysema mostly in the right submandibular region Mass at C level with associated cord compression consistent with known meningioma better described on recent MRI Soft tissue thickening at the right lung apex not fully characterized on the current CT In comparison with CT neck from it has increased in size CT chest is recommended to evaluate this further if clinically warranted Head CT New interval left frontal subdural hyperdense extraaxial fluid collection with new interval subdural subfalcine extraaxial hyperdense fluid collection indicating subdural hemorrhage likely postsurgical but clinical correlation recommended Pneumocephalus with distribution at the basilar cisterns mostly at the left sylvian fissure and bifrontally at the falx likely postsurgical and additionally in the posterior fossa near the site of the occipital craniotomy Postsurgical changes with left craniotomy at the occipital bone and laminectomy at C with subcutaneous emphysema and hyperdense products likely postsurgical Soft tissue hyperdensity at the posterior parietal occipital soft tissue region could be small postsurgical hematoma Cspine MRI Status post resection of C extradural tumor likely meningioma with expectorated postoperative changes No large intraspinal hematoma seen There remains some persistent narrowing of the spinal canal at C level with indentation on the posterior aspect of the spinal cord Continued followup recommended Mild spinal cord atrophy could be secondary to chronic myelomalacia LE arterial Duplex The peak systolic velocity involving the native right common femoral artery is cmsec Velocities within the superficial femoral artery range from to cmsec and that within the popliteal artery on the right is cmsec On the left peak systolic velocity within the common femoral artery is cmsec SFA velocities range from cmsec and that within the popliteal artery is cmsec IMPRESSION Findings as stated above which indicate widely patent common femoral superficial femoral and popliteal arteries bilaterally PATHOLOGY C tumor Cervical medullary junction tumor Meningioma psammomatous subtype WHO Grade I The tumor is composed of meningothelial cells with numerous psammoma bodies and collagen deposition with no typical features or mitotic activity Brief Hospital Course yearold man with diabetes mellitus type severe peripheral MonthDayYear disease CAD diastolic CHF atrial fibrillation presented for planned anterior cervical decompression at C and removal of C meningioma Cervical myelopathy and meningioma Patient underwent anterior cervical decompression and C fusion on and removal of C meningioma on The patient was postoperatively managed in the ICU with a dexamethasone taper He developed a small subdural hematoma on with no new neurologic symptom Per neurosurgery recommendations aspirin and heparin SC were restarted Clopidogrel for recent left SFA stent was restarted on POD and warfarin for atrial fibrillation is to be restarted on Of note there was some concern that he had developed LE weakness after his procedure but after reevaluation with the neurosurgery team they felt that his strength in his legs were his baseline and this was not a change He continued to work with PT during his hospitalization Diastolic heart failure The patient experienced an acute exacerbation of his diastolic heart failure likely secondary to significant fluid administration during surgery He was placed on a furosemide gtt in the SICU which was transitioned to his home dose of lasix on the floor At discharge he was slightly under his admission weight of kg with O sats in the mid \\\\\\'s on room air Peripheral Date Range disease The patient recently underwent bilateral SFA angioplasties and Left SFA stenting In preparation for his neurosurgery the plavix was held preprocedure and was subsequently restarted on He underwent bilateral arterial ultrasound on which demonstrated patent SFA and femoral arteries Atrial fibrillation The patient was not in atrial fibrillation during his hospitalization Given his need for neurosurgery his coumadin was held It is scheduled to be restarted days postprocedure He was well rate controlled at the time of discharge DM II The patient\\\\\\'s insulin regimin was adjusted to units of insulin glargine nightly with humalog insulin sliding scale and achieved good control of his blood sugars FSBS Pressure ulcers The patient has a xcm right heel full thickness ulcer that was without odor or drainage A right dorsum small xcm partial thickness ulcer Wound care nursing consult was obtained Pressure ulcer care was performed by repositioning skin cleansing and conditioner application and cover with ABD and kerlex Coping The pt expressed to some staff members that his mood was poor and he was not coping well after his surgery He never expressed suicidal ideations He further expressed that he was extremely frustrated with his hospitalization and his inability to walk and function independently Discussed the possibility of talking to psychiatrists in the hospital but he declined He felt that if these feeling persisted he would pursue further psychiatric care A number for psychiatric services was provided to him on discharge Chronic pain syndrome The patient was continued on his home regimen of dilaudid mg PO QHprn Chronic hyponatremia The patient had a history of chronic hyponatremia although his sodium remained between during this admission Medications on Admission Docusate Sodium mg Capsule Sig One Capsule PO BID PRN as needed for constipation Furosemide mgmL Solution Sig Sixty mg Injection Hospital times a day Hold for SBP< Ascorbic Acid mg Tablet Sig One Tablet PO twice a day Pantoprazole mg Tablet Delayed Release EC Sig One Tablet Delayed Release EC PO QH every hours Metoprolol Tartrate mg Tablet Sig One Tablet PO BID times a day Hold for SBP< or HR< Trazodone mg Tablet Sig One Tablet PO HS at bedtime as needed for insomnia Acetaminophen mg Tablet Sig Tablets PO QH every hours as needed for fever Petrolatum Ointment Sig One Appl Topical DAILY Daily Please apply to leg wounds per wound care orders thank you Methocarbamol mg Tablet Sig Two Tablet PO QID times a day Albuterol Sulfate mcgActuation HFA Aerosol Inhaler Sig Two Puff Inhalation qH PRN as needed for shortness of breath or wheezing Hydromorphone mg Tablet Sig One Tablet PO QH every hours as needed for pain Hold for RR< or sedation Simvastatin mg Tablet Sig One Tablet PO DAILY Daily Senna mg Tablet Sig One Tablet PO BID times a day Hydroxyzine HCl mg Tablet Sig One Tablet PO qH PRN as needed for itching Polyethylene Glycol gramdose Powder Sig Seventeen g PO BID PRN as needed for constipation Bisacodyl mg Tablet Delayed Release EC Sig Two Tablet Delayed Release EC PO DAILY Daily as needed for constipation hold for diarrhea Clonazepam mg Tablet Sig One Tablet PO BID times a day as needed for anxiety MentholCetylpyridinium mg Lozenge Sig One Lozenge Mucous membrane PRN as needed as needed for dry mouth sore throat Ketoconazole % Cream Sig One Appl Topical Hospital times a day Please apply to upper forehead and scalp for seborrheic dermatitis day = Also please apply to wound on left shin for overlying fungal infectionday = Thank you Glycerin Adult Suppository Sig One Suppository Rectal PRN as needed as needed for constipation HydrocodoneAcetaminophen mg Tablet Sig One Tablet PO DAILY Daily as needed for headache Hold for somnolence Heparin drip Heparin IV Sliding Scale please see included scale Diagnosis DVTAfib Patient Weight kg Initial Bolus units IVP Initial Infusion Rate unitshr Target PTT seconds PTT < units Bolus then Increase infusion rate by unitshr PTT units Bolus then Increase infusion rate by unitshr PTT PTT Reduce infusion rate by unitshr PTT > Hold mins then Reduce infusion rate by unitshr Insulin sliding scale Glargine units at bedtime Humalog sliding scale per included sliding scale Discharge Medications Hydroxyzine HCl mgmL Solution Sig One Intramuscular QH every hours as needed for pruritis Clonazepam mg Tablet Sig One Tablet PO BID times a day Furosemide mg Tablet Sig Tablets PO BID times a day Clopidogrel mg Tablet Sig One Tablet PO DAILY Daily Senna mg Tablet Sig One Tablet PO BID times a day as needed for constipation Famotidine mg Tablet Sig One Tablet PO QH every hours Metoprolol Tartrate mg Tablet Sig One Tablet PO BID times a day Ascorbic Acid mg Tablet Sig One Tablet PO twice a day Methocarbamol mg Tablet Sig Tablets PO QH every hours Albuterol Sulfate mcgActuation HFA Aerosol Inhaler Sig Inhalation every hours as needed for shortness of breath or wheezing Docusate Sodium mg Capsule Sig One Capsule PO BID times a day Dilaudid mg Tablet Sig One Tablet PO Qhrprn simvistatin mg Qday Petrolatum Ointment Sig One Appl Topical DAILY Daily Ketoconazole % Cream Sig One Appl Topical Hospital times a day Outpatient Lab Work Chem to monitor electrolytes and creatinine while taking lasix Turn and reposition off back prn and limit sit time to hour at a time using pressure redistribution cushion Cleanse skin with wound cleanser or NS then pat dry nad apply aquafor to gluteals and legs and feet daily For heel and lateral foot ulcer apply thin layer of duoderm wound gel cover dorsum and lateral wound with adaptic and heel with gauze followed by ABD pad wrap iwth kerlix and change daily headrest to occiput with frequent repositioning please remove sutures from posterior neck on tuesday Please start warfarin on post op day and monitor INR prn check weight Qday Discharge Disposition Extended Care Facility Hospital Northeast Location un Discharge Diagnosis Cervical myelopathy C tumor with cervical myelopathy Acute on chronic diastolic heart failure Discharge Condition Stable afebrile Discharge Instructions You were admitted to Hospital on for worsening upper extremity weakness due to your spinal tumor You underwent an operation to remove the tumor You also underwent an operation to decrease the pressure on the spinal cord in your neck You will need to have the staples out from your surgical site on which they will do at your rehab facility An appointment was made for you to follow up with Dr Last Name STitle in weeks Please return to the Emergency department for fever chills difficulty breathing worsening upper extremity weakness or worsening symptoms Followup Instructions Last Name STitle LAB Hospital Hospital Unit Name Location un Location un surgery PhoneTelephoneFax DateTime First Name Name Pattern Last Name NamePattern MD LM Hospital Unit Name Location un Location un surgery PhoneTelephoneFax DateTime Dr Last Name STitle Name STitle address Doctor First Name Hospital Unit Name Location un Hospital Unit Name phone TelephoneFax appointment PM Psychiatry Clinic Hospital Psychiatry Clinic Please call the bottom number to schedule an appointment if your mood is sad or you are not taking pleasure in life TelephoneFax \\']'"
      ]
     },
     "execution_count": 5,
     "metadata": {},
     "output_type": "execute_result"
    }
   ],
   "source": [
    "notes['TEXT'][1]"
   ]
  },
  {
   "cell_type": "code",
   "execution_count": null,
   "metadata": {},
   "outputs": [],
   "source": []
  }
 ],
 "metadata": {
  "kernelspec": {
   "display_name": "med_code",
   "language": "python",
   "name": "python3"
  },
  "language_info": {
   "codemirror_mode": {
    "name": "ipython",
    "version": 3
   },
   "file_extension": ".py",
   "mimetype": "text/x-python",
   "name": "python",
   "nbconvert_exporter": "python",
   "pygments_lexer": "ipython3",
   "version": "3.9.19"
  }
 },
 "nbformat": 4,
 "nbformat_minor": 2
}
