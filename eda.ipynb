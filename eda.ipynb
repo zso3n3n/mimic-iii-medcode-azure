{
 "cells": [
  {
   "cell_type": "code",
   "execution_count": 1,
   "metadata": {},
   "outputs": [],
   "source": [
    "import pandas as pd"
   ]
  },
  {
   "cell_type": "code",
   "execution_count": 3,
   "metadata": {},
   "outputs": [],
   "source": [
    "data_folder = \"data/raw/\"\n",
    "d_icd = pd.read_csv(data_folder + 'D_ICD_DIAGNOSES.csv.gz', usecols=['ICD9_CODE', 'SHORT_TITLE', 'LONG_TITLE']) # ICD Code lookup\n",
    "diagnoses = pd.read_csv(data_folder + 'DIAGNOSES_ICD.csv.gz', usecols=['HADM_ID', 'ICD9_CODE']) # Linkage between ICD codes and Note events\n",
    "drg = pd.read_csv(data_folder + 'DRGCODES.csv.gz', usecols=['HADM_ID','DESCRIPTION']) # DRG Codes\n",
    "# note_events= pd.read_csv(data_folder + 'NOTEEVENTS.csv.gz', usecols=['HADM_ID','TEXT'], nrows=300000) # Number of rows = 2,083,180 without filter # We will handle this later"
   ]
  },
  {
   "cell_type": "code",
   "execution_count": null,
   "metadata": {},
   "outputs": [],
   "source": [
    "# Data Sizes\n",
    "print(f\"D_ICD Shape: {d_icd.shape}\")\n",
    "print(f\"DIAGNOSES Shape: {diagnoses.shape}\")\n",
    "print(f\"DRG Shape: {drg.shape}\")\n",
    "print(f\"Note Events Shape: {note_events.shape}\")"
   ]
  },
  {
   "cell_type": "code",
   "execution_count": null,
   "metadata": {},
   "outputs": [],
   "source": [
    "# Schemas\n",
    "print(f\"D_ICD Schema: {d_icd.columns}\")\n",
    "print(f\"DIAGNOSES Schema: {diagnoses.columns}\")\n",
    "print(f\"DRG Schema: {drg.columns}\")\n",
    "print(f\"Note Events Schema: {note_events.columns}\")"
   ]
  },
  {
   "cell_type": "code",
   "execution_count": 2,
   "metadata": {},
   "outputs": [
    {
     "data": {
      "text/html": [
       "<div>\n",
       "<style scoped>\n",
       "    .dataframe tbody tr th:only-of-type {\n",
       "        vertical-align: middle;\n",
       "    }\n",
       "\n",
       "    .dataframe tbody tr th {\n",
       "        vertical-align: top;\n",
       "    }\n",
       "\n",
       "    .dataframe thead th {\n",
       "        text-align: right;\n",
       "    }\n",
       "</style>\n",
       "<table border=\"1\" class=\"dataframe\">\n",
       "  <thead>\n",
       "    <tr style=\"text-align: right;\">\n",
       "      <th></th>\n",
       "      <th>HADM_ID</th>\n",
       "      <th>TEXT</th>\n",
       "    </tr>\n",
       "  </thead>\n",
       "  <tbody>\n",
       "    <tr>\n",
       "      <th>5</th>\n",
       "      <td>170490</td>\n",
       "      <td>Admission Date:  [**2172-3-5**]              D...</td>\n",
       "    </tr>\n",
       "    <tr>\n",
       "      <th>8</th>\n",
       "      <td>163469</td>\n",
       "      <td>Admission Date:  [**2118-8-10**]              ...</td>\n",
       "    </tr>\n",
       "    <tr>\n",
       "      <th>9</th>\n",
       "      <td>189681</td>\n",
       "      <td>Admission Date:  [**2118-12-7**]              ...</td>\n",
       "    </tr>\n",
       "    <tr>\n",
       "      <th>18</th>\n",
       "      <td>128319</td>\n",
       "      <td>Admission Date:  [**2195-4-14**]              ...</td>\n",
       "    </tr>\n",
       "    <tr>\n",
       "      <th>31</th>\n",
       "      <td>140246</td>\n",
       "      <td>Admission Date:  [**2170-9-1**]              D...</td>\n",
       "    </tr>\n",
       "  </tbody>\n",
       "</table>\n",
       "</div>"
      ],
      "text/plain": [
       "    HADM_ID                                               TEXT\n",
       "5    170490  Admission Date:  [**2172-3-5**]              D...\n",
       "8    163469  Admission Date:  [**2118-8-10**]              ...\n",
       "9    189681  Admission Date:  [**2118-12-7**]              ...\n",
       "18   128319  Admission Date:  [**2195-4-14**]              ...\n",
       "31   140246  Admission Date:  [**2170-9-1**]              D..."
      ]
     },
     "metadata": {},
     "output_type": "display_data"
    },
    {
     "name": "stdout",
     "output_type": "stream",
     "text": [
      "(12946, 2)\n"
     ]
    }
   ],
   "source": [
    "# Explore NOTE EVENTS\n",
    "data_folder = \"data/raw/\"\n",
    "max_notes = 1\n",
    "single_notes = pd.DataFrame()\n",
    "\n",
    "for reader in pd.read_csv(data_folder + 'NOTEEVENTS.csv.gz', usecols=['HADM_ID','TEXT'], dtype={'text':str,'HADM_ID':'Int64'}, chunksize=400000):\n",
    "    # Get HADM_IDs with only one note\n",
    "    sub_df = reader[reader['HADM_ID'].map(reader['HADM_ID'].value_counts()) == max_notes]\n",
    "    single_notes = pd.concat([single_notes, sub_df])\n",
    "    sub_df.iloc[0:0]\n",
    "    reader.iloc[0:0]\n",
    "\n",
    "\n",
    "single_notes = single_notes[single_notes['HADM_ID'].map(single_notes['HADM_ID'].value_counts()) == max_notes]\n",
    "display(single_notes.head())\n",
    "print(single_notes.shape)"
   ]
  },
  {
   "cell_type": "code",
   "execution_count": null,
   "metadata": {},
   "outputs": [],
   "source": [
    "note_events['TEXT'] = note_events['TEXT'].apply(lambda x: \"\\\"\" + str(x) + \"\\\"\")\n",
    "diagnoses = diagnoses.groupby(['HADM_ID']).agg(tuple).map(list).reset_index()\n",
    "joined = note_events.join(diagnoses.set_index(\"HADM_ID\"), on=['HADM_ID'], how='inner')\n",
    "# joined = joined.join(drg.set_index('HADM_ID'), on='HADM_ID', how='inner').groupby(['HADM_ID','TEXT', 'ICD9_CODE']).agg(tuple).map(list).reset_index()\n",
    "# joined = joined.join(d_icd.set_index('ICD9_CODE'), on='ICD9_CODE', how='inner')"
   ]
  },
  {
   "cell_type": "code",
   "execution_count": null,
   "metadata": {},
   "outputs": [],
   "source": [
    "print(joined.columns)\n",
    "print(joined.shape)\n",
    "display(joined.head(20))"
   ]
  },
  {
   "cell_type": "code",
   "execution_count": null,
   "metadata": {},
   "outputs": [],
   "source": [
    "display(joined.loc[joined['HADM_ID'] == 100195])\n",
    "display(joined.loc[joined['HADM_ID'] == 100195]['TEXT'].values[0])\n",
    "display(len(joined.loc[joined['HADM_ID'] == 100195]['TEXT'].values[0]))"
   ]
  },
  {
   "cell_type": "code",
   "execution_count": null,
   "metadata": {},
   "outputs": [],
   "source": [
    "display(d_icd.loc[d_icd['ICD9_CODE'] == '1890'])"
   ]
  },
  {
   "cell_type": "code",
   "execution_count": null,
   "metadata": {},
   "outputs": [],
   "source": [
    "diagnoses.dtypes"
   ]
  },
  {
   "cell_type": "code",
   "execution_count": null,
   "metadata": {},
   "outputs": [],
   "source": [
    "def remove_evm_codes(df: pd.DataFrame) -> pd.DataFrame:\n",
    "    # Drop E, V, and M codes\n",
    "    df['ICD9_CODE'] = df['ICD9_CODE'].apply(lambda x: str(x))\n",
    "    output = df[~df['ICD9_CODE'].str.startswith(\"E\")]\n",
    "    output = output[~output['ICD9_CODE'].str.startswith(\"V\")]   \n",
    "    output = output[~output['ICD9_CODE'].str.startswith(\"M\")]\n",
    "    return output\n",
    "\n",
    "diagnoses = remove_evm_codes(diagnoses)\n",
    "print(diagnoses.head())"
   ]
  },
  {
   "cell_type": "code",
   "execution_count": null,
   "metadata": {},
   "outputs": [],
   "source": [
    "df = diagnoses[diagnoses.icd9_code != 0]"
   ]
  }
 ],
 "metadata": {
  "kernelspec": {
   "display_name": "med_code",
   "language": "python",
   "name": "python3"
  },
  "language_info": {
   "codemirror_mode": {
    "name": "ipython",
    "version": 3
   },
   "file_extension": ".py",
   "mimetype": "text/x-python",
   "name": "python",
   "nbconvert_exporter": "python",
   "pygments_lexer": "ipython3",
   "version": "3.9.19"
  }
 },
 "nbformat": 4,
 "nbformat_minor": 2
}
