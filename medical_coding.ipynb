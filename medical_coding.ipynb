{
 "cells": [
  {
   "cell_type": "code",
   "execution_count": 42,
   "metadata": {},
   "outputs": [],
   "source": [
    "from src.prepare_mimic_iii import transform_data\n",
    "from src.call_aoai import call_aoai\n",
    "from src.tree import TaxonomyParser\n",
    "import pandas as pd\n",
    "import ast\n",
    "import functools"
   ]
  },
  {
   "cell_type": "markdown",
   "metadata": {},
   "source": [
    "### Data Prep"
   ]
  },
  {
   "cell_type": "code",
   "execution_count": 43,
   "metadata": {},
   "outputs": [
    {
     "name": "stdout",
     "output_type": "stream",
     "text": [
      "(7648, 3)\n"
     ]
    },
    {
     "data": {
      "text/html": [
       "<div>\n",
       "<style scoped>\n",
       "    .dataframe tbody tr th:only-of-type {\n",
       "        vertical-align: middle;\n",
       "    }\n",
       "\n",
       "    .dataframe tbody tr th {\n",
       "        vertical-align: top;\n",
       "    }\n",
       "\n",
       "    .dataframe thead th {\n",
       "        text-align: right;\n",
       "    }\n",
       "</style>\n",
       "<table border=\"1\" class=\"dataframe\">\n",
       "  <thead>\n",
       "    <tr style=\"text-align: right;\">\n",
       "      <th></th>\n",
       "      <th>HADM_ID</th>\n",
       "      <th>TEXT</th>\n",
       "      <th>ICD9_CODE</th>\n",
       "    </tr>\n",
       "  </thead>\n",
       "  <tbody>\n",
       "    <tr>\n",
       "      <th>0</th>\n",
       "      <td>100003</td>\n",
       "      <td>['Chief Complaint: HPI: 24 Hour Events: awaiti...</td>\n",
       "      <td>[70]</td>\n",
       "    </tr>\n",
       "    <tr>\n",
       "      <th>1</th>\n",
       "      <td>100009</td>\n",
       "      <td>['2162-5-20 2:57 PM CHEST (PA &amp; LAT) Clip # Cl...</td>\n",
       "      <td>[272, 250, 278]</td>\n",
       "    </tr>\n",
       "    <tr>\n",
       "      <th>2</th>\n",
       "      <td>100018</td>\n",
       "      <td>['Admission Date: 2176-8-29 Discharge Date: 21...</td>\n",
       "      <td>[225, 250, 276, 278]</td>\n",
       "    </tr>\n",
       "    <tr>\n",
       "      <th>3</th>\n",
       "      <td>100041</td>\n",
       "      <td>['2140-12-9 9:27 AM CHEST (PORTABLE AP) Clip #...</td>\n",
       "      <td>[274, 244]</td>\n",
       "    </tr>\n",
       "    <tr>\n",
       "      <th>4</th>\n",
       "      <td>100046</td>\n",
       "      <td>['2183-10-23 5:31 AM CHEST (SINGLE VIEW) Clip ...</td>\n",
       "      <td>[275, 276]</td>\n",
       "    </tr>\n",
       "  </tbody>\n",
       "</table>\n",
       "</div>"
      ],
      "text/plain": [
       "   HADM_ID                                               TEXT  \\\n",
       "0   100003  ['Chief Complaint: HPI: 24 Hour Events: awaiti...   \n",
       "1   100009  ['2162-5-20 2:57 PM CHEST (PA & LAT) Clip # Cl...   \n",
       "2   100018  ['Admission Date: 2176-8-29 Discharge Date: 21...   \n",
       "3   100041  ['2140-12-9 9:27 AM CHEST (PORTABLE AP) Clip #...   \n",
       "4   100046  ['2183-10-23 5:31 AM CHEST (SINGLE VIEW) Clip ...   \n",
       "\n",
       "              ICD9_CODE  \n",
       "0                  [70]  \n",
       "1       [272, 250, 278]  \n",
       "2  [225, 250, 276, 278]  \n",
       "3            [274, 244]  \n",
       "4            [275, 276]  "
      ]
     },
     "metadata": {},
     "output_type": "display_data"
    }
   ],
   "source": [
    "# df = transform_data(\"data/\") # Only re-run if change in preparation logic\n",
    "df = pd.read_csv(\"data/joined/dataset_single_001_279.csv.gz\")\n",
    "print(df.shape)\n",
    "display(df.head(5))"
   ]
  },
  {
   "cell_type": "code",
   "execution_count": 44,
   "metadata": {},
   "outputs": [
    {
     "data": {
      "text/html": [
       "<div>\n",
       "<style scoped>\n",
       "    .dataframe tbody tr th:only-of-type {\n",
       "        vertical-align: middle;\n",
       "    }\n",
       "\n",
       "    .dataframe tbody tr th {\n",
       "        vertical-align: top;\n",
       "    }\n",
       "\n",
       "    .dataframe thead th {\n",
       "        text-align: right;\n",
       "    }\n",
       "</style>\n",
       "<table border=\"1\" class=\"dataframe\">\n",
       "  <thead>\n",
       "    <tr style=\"text-align: right;\">\n",
       "      <th></th>\n",
       "      <th>HADM_ID</th>\n",
       "      <th>TEXT</th>\n",
       "      <th>ICD9_CODE</th>\n",
       "    </tr>\n",
       "  </thead>\n",
       "  <tbody>\n",
       "    <tr>\n",
       "      <th>0</th>\n",
       "      <td>100003</td>\n",
       "      <td>['Chief Complaint: HPI: 24 Hour Events: awaiti...</td>\n",
       "      <td>[70]</td>\n",
       "    </tr>\n",
       "    <tr>\n",
       "      <th>6</th>\n",
       "      <td>100074</td>\n",
       "      <td>['Admission Date: 2176-4-9 Discharge Date: 217...</td>\n",
       "      <td>[70, 38]</td>\n",
       "    </tr>\n",
       "    <tr>\n",
       "      <th>10</th>\n",
       "      <td>100104</td>\n",
       "      <td>['Admission Date: 2201-6-21 Discharge Date: 22...</td>\n",
       "      <td>[38]</td>\n",
       "    </tr>\n",
       "    <tr>\n",
       "      <th>21</th>\n",
       "      <td>100307</td>\n",
       "      <td>['2161-10-29 3:35 PM ILIAC Clip # Clip Number ...</td>\n",
       "      <td>[41]</td>\n",
       "    </tr>\n",
       "    <tr>\n",
       "      <th>35</th>\n",
       "      <td>100498</td>\n",
       "      <td>['Admission Date: 2120-3-10 Discharge Date: 21...</td>\n",
       "      <td>[41]</td>\n",
       "    </tr>\n",
       "  </tbody>\n",
       "</table>\n",
       "</div>"
      ],
      "text/plain": [
       "    HADM_ID                                               TEXT ICD9_CODE\n",
       "0    100003  ['Chief Complaint: HPI: 24 Hour Events: awaiti...      [70]\n",
       "6    100074  ['Admission Date: 2176-4-9 Discharge Date: 217...  [70, 38]\n",
       "10   100104  ['Admission Date: 2201-6-21 Discharge Date: 22...      [38]\n",
       "21   100307  ['2161-10-29 3:35 PM ILIAC Clip # Clip Number ...      [41]\n",
       "35   100498  ['Admission Date: 2120-3-10 Discharge Date: 21...      [41]"
      ]
     },
     "metadata": {},
     "output_type": "display_data"
    }
   ],
   "source": [
    "max_code = 75\n",
    "slim_df = df[df['ICD9_CODE'].apply(lambda x: all(i < max_code for i in ast.literal_eval(x)))]\n",
    "display(slim_df.head())"
   ]
  },
  {
   "cell_type": "code",
   "execution_count": 45,
   "metadata": {},
   "outputs": [
    {
     "name": "stdout",
     "output_type": "stream",
     "text": [
      "Node('/root/0', description='Infectious and Parasitic Diseases')\n"
     ]
    }
   ],
   "source": [
    "# Initialize Code Tree\n",
    "code_tree = TaxonomyParser()\n",
    "code_tree.read_from_json(\"icd9_tax.json\")\n",
    "\n",
    "print(code_tree.find_by_name(\"0\"))"
   ]
  },
  {
   "cell_type": "code",
   "execution_count": 46,
   "metadata": {},
   "outputs": [
    {
     "name": "stdout",
     "output_type": "stream",
     "text": [
      "07       Arthropod-borne viral diseases\n",
      "├── 060  Yellow fever\n",
      "├── 061  Dengue fever\n",
      "├── 062  Mosquito-borne viral encephalitis\n",
      "├── 063  Tick-borne viral encephalitis\n",
      "├── 064  Viral encephalitis transmitted by other and unspecified arthropods\n",
      "├── 065  Arthropod-borne hemorrhagic fever\n",
      "└── 066  Other arthropod-borne viral diseases\n"
     ]
    },
    {
     "data": {
      "text/plain": [
       "(Node('/root/0/07/060', description='Yellow fever'),\n",
       " Node('/root/0/07/061', description='Dengue fever'),\n",
       " Node('/root/0/07/062', description='Mosquito-borne viral encephalitis'),\n",
       " Node('/root/0/07/063', description='Tick-borne viral encephalitis'),\n",
       " Node('/root/0/07/064', description='Viral encephalitis transmitted by other and unspecified arthropods'),\n",
       " Node('/root/0/07/065', description='Arthropod-borne hemorrhagic fever'),\n",
       " Node('/root/0/07/066', description='Other arthropod-borne viral diseases'))"
      ]
     },
     "execution_count": 46,
     "metadata": {},
     "output_type": "execute_result"
    }
   ],
   "source": [
    "code_tree.visualize(\"07\")\n",
    "code_tree.get_children(\"07\")"
   ]
  },
  {
   "cell_type": "markdown",
   "metadata": {},
   "source": [
    "### Get ICD9 Codes"
   ]
  },
  {
   "cell_type": "code",
   "execution_count": 48,
   "metadata": {},
   "outputs": [],
   "source": [
    "# Dyamically Build Prompt\n",
    "\n",
    "def get_options(tree, parent_code):\n",
    "    children = tree.get_children(parent_code)\n",
    "    options = []\n",
    "    for child in children:\n",
    "        options.append(f\"{child.name}: {child.description}\")\n",
    "    \n",
    "    return '\\n'.join(options)\n",
    "\n",
    "def build_prompt(tree, parent_code, note, categories):\n",
    "    sys = \"\"\"\n",
    "    You are a medical expert. Your job is to classify notes into given categories. Think through your answer. Accuracy is VERY IMPORTANT to your job.\n",
    "    Notes can be classified into one or more categories. Respond with a list of quoted string indeces of the categories the note belongs to. If there are no catefory options return an empty list.\n",
    "\n",
    "    ### EXAMPLE ###\n",
    "    Categories:\n",
    "    0: Infectious and Parasitic Diseases\n",
    "    1: Neoplasms\n",
    "    2: Endocrine, Nutritional and Metabolic Diseases, and Immunity Disorders\n",
    "    Note: Patient has Tuberculosis and an Immunity Disorder\n",
    "    Answer: ['0','3']\n",
    "    ## END EXAMPLE ##\n",
    "    \"\"\"\n",
    "    \n",
    "    \n",
    "    prompt = f\"\"\"\n",
    "    Categories:\\n{categories}\n",
    "    Note: {note}\n",
    "    Answer:\n",
    "    \"\"\"\n",
    "\n",
    "    return sys, prompt"
   ]
  },
  {
   "cell_type": "code",
   "execution_count": 49,
   "metadata": {},
   "outputs": [],
   "source": [
    "# Recursive? Walk tree and call aoai to get codes\n",
    "\n",
    "def get_codes_for_note(parent_code, tree, note):\n",
    "    \n",
    "    categories = get_options(tree, parent_code)\n",
    "    if not categories:\n",
    "        return []\n",
    "    \n",
    "    sys, prompt = build_prompt(tree, parent_code, note, categories)\n",
    "    codes = call_aoai(sys, prompt)\n",
    "    print(f\"Parent Code: {parent_code}\")\n",
    "    print(f\"Codes: {codes}\")\n",
    "\n",
    "    if all(len(i) == 3 for i in codes):\n",
    "        return codes\n",
    "    else:\n",
    "        list(map(functools.partial(get_codes_for_note, tree=tree, note=note), codes))\n",
    "    "
   ]
  },
  {
   "cell_type": "code",
   "execution_count": 50,
   "metadata": {},
   "outputs": [
    {
     "name": "stderr",
     "output_type": "stream",
     "text": [
      "INFO:httpx:HTTP Request: POST https://medcode-aoai-useast.openai.azure.com//openai/deployments/gpt4o-mini-deploy/chat/completions?api-version=2024-02-01 \"HTTP/1.1 200 OK\"\n"
     ]
    },
    {
     "name": "stdout",
     "output_type": "stream",
     "text": [
      "Parent Code: root\n",
      "Codes: ['0']\n"
     ]
    },
    {
     "name": "stderr",
     "output_type": "stream",
     "text": [
      "INFO:httpx:HTTP Request: POST https://medcode-aoai-useast.openai.azure.com//openai/deployments/gpt4o-mini-deploy/chat/completions?api-version=2024-02-01 \"HTTP/1.1 200 OK\"\n"
     ]
    },
    {
     "name": "stdout",
     "output_type": "stream",
     "text": [
      "Parent Code: 0\n",
      "Codes: ['03']\n"
     ]
    },
    {
     "name": "stderr",
     "output_type": "stream",
     "text": [
      "INFO:httpx:HTTP Request: POST https://medcode-aoai-useast.openai.azure.com//openai/deployments/gpt4o-mini-deploy/chat/completions?api-version=2024-02-01 \"HTTP/1.1 200 OK\"\n"
     ]
    },
    {
     "name": "stdout",
     "output_type": "stream",
     "text": [
      "Parent Code: 03\n",
      "Codes: ['030', '031']\n",
      "None\n"
     ]
    }
   ],
   "source": [
    "### TEST ###\n",
    "\n",
    "codes = get_codes_for_note(\"root\", code_tree, \"Patient had Glanders and Leprosy\")\n",
    "print(codes)"
   ]
  },
  {
   "cell_type": "code",
   "execution_count": 41,
   "metadata": {},
   "outputs": [
    {
     "name": "stdout",
     "output_type": "stream",
     "text": [
      "None\n"
     ]
    }
   ],
   "source": [
    "print(codes)"
   ]
  },
  {
   "cell_type": "code",
   "execution_count": null,
   "metadata": {},
   "outputs": [],
   "source": [
    "for index, row in slim_df.iterrows():\n",
    "    note = row['TEXT']\n",
    "    get_codes_for_note(\"root\", code_tree, note)\n",
    "    break"
   ]
  }
 ],
 "metadata": {
  "kernelspec": {
   "display_name": "med_code",
   "language": "python",
   "name": "python3"
  },
  "language_info": {
   "codemirror_mode": {
    "name": "ipython",
    "version": 3
   },
   "file_extension": ".py",
   "mimetype": "text/x-python",
   "name": "python",
   "nbconvert_exporter": "python",
   "pygments_lexer": "ipython3",
   "version": "3.9.19"
  }
 },
 "nbformat": 4,
 "nbformat_minor": 2
}
