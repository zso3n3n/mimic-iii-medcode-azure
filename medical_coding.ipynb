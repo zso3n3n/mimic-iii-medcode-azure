{
 "cells": [
  {
   "cell_type": "markdown",
   "metadata": {},
   "source": [
    "#### To Do's\n",
    "1. Check out PubMed Embeddings or Fill Mask Model\n",
    "    - L1 _only_ grading system\n",
    "2. Implement Structured Outputs\n",
    "3. Parse strings to a better format [remove dates, other junk info]\n",
    "    - LM/AI Services Extractor?\n",
    "4. Error in the DF Iterrows\n",
    "    - Fix Prompt Syntax / Harden recursion job - what to do if no code is found"
   ]
  },
  {
   "cell_type": "code",
   "execution_count": 62,
   "metadata": {},
   "outputs": [],
   "source": [
    "from src.prepare_mimic_iii import transform_data\n",
    "from src.call_aoai import call_aoai\n",
    "from src.tree import TaxonomyParser\n",
    "from IPython.display import Image\n",
    "from nltk import flatten\n",
    "import pandas as pd\n",
    "import ast\n",
    "import functools\n",
    "import logging\n",
    "\n",
    "logger = logging.getLogger(__name__)\n",
    "logging.basicConfig(level=logging.ERROR)\n",
    "\n",
    "pd.set_option('display.max_colwidth', None)"
   ]
  },
  {
   "cell_type": "markdown",
   "metadata": {},
   "source": [
    "### Data Prep"
   ]
  },
  {
   "cell_type": "code",
   "execution_count": 63,
   "metadata": {},
   "outputs": [
    {
     "name": "stdout",
     "output_type": "stream",
     "text": [
      "(4855, 3)\n"
     ]
    },
    {
     "data": {
      "text/plain": [
       "HADM_ID       int64\n",
       "TEXT         object\n",
       "ICD9_CODE    object\n",
       "dtype: object"
      ]
     },
     "metadata": {},
     "output_type": "display_data"
    }
   ],
   "source": [
    "# df = transform_data(\"data/\") # Only re-run if change in preparation logic\n",
    "df = pd.read_csv(\"data/joined/dataset_single_001_088.csv.gz\")\n",
    "print(df.shape)\n",
    "display(df.dtypes)"
   ]
  },
  {
   "cell_type": "code",
   "execution_count": 64,
   "metadata": {},
   "outputs": [
    {
     "data": {
      "text/html": [
       "<div>\n",
       "<style scoped>\n",
       "    .dataframe tbody tr th:only-of-type {\n",
       "        vertical-align: middle;\n",
       "    }\n",
       "\n",
       "    .dataframe tbody tr th {\n",
       "        vertical-align: top;\n",
       "    }\n",
       "\n",
       "    .dataframe thead th {\n",
       "        text-align: right;\n",
       "    }\n",
       "</style>\n",
       "<table border=\"1\" class=\"dataframe\">\n",
       "  <thead>\n",
       "    <tr style=\"text-align: right;\">\n",
       "      <th></th>\n",
       "      <th>ICD9_CODE</th>\n",
       "      <th>L2_CODES</th>\n",
       "      <th>L1_CODES</th>\n",
       "    </tr>\n",
       "  </thead>\n",
       "  <tbody>\n",
       "    <tr>\n",
       "      <th>0</th>\n",
       "      <td>['041']</td>\n",
       "      <td>['03']</td>\n",
       "      <td>['0']</td>\n",
       "    </tr>\n",
       "    <tr>\n",
       "      <th>1</th>\n",
       "      <td>['038', '070']</td>\n",
       "      <td>['08', '03']</td>\n",
       "      <td>['0']</td>\n",
       "    </tr>\n",
       "    <tr>\n",
       "      <th>2</th>\n",
       "      <td>['041']</td>\n",
       "      <td>['03']</td>\n",
       "      <td>['0']</td>\n",
       "    </tr>\n",
       "    <tr>\n",
       "      <th>3</th>\n",
       "      <td>['038']</td>\n",
       "      <td>['03']</td>\n",
       "      <td>['0']</td>\n",
       "    </tr>\n",
       "    <tr>\n",
       "      <th>4</th>\n",
       "      <td>['038']</td>\n",
       "      <td>['03']</td>\n",
       "      <td>['0']</td>\n",
       "    </tr>\n",
       "  </tbody>\n",
       "</table>\n",
       "</div>"
      ],
      "text/plain": [
       "        ICD9_CODE      L2_CODES L1_CODES\n",
       "0         ['041']        ['03']    ['0']\n",
       "1  ['038', '070']  ['08', '03']    ['0']\n",
       "2         ['041']        ['03']    ['0']\n",
       "3         ['038']        ['03']    ['0']\n",
       "4         ['038']        ['03']    ['0']"
      ]
     },
     "metadata": {},
     "output_type": "display_data"
    }
   ],
   "source": [
    "# Get L1 and L2 codes for grading purposes\n",
    "\n",
    "def get_parent_codes(code_tree, codes):\n",
    "    code_list = ast.literal_eval(codes)\n",
    "    parent_codes = []\n",
    "    for code in code_list:\n",
    "        parent_codes.append(code_tree.find_by_name(code).parent.name)\n",
    "    \n",
    "    parent_codes = list(set(parent_codes))\n",
    "    return str(parent_codes)\n",
    "\n",
    "df['L2_CODES'] = df['ICD9_CODE'].apply(lambda x: get_parent_codes(code_tree, x))\n",
    "df['L1_CODES'] = df['L2_CODES'].apply(lambda x: get_parent_codes(code_tree, x))\n",
    "display(df[['ICD9_CODE', 'L2_CODES', 'L1_CODES']].head(5))"
   ]
  },
  {
   "cell_type": "code",
   "execution_count": 65,
   "metadata": {},
   "outputs": [
    {
     "name": "stdout",
     "output_type": "stream",
     "text": [
      "(10, 5)\n"
     ]
    }
   ],
   "source": [
    "slim_df = df[0:10]\n",
    "print(slim_df.shape)"
   ]
  },
  {
   "cell_type": "code",
   "execution_count": 66,
   "metadata": {},
   "outputs": [
    {
     "name": "stdout",
     "output_type": "stream",
     "text": [
      "Node('/root/0/00', description='Intestinal infectious diseases')\n"
     ]
    }
   ],
   "source": [
    "# Initialize Code Tree\n",
    "code_tree = TaxonomyParser()\n",
    "code_tree.read_from_json(\"icd9_tax.json\")\n",
    "\n",
    "print(code_tree.find_by_name(\"00\"))"
   ]
  },
  {
   "cell_type": "code",
   "execution_count": 67,
   "metadata": {},
   "outputs": [
    {
     "name": "stdout",
     "output_type": "stream",
     "text": [
      "0        Infectious and Parasitic Diseases\n",
      "├── 00   Intestinal infectious diseases\n",
      "│   ├── 001 Cholera\n",
      "│   ├── 002 Typhoid and paratyphoid fevers\n",
      "│   ├── 003 Salmonella\n",
      "│   ├── 004 Shigellosis\n",
      "│   ├── 005 Other poisoning (bacterial)\n",
      "│   ├── 006 Amebiasis\n",
      "│   ├── 007 Other protozoal intestinal diseases\n",
      "│   ├── 008 Intestinal infections due to other organisms\n",
      "│   └── 009 Ill-defined intestinal infections\n",
      "├── 01   Tuberculosis\n",
      "│   ├── 010 Primary tuberculous infection\n",
      "│   ├── 011 Pulmonary tuberculosis\n",
      "│   ├── 012 Other respiratory tuberculosis\n",
      "│   ├── 013 Tuberculosis of meninges and central nervous system\n",
      "│   ├── 014 Tuberculosis of intestines, peritoneum, and mesenteric glands\n",
      "│   ├── 015 Tuberculosis of bones and joints\n",
      "│   ├── 016 Tuberculosis of genitourinary system\n",
      "│   ├── 017 Tuberculosis of other organs\n",
      "│   ├── 018 Miliary tuberculosis\n",
      "│   └── 019 Respiratory tuberculosis unspecified\n",
      "├── 02   Zoonotic bacterial diseases\n",
      "│   ├── 020 Plague\n",
      "│   ├── 021 Tularemia\n",
      "│   ├── 022 Anthrax\n",
      "│   ├── 023 Brucellosis\n",
      "│   ├── 024 Glanders\n",
      "│   ├── 025 Melioidosis\n",
      "│   ├── 026 Rat-bite fever\n",
      "│   └── 027 Other zoonotic bacterial diseases\n",
      "├── 03   Other bacterial diseases\n",
      "│   ├── 030 Leprosy\n",
      "│   ├── 031 Diseases due to other mycobacteria\n",
      "│   ├── 032 Diphtheria\n",
      "│   ├── 033 Whooping cough\n",
      "│   ├── 034 Streptococcal sore throat and scarlatina\n",
      "│   ├── 035 Erysipelas\n",
      "│   ├── 036 Meningococcal meningitis\n",
      "│   ├── 037 Tetanus\n",
      "│   ├── 038 Septicemia\n",
      "│   ├── 039 Actinomycotic infections\n",
      "│   ├── 040 Other bacterial diseases\n",
      "│   └── 041 Bacterial infection in conditions classified elsewhere and of unspecified site\n",
      "├── 04   Human immunodeficiency virus (HIV) infection\n",
      "│   ├── 042 Human immunodeficiency virus (HIV) infection with specified conditions\n",
      "│   ├── 043 Human immunodeficiency virus (HIV) infection causing other specified\n",
      "│   └── 044 Other human immunodeficiency virus (HIV) disease\n",
      "├── 05   Poliomyelitis and other non-arthropod-borne viral diseases of central nervous system\n",
      "│   ├── 045 Acute poliomyelitis\n",
      "│   ├── 046 Slow virus infection of central nervous system\n",
      "│   ├── 047 Meningitis due to enterovirus\n",
      "│   ├── 048 Other enterovirus diseases of central nervous system\n",
      "│   └── 049 Other non-arthropod-borne viral diseases of central nervous system\n",
      "├── 06   Viral diseases accompanied by exanthem\n",
      "│   ├── 050 Smallpox\n",
      "│   ├── 051 Cowpox and paravaccinia\n",
      "│   ├── 052 Chickenpox\n",
      "│   ├── 053 Herpes zoster\n",
      "│   ├── 054 Herpes simplex\n",
      "│   ├── 055 Measles\n",
      "│   ├── 056 Rubela\n",
      "│   ├── 057 Other viral exanthemata\n",
      "│   ├── 058 Other human herpesvirus\n",
      "│   └── 059 Other poxvirus infections\n",
      "├── 07   Arthropod-borne viral diseases\n",
      "│   ├── 060 Yellow fever\n",
      "│   ├── 061 Dengue fever\n",
      "│   ├── 062 Mosquito-borne viral encephalitis\n",
      "│   ├── 063 Tick-borne viral encephalitis\n",
      "│   ├── 064 Viral encephalitis transmitted by other and unspecified arthropods\n",
      "│   ├── 065 Arthropod-borne hemorrhagic fever\n",
      "│   └── 066 Other arthropod-borne viral diseases\n",
      "├── 08   Other diseases due to viruses and Chlamydiota\n",
      "│   ├── 070 Viral hepatitis\n",
      "│   ├── 071 Rabies\n",
      "│   ├── 072 Mumps\n",
      "│   ├── 073 Ornithosis\n",
      "│   ├── 074 Specific diseases due to Coxsackie virus\n",
      "│   ├── 075 Mononucleosis\n",
      "│   ├── 076 Trachoma\n",
      "│   ├── 077 Other diseases of conjunctiva due to viruses and Chlamydiota (formerly Chlamydiae)\n",
      "│   ├── 078 Other diseases due to viruses and Chlamydiota (formerly Chlamydiae)\n",
      "│   └── 079 Viral infection in conditions classified elsewhere and of unspecified site\n",
      "└── 09   Rickettsioses and other arthropod-borne diseases\n",
      "    ├── 080 Louse-borne (epidemic) typhus\n",
      "    ├── 081 Other typhus\n",
      "    ├── 082 Tick-borne rickettsioses\n",
      "    ├── 083 Other rickettsioses\n",
      "    ├── 084 Malaria\n",
      "    ├── 085 Leishmaniasis\n",
      "    ├── 086 Trypanosomiasis\n",
      "    ├── 087 Relapsing fever\n",
      "    └── 088 Other arthropod-borne diseases\n"
     ]
    }
   ],
   "source": [
    "# View Tree\n",
    "code_tree.visualize(\"0\")"
   ]
  },
  {
   "cell_type": "markdown",
   "metadata": {},
   "source": [
    "### Get ICD9 Codes"
   ]
  },
  {
   "cell_type": "code",
   "execution_count": 68,
   "metadata": {},
   "outputs": [],
   "source": [
    "# Dyamically Build Prompt\n",
    "\n",
    "def get_options(tree, parent_code):\n",
    "    children = tree.get_children(parent_code)\n",
    "    options = []\n",
    "    for child in children:\n",
    "        options.append(f\"{child.name}: {child.description}\")\n",
    "    \n",
    "    return '|'.join(options)\n",
    "\n",
    "def build_prompt(tree, parent_code, note, categories):\n",
    "    sys = \"\"\"\n",
    "    You are a medical expert. Your job is to classify notes of an event into one or more categories.\n",
    "    Choose the best option(s) based on the categories offered. ALWAYS return at least one index. ONLY choose from categories listed. \n",
    "    Respond with a list of quoted string indeces of the categories the note belongs to.\n",
    "    Think through your answer. ACCURACY is VERY IMPORTANT to your job.\n",
    "    \n",
    "    ### EXAMPLE ###\n",
    "    Categories = 0: Infectious and Parasitic Diseases | 1: Neoplasms | 2: Endocrine, Nutritional and Metabolic Diseases, and Immunity Disorders\n",
    "    Note = Patient has Tuberculosis and an Immunity Disorder\n",
    "    Answer: ['0','2']\n",
    "    ## END EXAMPLE ##\n",
    "    \"\"\"\n",
    "    \n",
    "    \n",
    "    prompt = f\"\"\"\n",
    "    Categories = {categories}\n",
    "    Note = {note}\n",
    "    Answer:\n",
    "    \"\"\"\n",
    "\n",
    "    return sys, prompt"
   ]
  },
  {
   "cell_type": "code",
   "execution_count": 69,
   "metadata": {},
   "outputs": [],
   "source": [
    "# Recursive - Walk tree and call aoai to get codes\n",
    "\n",
    "def get_codes_for_note(parent_code, tree, note):\n",
    "    \n",
    "    categories = get_options(tree, parent_code)\n",
    "    sys, prompt = build_prompt(tree, parent_code, note, categories)\n",
    "\n",
    "    codes = call_aoai(sys, prompt)\n",
    "    \n",
    "    logger.info(f\"Parent Code: {parent_code} | Found: {codes}\")\n",
    "    logger.info(f\"Prompt: {prompt}\")\n",
    "\n",
    "    if all(len(i) == 2 for i in codes):\n",
    "        return codes\n",
    "    else:\n",
    "        return list(map(functools.partial(get_codes_for_note, tree=tree, note=note), codes))\n",
    "    "
   ]
  },
  {
   "cell_type": "code",
   "execution_count": 70,
   "metadata": {},
   "outputs": [
    {
     "data": {
      "text/plain": [
       "'\\nres = flatten(get_codes_for_note(\"root\", code_tree, \"Tuberculosis of the bones and joints and HIV\"))\\nprint(res)\\n'"
      ]
     },
     "execution_count": 70,
     "metadata": {},
     "output_type": "execute_result"
    }
   ],
   "source": [
    "### SIMPLE TEST ###\n",
    "'''\n",
    "res = flatten(get_codes_for_note(\"root\", code_tree, \"Tuberculosis of the bones and joints and HIV\"))\n",
    "print(res)\n",
    "'''\n",
    "\n",
    "#### END SIMPLE TEST ###"
   ]
  },
  {
   "cell_type": "code",
   "execution_count": 71,
   "metadata": {},
   "outputs": [
    {
     "name": "stderr",
     "output_type": "stream",
     "text": [
      "/tmp/ipykernel_172072/3235656206.py:2: SettingWithCopyWarning: \n",
      "A value is trying to be set on a copy of a slice from a DataFrame.\n",
      "Try using .loc[row_indexer,col_indexer] = value instead\n",
      "\n",
      "See the caveats in the documentation: https://pandas.pydata.org/pandas-docs/stable/user_guide/indexing.html#returning-a-view-versus-a-copy\n",
      "  slim_df['Generated'] = \"\"\n",
      "INFO:httpx:HTTP Request: POST https://medcode-aoai-useast.openai.azure.com//openai/deployments/gpt4o-mini-deploy/chat/completions?api-version=2024-02-01 \"HTTP/1.1 200 OK\"\n",
      "INFO:__main__:Parent Code: 0 | Found: ['00', '01', '03']\n",
      "INFO:__main__:Prompt: \n",
      "    Categories = 00: Intestinal infectious diseases|01: Tuberculosis|02: Zoonotic bacterial diseases|03: Other bacterial diseases|04: Human immunodeficiency virus (HIV) infection|05: Poliomyelitis and other non-arthropod-borne viral diseases of central nervous system|06: Viral diseases accompanied by exanthem|07: Arthropod-borne viral diseases|08: Other diseases due to viruses and Chlamydiota|09: Rickettsioses and other arthropod-borne diseases\n",
      "    Note = Admission Date:                  Discharge Date:       Date of Birth:                 Sex:   M  Service: MEDICINE  Allergies: Percocet / Bactrim Ds / Lisinopril  Attending:First Name (LF)  Chief Complaint: hypotension  Major Surgical or Invasive Procedure: none  History of Present Illness: Mr. Known lastname  is a  yo m w/ multiple sclerosis and seizure disorder who presented to an OSH for delusions and AMS x  days. At OSH, he was noted to have a Na of . He does have a history of hyponatremia; he had a Na of  in   but had been in the mid s since then. He has seen nephrology. At the OSH, he had an approx sec generalized tonic clonic seizure, received mg Ativan, and transferred to the ED at Hospital . He also has a history of seizures especially in the setting of infection and hyponatremia. It is unclear if he has had seizures without an inciting event. He is currently being weaned off of Keppra and Gabapentin and is being started on Tegretol. In the ER, his VS were: .; /; ; ; % L. He was given L of NS. Given that he has had AMS in the setting of infection and is known to have chronic UTIs   indwelling suprapubic catheter and neurogenic bladder, blood and urine cultures were obtained as well as a CXR. He had a urine culture from   that grew pseudomonas and his CXR showed a possible infiltrate and he was treated with vancomycin and cefepime. A head CT was negative.  Past Medical History: MS   since , progressive, quadriplegic, neurogenic bladder with suprapubic catheter, restrictive PFTs History of Aspiration PNAs Esophageal Ulcer     NSAIDs, , small bowel bx negative Recurrent UTIs CHF (EF > % with moderate LVH in ) HTN Legally Blind  Social History: He is married  years and lives with his wife at home. He has three children and three grandchildren. He was a professor First Name (Titles)  Last Name (Titles)  engineering at University/College , but retired on disability after the  spring semester due to his  MS. Name (STitle)  is wheelchair bound. He denies tobacco, alcohol, and recreational drug use. Has personal care assistant.  Family History: Father had CAD and CVA. Mother has Name (NI)  disease. Brother  has diabetes.  Physical Exam: General: Alert, oriented, no acute distress HEENT: Sclera anicteric, MMM, oropharynx clear Neck: supple, JVP not elevated, no LAD Lungs: Clear to auscultation bilaterally, no wheezes, rales, ronchi CV: Regular rate and rhythm, normal S + S, no murmurs, rubs, gallops Abdomen:  soft, non tender, non distended, bowel sounds present, no rebound tenderness or guarding, no organomegaly Ext: Warm, well perfused, + pulses, no clubbing, cyanosis or edema  Pertinent Results:    :PM BLOOD WBC . RBC .# Hgb .# Hct . MCV # MCH . MCHC . RDW . Plt Ct #    :AM BLOOD WBC . RBC . Hgb . Hct . MCV  MCH . MCHC . RDW . Plt Ct      :AM BLOOD PT . PTT . INR(PT) .     :PM BLOOD Glucose  UreaN  Creat . Na  K . Cl  HCO  AnGap     :AM BLOOD Glucose  UreaN  Creat . Na  K . Cl  HCO  AnGap     :PM BLOOD Na     :PM BLOOD Na     :AM BLOOD Glucose  UreaN  Creat . Na  K . Cl  HCO  AnGap     :PM BLOOD Glucose  UreaN  Creat . Na  K . Cl  HCO  AnGap     :AM BLOOD Glucose  UreaN  Creat . Na  K . Cl  HCO  AnGap     :PM BLOOD Glucose  UreaN  Creat . Na  K . Cl  HCO  AnGap     :AM BLOOD Glucose  UreaN  Creat . Na  K . Cl  HCO  AnGap     :PM BLOOD Glucose  UreaN  Creat . Na  K . Cl  HCO  AnGap     :AM BLOOD Glucose  UreaN  Creat . Na  K . Cl  HCO  AnGap     :AM BLOOD Glucose  UreaN  Creat . Na  K . Cl  HCO  AnGap     :AM BLOOD Glucose  UreaN  Creat . Na  K . Cl  HCO  AnGap     :AM BLOOD Glucose  UreaN  Creat . Na  K . Cl  HCO  AnGap     :AM BLOOD Glucose  UreaN  Creat . Na  K . Cl  HCO  AnGap     :AM BLOOD Glucose  UreaN  Creat . Na  K . Cl  HCO  AnGap     :AM BLOOD Glucose  UreaN  Creat . Na  K . Cl  HCO  AnGap      :PM BLOOD Osmolal     :PM BLOOD Osmolal      :AM BLOOD ALT  AST  LD(LDH)  AlkPhos  TotBili .     :AM BLOOD Calcium . Phos . Mg .  U/A  : nit +, LE +, WBC , RBC , Epi , bact few U/A  : sm bld,  prot/gluc; WBC  , RBC  , Epi  , bact mod U/A  : sm LE, WBC , RBC , Epi , bact none U/A  :  prot,  ket, lg LE; WBC , RBC , Epi , bact few U/A  :  prot, mod LE; WBC , RBC , Epi , bact none U/A  : neg leuk  CULTURES: BCx   x: neg BCx   x: neg UCx  :  PSEUDOMONAS AERUGINOSA. >, ORGANISMS/ML UCx   pseudomonas UCx   yeast Ucx   neg Ucx   yeast Ucx   neg  c.diff neg x     CXR from  :  Patchy opacity at left base again noted, but the significance in the setting of low inspiratory volumes is uncertain.   CTA from  : No PE. Scattered patchy ground glass opacities may represent expiratory state with air trapping.   Renal u/s from  : No evidence of abscess, hydronephrosis or mass   abd xray from  : non specific bowel gas pattern, stool throughout colon, no free air   abd xray from  : Stool  and air filled loops of large and small bowel consistent with ileus.   Liver u/s from  : Hypoechoic right hepatic mass, measuring up to . cm in size   CT abd: prelim read: Arterially enhancing liver lesion cannot be fully characterized, may represent adenoma, FNH, or less likely HCC.   Brief Hospital Course:  yo male w/ progressive multiple sclerosis was admitted for AMS and seizure after having a s GTC at the OSH that responded to mg Ativan.  He had a negative head CT but was found to have a Na level of .  He has been hyponatremic in the past and this has often caused changes in his mental status.  In the ED, he was treated with L NS for concern of hypovolemic hyponatremia.  At that time, his urine osm was  and serum osm was . He also had a CXR and there was prelim concern for pneumonia which can cause an ADH like effect (the final read was neagtive).  Neurology was consulted for his AMS and seizure and they felt that his hyponatremia was likely related to recent initiation of carbamezapine for sensory illusions. Carbamezapine has a known ADH like effect and can cause hyponatremia.  Following discontinuation of carbamezapine along with fluid restriction, his Na increased.  After several days, the pt appeared slightly dehydrated so his fluid restriction was lifted. By time of discharge, his serum Na was . . In the past, his seizures have been instigated by an underlying infection. However, upon admission he was afebrile and did not have a leukocystosis.  The most likely source was either pneumonia or a UTI.  He has a suprapubic catheter   neurogenic bladder and on the day prior to admission, he had a urine sample that grew pseudomonas, a bacteria he has had in the past.  He has also had several pneumonias in the past, most likely   frequent aspirations and his first CXR was concerning for lung infiltrate.  He was treated with one dose of vancomycin and cefepime for pneumonia.  Ultimately, repeat CXR and a CTA were both negative for pneumonia. . Because of his pseudomonal bacteriuria, he was started on ciprofloxacin. A urine culture drawn prior to abx inititian also grew pseudomonas.  Because he was afebrile and did not have a leukocytosis and there was thought that it may actually have been colonization as opposed to infection.  However, he was treated with a full course of cipro for a complicated UTI.  His catheter was changed and all other cultures remained negative.  . On admission, the pt was afebrile and hypertensive to  . However, shortly after arriving on the floor, he had an episode of hypotension down to the s systolic.  During this time he was mentating well, he did not have any complaints, denied chest pain, headache, and visual changes.  IVFs were given, however the hypotension did not initially respond, however came up eventually prior to getting to the ICU.  This labile blood pressure was most likely secondary to the patients autonomic dysfunction secondary to his SPMS. Other considerations were infection or possible sepsis, however the patient was continued to be afebrile. Blood and urine cultures were negative. He was monitored in the ICU for  hours with stable swings in BP which were asymptomatic and consistent with autonomic dysfunction. Changed clonidine dosing from .mg Hospital  to .mg TID. Maintained other blood pressure medications at home doses. . The next day, he was transferred out of the MICU and returned to the floor.  Shortly after arrival, he developed a fever.  More blood and urine cultures were sent and all were negative. Pneumonia had been ruled out and his UTI was being treated with a medication that was appropriate per sensitivities.  He had a CTA which was negative for PE.  However, he was started on meropenem and was treated for  days.  He was still slightly febrile but his meropenem was discontinued for concern of drug fever.  He defervesced without any further treatment. . However, his mental status continued to fluctuate despite being afebrile, no obvious source of infection, and he was eunatremic.  He was occasionally aggressive and would say that he was being murdered or kidnapped.  Neurology was reconsulted but did not feel that his symptoms were related to the keppra and they did not think he was having subclinical seizures.  He continued to have repetitive shaking moves of his head but he was conscious and able to speak during these episodes. Also, despite the Keppra, he continued to have sensory illusions, mostly centered around the feeling of having a bowel movement (when he actually was not). . During the work up for a source of infection and source of AMS, he had a CTA which revealed a liver lesion.  He had an ultrasound and a multiphase liver CT to further describe the lesion because he cannot have an MRI   an implanted baclofen pump.   Mr Known lastname  and his family decided to not biopsy the lesion at this time but it was not ruled out completely for malignancy, although unlikely.  During this work up he also had KUB that was concerning for ileus but he continued to have BMs so he was kept on a regular diet. . Prior to discharge, his mental status had not completely returned to baseline but he was alert and oriented x  and was no longer aggressive towards staff.  No definite etiology was elucidated and it was hypothesized that this could be a result of the progression of his established disease.  Medications on Admission: BACLOFEN , mcg/mL Kit  pump BRIMONIDINE Dosage uncertain CARVEDILOL    mg Tablet Hospital  CARBAMEZAPINE   mg Hospital  CLONIDINE   . mg Tablet Hospital  CLOTRIMAZOLE BETAMETHASONE    % . % Cream tid FENTANYL    mcg/hour Patch  hr FUROSEMIDE    mg Tablet qd IPRATROPIUM ALBUTEROL prn LACTULOSE prn MINOCYCLINE    mg Tablet Hospital  MODAFINIL PROVIGIL  Hospital  OMEPRAZOLE  Hospital  OXYBUTYNIN CHLORIDE    mg qhs SIMVASTATIN    mg qd TRAVOPROST drop L eye once a day ACETAMINOPHEN prn ASCORBIC ACID  Hospital  BISACODYL hs CALCIUM  mg Tid CRANBERRY  mg Capsule Hospital  ERGOCALCIFEROL (VITAMIN D) Hospital  MINERAL OIL prn OMEGA  FATTY ACIDS Hospital  PSYLLIUM METAMUCIL prn SENNA   . mg Tablet prn   Discharge Medications: . Carvedilol . mg Tablet Sig: Two () Tablet PO BID ( times a day). . Fentanyl  mcg/hr Patch  hr Sig: One () Patch  hr Transdermal QH (every  hours). . Furosemide  mg Tablet Sig: One () Tablet PO DAILY (Daily).  . Lactulose  gram/ mL Syrup Sig: Thirty () ML PO QH (every  hours) as needed. . Acetaminophen  mg Tablet Sig:   Tablets PO QH (every  hours) as needed. . Oxybutynin Chloride  mg Tablet Sig: Three () Tablet PO QHS (once a day (at bedtime)). . Ascorbic Acid  mg Tablet Sig: One () Tablet PO BID ( times a day). . Docusate Sodium  mg Capsule Sig: One () Capsule PO BID ( times a day) as needed. . Senna . mg Tablet Sig: One () Tablet PO BID ( times a day) as needed. . Calcium Carbonate  mg Tablet, Chewable Sig: One () Tablet, Chewable PO TID ( times a day). . Omeprazole  mg Capsule, Delayed Release(E.C.) Sig: One () Capsule, Delayed Release(E.C.) PO BID ( times a day). . Simvastatin  mg Tablet Sig: Four () Tablet PO DAILY (Daily). . Brimonidine . % Drops Sig: One () Drop Ophthalmic Hospital  ( times a day). . Modafinil  mg Tablet Sig: . Tablet PO BID ( times a day). . Ciprofloxacin  mg Tablet Sig: One () Tablet PO QH (every  hours) for  days: through   . . Clonidine . mg Tablet Sig: One () Tablet PO TID ( times a day). . Bisacodyl  mg Tablet, Delayed Release (E.C.) Sig: Two () Tablet, Delayed Release (E.C.) PO DAILY (Daily) as needed. . Levetiracetam  mg Tablet Sig: Two () Tablet PO BID ( times a day). . Combivent   mcg/Actuation Aerosol Sig: One () inh Inhalation twice a day as needed. . TRAVATAN Z . % Drops Sig: One ()  Ophthalmic once a day: To Left eye. . Cranberry  mg Capsule Sig: One () Capsule PO twice a day. . Omega  Fatty Acids     Capsule Sig: One () Capsule PO twice a day. . Ergocalciferol (Vitamin D)  unit Tablet Sig: One () Tablet PO twice a day.  The patient has an allergy listed to ACE Inhibitors, and was therefore not discharged on an ACE Inhibitor. This will be communicated to PCP.   Discharge Disposition: Home With Service  Facility: Hospital  Home Health Care  Discharge Diagnosis: . Multiple Sclerosis . Urinary Tract Infection, complicated . Hyponatremia . Secondary: . Chronic Diastolic CHF   Discharge Condition: Stable vital signs.   Discharge Instructions: You were admitted with altered mental status and found to have low sodium and a urinary tract infection. You were started on antibiotics for your urinary tract infection (cipro) to complete a  week course. Your sodium corrected after adjusting your medications and reducing your water intake. . You were found to have an abnormality in your liver. You had a CT scan and the results are pending final interpretation. We have provided a phone number below so that you can schedule an appointment in Hospital  clinic. It may be necessary to reimage the liver or take a biopsy of the lesion seen on CT scan. . Your medications have changed. You were switched from tegratol to keppra. Please review your most recent medication list and take only these medications, and discard any old medications not on this list. . Please return to the hospital if you develop fevers, chills, or worsening symptoms.  Followup Instructions: . First Name (NamePattern)  First Name (NamePattern)  Last Name (NamePattern) , MD Phone:Telephone/Fax ()  Date/Time:   : . . First Name (Name Pattern)  Last Name (NamePattern) , MD Phone:Telephone/Fax ()  Date/Time:   : . . Hospital  CLINIC at Hospital : (Telephone/Fax ()     Completed by:\n",
      "    Answer:\n",
      "    \n",
      "INFO:httpx:HTTP Request: POST https://medcode-aoai-useast.openai.azure.com//openai/deployments/gpt4o-mini-deploy/chat/completions?api-version=2024-02-01 \"HTTP/1.1 200 OK\"\n",
      "INFO:__main__:Parent Code: 0 | Found: ['00', '03', '04']\n",
      "INFO:__main__:Prompt: \n",
      "    Categories = 00: Intestinal infectious diseases|01: Tuberculosis|02: Zoonotic bacterial diseases|03: Other bacterial diseases|04: Human immunodeficiency virus (HIV) infection|05: Poliomyelitis and other non-arthropod-borne viral diseases of central nervous system|06: Viral diseases accompanied by exanthem|07: Arthropod-borne viral diseases|08: Other diseases due to viruses and Chlamydiota|09: Rickettsioses and other arthropod-borne diseases\n",
      "    Note = Admission Date:                  Discharge Date:       Date of Birth:                 Sex:   F  Service: SURGERY  Allergies: Ovral  / Codeine / Sulfonamides  Attending:Doctor First Name  Chief Complaint: bruising and some mild abdominal pain  Major Surgical or Invasive Procedure: Exploratory laparotomy, debridement of abdominal wall, small and large bowel resection, and closure over a Location (un)  bag.  Exploratory laparotomy.   History of Present Illness: INDICATIONS FOR SURGERY:  This is a  year old woman who noted some bruising and some mild abdominal pain over a large incisional hernia site. She came to the emergency room where she developed profound sepsis and a CT scan which showed intraperitoneal air. She also was found to have crepitance and expanding hematoma or bruising over her incisional hernia.  The patient was taken emergently to the operating room.  Past Medical History: s/p MVC (), s/p R AKA, ventral hernia repair w/ component seperation (), anxiety  Social History: Mother and son are the patients support system  Family History: noncontributory  Physical Exam: gen: Intubated, secated CV: +ss Pulm: coarse BS diffusely Abd: large Location (un)  bag in place Ext: + edema  Pertinent Results:   CT: . Large ventral abdominal wall hernia with two discrete defects. The more inferior hernia defect (smaller defect) contains several loops of necrotic  appearing bowel with evidence of pneumatosis and possible perforation, suggesting strangulated ventral hernia. Large amount of subcutaneous free air within the ventral hernia sac inferiorly which tracks retroperitoneally and into the mesentery, for which necrotizing fascitis should be considered. . Likely aspiration at the lung bases, worse on the right side.    Pathology: I)  Ventral hernial sac (A B):  Hernial sac with acute inflammation and serositis.  II)  Abdominal wall (C D):  Skin and subcutaneous tissue with extensive necrosis and abscess formation.  III: Distal ileum and ascending colon, resection (E L):  Extensive hemorrhagic necrosis and transmural infarction of the small and large intestine:       a. Transmural necrosis is present at the proximal (ileal) resection margin.       b. Viable distal (colonic) resection margin with serositis; acute inflammation focally extends into the subserosa and muscularis.     :PM BLOOD WBC . RBC . Hgb .# Hct . MCV  MCH . MCHC . RDW . Plt Ct     :AM BLOOD WBC .# RBC . Hgb . Hct . MCV  MCH . MCHC . RDW . Plt Ct #    :PM BLOOD WBC . RBC . Hgb . Hct . MCV  MCH . MCHC . RDW . Plt Ct     :PM BLOOD Neuts  Bands  Lymphs  Monos  Eos  Baso  Atyps  Metas  Myelos     :AM BLOOD Neuts  Bands  Lymphs  Monos  Eos  Baso  Atyps  Metas  Myelos     :PM BLOOD ALT  AST  LD(LDH)  AlkPhos  Amylase  TotBili .    :AM BLOOD ALT  AST  LD(LDH)  AlkPhos  Amylase  TotBili .    :AM BLOOD ALT  AST  AlkPhos  Amylase  TotBili .    :AM BLOOD ALT  AST  AlkPhos  TotBili .    :PM BLOOD Lipase     :AM BLOOD Lipase     :AM BLOOD Lipase     :PM BLOOD Cortsol .    :PM BLOOD Cortsol .    :PM BLOOD Lactate . K .    :AM BLOOD Glucose  Lactate . Na  K . Cl     :AM BLOOD Glucose  Lactate . Na  K . Cl     :AM BLOOD Lactate .    :AM BLOOD Glucose  Lactate . K .  Brief Hospital Course: The patient was admitted, and underwent the aforementioned surgical procedures; for details, please see operative notes. The patient returned to the SICU intubated and sedated for further care. On  , her family decided to make the patient CMO after two exploratory laparotomies.  Neuro: The patient was sedated and received paralytics at times to keep her comfortable while ventilated.  She received pain medications IV when appropriate.  CV:  The patients vital signs were routinely monitored, and was put on vasopressin, norepinephrine and epinephrine during her stay to maintain appropriate hemodynamics.  Pulmonary:  Vital signs were routinely monitored.  She was intubated and sedated throughout her admission, and her ventilation settings were adjusted based on ABG values.  Serial chest x rays were performed. A bronchoscopy was performed on  , with aspiration of feculant material from the right  bronchus intermedius, blood clot adherent to left main bronchus.  GI/GU/FEN:  Post operatively, the patient was made NPO with IVF.  She was unable to be extubated and did not receive any nutrition.  On  , the patient was made CMO.  The patients intake and output were closely monitored, and IVF were adjusted when necessary.  The patients electrolytes were routinely followed during this hospitalization, and repleted when necessary.    ID: The patients white blood count and fever curves were closely watched for signs of infection. Her white blood count continued to rise throughout her admission; for trends, please see results section. The patient was in septic shock with multiorgan failure.  She was on vancomycin, fluconazole and Zosyn during her stay, and culture data was routinely monitored.     Endocrine:  The patients blood sugar was monitored throughout this stay; insulin dosing was adjusted accordingly, and she was put on a drip when necessary.   She received cosyntropin for a cortisol stimulation test.  Hematology:  The patients complete blood count was examined routinely; multiple (over  units) transfusions were required during this stay.    Prophylaxis:  The patient received subcutaneous heparin during this stay.  The patient was made CMO on  , after which she passed away.   Medications on Admission:  serax , amitryptiline  Discharge Disposition: Expired  Discharge Diagnosis: Perforated viscus, dead bowel, and deep tissue infection.   Discharge Condition: deceased  Discharge Instructions: none  Followup Instructions: none                               Name (MD)  Last Name (NamePattern)  MD, MD Number()\n",
      "    Answer:\n",
      "    \n",
      "INFO:httpx:HTTP Request: POST https://medcode-aoai-useast.openai.azure.com//openai/deployments/gpt4o-mini-deploy/chat/completions?api-version=2024-02-01 \"HTTP/1.1 200 OK\"\n",
      "INFO:__main__:Parent Code: 0 | Found: ['01', '03', '04']\n",
      "INFO:__main__:Prompt: \n",
      "    Categories = 00: Intestinal infectious diseases|01: Tuberculosis|02: Zoonotic bacterial diseases|03: Other bacterial diseases|04: Human immunodeficiency virus (HIV) infection|05: Poliomyelitis and other non-arthropod-borne viral diseases of central nervous system|06: Viral diseases accompanied by exanthem|07: Arthropod-borne viral diseases|08: Other diseases due to viruses and Chlamydiota|09: Rickettsioses and other arthropod-borne diseases\n",
      "    Note = Admission Date:                  Discharge Date:       Date of Birth:                 Sex:   M  Service: MEDICINE  Allergies: No Known Allergies / Adverse Drug Reactions  Attending:First Name (LF)  Chief Complaint: Chest pain and anemia   Major Surgical or Invasive Procedure: Colonoscopy and Upper Endoscopy  History of Present Illness:  year old man with afib on coumadin, insulin dependent DM, obseity, systolic and diastolic heart failure LVEF  %, CAD s/p CABG , PTCA, STEMI with BMS to the SVG OM graft   , presents with fatigue and dyspnea on exertion over past week.  He was initially feeling well after discharge  / and began exercising and losing weight.  However, this past week dyspnea increased and exertional capacity decreased.  He called his cardiologist who thought he might be overdiuresed, therefore his lasix and spironolactone were reduced to half prior doses. Dyspnea worsened despite this change.  Then on the day of admission he had  bowel movements, the second of which was dark black.  The bowel movement was preceeded by crampy abdominal pain.  He attempted to walk from the bathroom to the kitchen but because acutely dyspneic.  He sat down and then developed chest pain, took a nitro with relief.  Tried to walk again but the chest pain returned, thus called EMS and was brought to an OSH. There his chest pain was relieved by repeated nitroglycerin and he was eventually started on a nitroglycerin drip.  Labs at OSH were notable for HCT , INR ., K .  Enroute to Hospital , his SBP dropped with increasing nitro drip doses.  Upon arrival to Hospital , he was chest pain free with VS . /,   % L.  ECG showed a new LBBB, trop negative. Labs notable for K . (not hemolyzed) and thus he received calcium, D/insulin, and kayexalate.  INR was ..  GI was called given HCT drop from  to  and made plans to scope in the morning.  Rectal exam notable for brown stool guaiac positive with specks of black stool.  Nitroglycerin drip was stopped and his pain was controlled with morphine PRN.  He received L NS.  Vitals prior to transfer .  /  % RA pain .  On arrival to the MICU, he was initially comfortable, but then developed chest pain prompting morphine mg x without relief. SL nitro was given with improvement in pain.  ECG showed narrow complex sinus rhythm with ST depressions in I, V V.  He later had another episode of pain relieved by SL nitroglycerin.  Past Medical History: CAD s/p CABG in , s/p cath in  wiuth BMS to Lcx,  revealing a severe stenosis in the SVG to the OM s/p BMS x ,  at Hospital  (patient says stent but unknown location) IDDM morbid obesity COPD sleep apnea on BiPAP CHF, diastolic, with EF % per OSH reports afib HTN CVA with right sided numbness history of rheumatic fever  Social History: Lives with wife and four children.  Worked as a carpenter.  No tob/ETOH/IVDA.   Family History: Adopted, unknown   Physical Exam: Admission exam: Vitals: F /   % RA General: Alert, oriented, no acute distress HEENT: Sclera anicteric, MMM, oropharynx clear, EOMI, PERRL Neck: supple, JVP not elevated, no LAD CV: Regular rate and rhythm, normal S + S, no murmurs, rubs, gallops Lungs: Clear to auscultation bilaterally, no wheezes, rales, ronchi Abdomen: soft, obese, non tender, non distended, bowel sounds present, no organomegaly GU: no foley Ext: warm, well perfused, + pulses, no clubbing, cyanosis or edema Neuro: CNII XII intact, / strength upper/lower extremities, grossly normal sensation  Discharge exam: VS   ., ., / ( / ),  ( ), , RA GENERAL   Obese late middle aged man in NAD. Oriented x. HEENT   NCAT. Oropharynx clear NECK   Supple, unable to assess JVD due to habitus CARDIAC    RRR, normal S, S. No m/r/g. No S or S. LUNGS   CTAB, no crackles, wheezes or rhonchi. ABDOMEN   Soft, obese NTND. No HSM or tenderness. EXTREMITIES   WWP, no LE edema, no clubbing SKIN   Multiple scars across lower extremities from vein harvesting, some chronic stasis changes  Pertinent Results: Admission Labs: ===============    :PM BLOOD WBC . RBC . Hgb . Hct . MCV  MCH . MCHC . RDW . Plt Ct     :PM BLOOD Neuts . Lymphs . Monos . Eos . Baso .    :PM BLOOD PT . PTT . INR(PT) .    :PM BLOOD Glucose  UreaN  Creat . Na  K . Cl  HCO  AnGap     :AM BLOOD Calcium . Phos . Mg .  Pertinent Labs: ===============    :PM BLOOD cTropnT <.    :AM BLOOD CK MB  cTropnT .    :AM BLOOD CK MB  cTropnT .    :PM BLOOD CK MB  cTropnT .    :AM BLOOD Hapto     :AM BLOOD LD(LDH)  TotBili . DirBili . IndBili .  HELICOBACTER PYLORI ANTIBODY TEST: POSITIVE BY EIA. Urine culture    no growth  Discharge Labs: ===============    :AM BLOOD Hct .    :AM BLOOD PT . PTT . INR(PT) .    :AM BLOOD Glucose  UreaN  Creat . Na  K . Cl  HCO  AnGap     :AM BLOOD Calcium . Phos . Mg .  Micro/Path: =========== URINE CULTURE (Final   ):    NO GROWTH. HELICOBACTER PYLORI ANTIBODY TEST (Final   ): POSITIVE BY EIA. MRSA SCREEN (Final   ):    No MRSA isolated.  Imaging/Studies: ================ CXR    Status post sternotomy, with mild prominence of the cardiomediastinal silhouette.  There is upper zone re distribution without overt CHF.  There is minimal atelectasis at both bases.  No frank consolidation or effusion.  EKG     LBBB  > sinus rhythm narrow complex, ST depressions V V and I, avL  EGD    Nodularity in the whole stomach compatible with nodular gastritis. Normal EGD to third part of the duodenum.  CT abd/pelvis    .  No evidence of retroperitoneal bleed or acute intra abdominal process. .  Fatty infiltration of the liver. .  Cholelithiasis. .  Right renal cyst.  Colonoscopy   : Impression: Grade  internal hemorrhoids Diverticulosis of the sigmoid colon Otherwise normal colonoscopy to cecum  Brief Hospital Course:  year old man with afib on coumadin, insulin dependent DM, obseity, systolic and diastolic heart failure LVEF  %, CAD s/p CABG , PTCA, STEMI with BMS to the SVG OM graft   , presents with fatigue and dyspnea on exertion, found to have hematocrit drop secondary to GI bleed.  ACTIVE DIAGNOSES: ================= # Chest Pain: Demand ischemia in setting of GI bleed. He has known coronary vascular disease with refractory angina that is not amenable to intervention per cardiology team. No evidence of consolidation or PTX on CXR to suggest pulmonary cause. Patient was transfused a total of  units pRBCs; hematocrit initially stabilized and when heparin gtt and coumadin were re started, hematocrit dropped again and chest pain returned without EKG changes. He was continued on aspirin, plavix, and ranolazine. Imdur was started at a lower dose than home dose given concern for hypotension in setting of bleeding, but BP remained stable so imdur was titrated up to his home dose. He then had return of chest pain, with dynamic ST changes in V V and I/avL, consistent with known non intervenable areas of disease.  His imdur was increased to mg and metoprolol was increased to tartrate mg PO BID without further episodes of chest pain.  # UGIB/H.Pylori + Nodular Gastritis: On EGD, patient had evidence of nodular gastritis with superficial erosions. H.pylori returned positive and patient began triple therapy with amoxicillin (not candidate for clarithromycin given interaction with ranolazine), metronidazole and pantoprazole.  Coumadin was held and INR was reversed with vitamin K.  Patient had ongoing hematocrit drop without obvious bleeding once heparin drip was restarted, so both coumadin and heparin were stopped.  Patient will complete  weeks of triple therapy, then continue Hospital  pantoprazole.  He does not require GI follow up or test of cure. He also underwent colonoscopy which did not reveal an additional or alternative source of his bleeding. If he continues to bleed, the next step would be a capsule endoscopy. He will have a Hospital  check prior to his PCP appointment to assess his hematocrit.  # Acute blood loss anemia: Source suspected to be gastritis as above. Coumadin was held on admission to the ICU and reversed with vitamin K and FFP.  He was transfused a total of  units during admission; initially  units in the ICU as he had an inappropriate response to blood, then again on the floor as with initiation of coumadin and bridge with heparin drip, patients hematocrit drifted down.  Haptoglobin and LDH were normal, and indirect bilirubin was only slightly elevated (and was post transfusion) so low suspicion for hemolysis.  With discontinuation of heparin drip and coumadin, hematocrit stabilized and patient did not require transfusion for > hours prior to discharge.  # Constipation: Significantly constipated during admission. Required  days of prep prior to his colonoscopy.  Patient discharged on senna/colace/miralax to prevent further constipation.  # Acute on chronic systolic heart failure:  On admission, patient had mild pulmonary edema secondary to decreased lasix and spironolactone dose over past week prior to admission. Patient was diuresed in the ICU, and was euvolemic on transfer to the floor. He was continued on home lasix mg daily, with extra doses with transfusions. He had a few episodes of orthostatic hypotension prompting decrease of his lasix dose to mg PO daily. Patient was euvolemic at the time of discharge, and weight was stable at  kg.  # Hyperkalemia: . on admission likely secondary to ARF, spironolactone, and lisinopril.  ECG improved to narrow complex once potassium normalized. Potassium remained stable for remainder of admission.  Spironolactone was not restarted, and lisinopril was restarted at lower dose of mg PO daily.  # LBBB: Suspect metabolic etiology given improved with K correction.  Trop negative suggesting against acute coronary syndrome.  LBBB resolved after correction of K.  # Acute renal failure: Likely secondary to systolic CHF with poor forward flow with second hit of poor perfusion due to acute GIB. Patients creatinine trended down and was . on day of discharge.  # Leukocytosis: Unclear etiology, but may be due to stress of GIB.  No evidence of infectious colitis, UA without evidence of infection and no consolidation seen on CXR.  White count resolved and remained normal for remainder of admission.  CHRONIC DIAGNOSES: ==================  # HLD: continued atorvastatin  # Depression: continued venlafaxine  # DMII: Blood sugar well controlled during admission.  Transitional issues: # Spironolactone held on discharge given hyperkalemia to . on admission.  # Coumadin held on discharge  > we anticipate holding this medication for about a month while his gastritis heals with protection against stroke with aspirin mg and plavix mg in the interim.  # Lisinopril decreased to mg daily to prevent hyperkalemia and increase pressure room to uptitrate Imdur to mg PO daily and metoprolol to mg tartrate Hospital   # H.pylori triple therapy treatment to continue through     # Hematocrit and electrolytes should be rechecked by PCP at Name (PRE)  appointment, he has a script for this.  # Insulin decreased to / mix  units daily given in house hypoglycemia. We suggest setting him up with Last Name (un)  for further diabetes management but wanted him to discuss this with his PCP Name Initial (PRE) .  # Weight on discharge kg, discharged on furosemide mg daily.  Medications on Admission: . aspirin  mg DAILY . nitroglycerin . mg qmin PRN . furosemide  mg PO daily . lisinopril  mg PO DAILY . atorvastatin  mg PO DAILY . insulin NPH & regular human  unit/mL ( ) Suspension Sig: One Hundred () units Subcutaneous twice a day. . metformin  mg PO daily . venlafaxine  mg PO DAILY . warfarin  mg PO once a day. . pantoprazole  mg PO once a day. . ranolazine , mg PO twice a day. . clopidogrel  mg PO daily . isosorbide mononitrate  mg PO once a day. . metoprolol succinate  mg PO once a day. . spironolactone  mg PO once a day.  Discharge Medications: . clopidogrel  mg Tablet Sig: One () Tablet PO DAILY (Daily). . ranolazine  mg Tablet Extended Release  hr Sig: Two () Tablet Extended Release  hr PO BID ( times a day). . atorvastatin  mg Tablet Sig: One () Tablet PO DAILY (Daily). . pantoprazole  mg Tablet, Delayed Release (E.C.) Sig: One () Tablet, Delayed Release (E.C.) PO QH (every  hours). Name Initial (PRE) : Tablet, Delayed Release (E.C.)(s) Refills: . venlafaxine  mg Capsule, Ext Release  hr Sig: One () Capsule, Ext Release  hr PO DAILY (Daily). . nitroglycerin . mg Tablet, Sublingual Sig: One () Tablet, Sublingual Sublingual PRN (as needed) as needed for chest pain.  . metformin  mg Tablet Sig: One () Tablet PO once a day. . metronidazole  mg Tablet Sig: One () Tablet PO QH (every  hours) for  days. Name Initial (PRE) : Tablet(s) Refills: . amoxicillin  mg Tablet Sig: Two () Tablet PO twice a day for  days. Name Initial (PRE) : Tablet(s) Refills: . senna . mg Tablet Sig: One () Tablet PO BID ( times a day) as needed for Constipation. Name Initial (PRE) : Tablet(s) Refills: . docusate sodium  mg Capsule Sig: One () Capsule PO BID ( times a day). Name Initial (PRE) : Capsule(s) Refills: . aspirin  mg Tablet, Delayed Release (E.C.) Sig: One () Tablet, Delayed Release (E.C.) PO once a day. . metoprolol tartrate  mg Tablet Sig: Three () Tablet PO twice a day. Name Initial (PRE) : Tablet(s) Refills: . insulin NPH & regular human  unit/mL ( ) Suspension Sig: Eighty () units Subcutaneous twice a day. . Imdur  mg Tablet Extended Release  hr Sig: Four () Tablet Extended Release  hr PO once a day. . Miralax  gram Powder in Packet Sig: One ()  PO once a day. Name Initial (PRE) : packets Refills: . lisinopril  mg Tablet Sig: One () Tablet PO once a day. Name Initial (PRE) : Tablet(s) Refills: . furosemide  mg Tablet Sig: One () Tablet PO once a day. Name Initial (PRE) : Tablet(s) Refills: . Outpatient Name Initial (PRE)  Work Please obtain CBC, Chem  prior to your appointment. Have the results communicated to your PCP: Name Initial (NameIs) : Name Initial (NameIs) ,Name Initial (NameIs)  Address: Hospital , Location (un) ,Numeric Identifier  Phone: Telephone/Fax ()  Fax: Telephone/Fax ()    Discharge Disposition: Home With Service  Facility: Location (un)  VNA  Discharge Diagnosis: Primary diagnosis: # Unstable Angina # H. pylori + nodular gastritis with erosions # Blood loss anemia  Secondary diagnosis: # Coronary artery disease # Atrial Fibrillation   Discharge Condition: Mental Status: Clear and coherent. Level of Consciousness: Alert and interactive. Activity Status: Ambulatory   requires assistance or aid (rolling walker)   Discharge Instructions: Dear Mr. Known lastname ,  It was a pleasure taking care of you! You were admitted to Hospital  for evaluation and treatment of chest pain, shortness of breath, and GI bleeding. You were found to have a low blood count likely due to a slow bleed in your GI tract related to all of your blood thinners and gastritis with erosions from H. pylori (a bacteria that pre disposes to gastritis and ulcers).  You were started on a medication to protect your GI tract, treatment for your infection, and you were given blood transfusions to improve your blood counts. You underwent an upper endoscopy which showed the inflammation of the stomach and erosions and a colonoscopy which was without source of bleeding.  You also had an elevation in your potassium level, so your spironolactone was discontinued.  We attempted re starting anticoagulation but you began to bleed again. As a result, your coumadin is being held until resolution of your gastritis. We suggesting waiting a month or so until resuming coumadin and would like to re assure you that you are recieving protection against stroke from your afib from your aspirin and plavix.  The following changes were made to your medication regimen:   START Metronidazole three times day through Monday    to treat the infection in your stomach   START Amoxicillin twice a day through Monday    to treat the infection in your stomach   INCREASE pantoprazole to twice a day to protect your stomach lining   INCREASE Imdur to mg by mouth daily   CHANGE to Metoprolol Tartrate mg by mouth twice daily   DECREASE Lisinopril to mg daily   DECREASE Lasix to mg daily   DECREASE Insulin / to  units twice daily   STOP Spironolactone   STOP Coumadin  > you will have to discuss with your primary care doctor restarting this medication about a month from now once your gastritis has healed   START Senna and Colace twice a day as needed for constipation   START Miralax once daily as needed for constipation  Please follow up as suggested below.  Followup Instructions: Name:Name (MD)  Name (MD) ,MD Specialty: Primary Care Address: Hospital , Location (un) ,Numeric Identifier  Phone: Telephone/Fax ()  When: Tuesday,   at :pm   Please have your labs checked prior to this appointment, on discharge your hematocrit was .  Department: CARDIAC SERVICES When: THURSDAY    at : AM With: Name (MD)  Name (MD) , MD Telephone/Fax ()  Building: SC Hospital Ward Name  Clinical Ctr Location (un)  Campus: EAST     Best Parking: Hospital Ward Name  Garage    Completed by:\n",
      "    Answer:\n",
      "    \n",
      "INFO:httpx:HTTP Request: POST https://medcode-aoai-useast.openai.azure.com//openai/deployments/gpt4o-mini-deploy/chat/completions?api-version=2024-02-01 \"HTTP/1.1 200 OK\"\n",
      "INFO:__main__:Parent Code: 0 | Found: ['00']\n",
      "INFO:__main__:Prompt: \n",
      "    Categories = 00: Intestinal infectious diseases|01: Tuberculosis|02: Zoonotic bacterial diseases|03: Other bacterial diseases|04: Human immunodeficiency virus (HIV) infection|05: Poliomyelitis and other non-arthropod-borne viral diseases of central nervous system|06: Viral diseases accompanied by exanthem|07: Arthropod-borne viral diseases|08: Other diseases due to viruses and Chlamydiota|09: Rickettsioses and other arthropod-borne diseases\n",
      "    Note = Admission Date:                  Discharge Date:       Date of Birth:                 Sex:   M  Service: SURGERY  Allergies: No Known Allergies / Adverse Drug Reactions  Attending:First Name (LF)  Chief Complaint: Perforated diverticulitis  Major Surgical or Invasive Procedure: OSH procedure:   : Exploratory laparotomy, sigmoid colectomy and formation of Hartmanns pouch colostomy  Hospital  operations:   : Exploratory laparotomy with revision of sigmoid colostomy   : Abdominal washout, liver biopsy, abdominal closure   History of Present Illness: HPI:  yo male with hx of significant etoh abuse presenting from OSH with perforated sigmoid colon, s/p sigmoid colectomy, currently septic on Neo. Intubated the evening prior to transfer.  The pt initially presented to the OSH with one week of abdominal pain, nausea and vomiting with associated diarrhea. CT scan in the ED demonstrated free air. Labs at the time were pertinent for ARF with Cr. of .. Sodium , bicarb  with AG of  and T.bili .. Pt was taken to the OR for an ex lap and found to have perforated viscous in the sigmoid area. Fibrinous exudate in the left side was present c/w longstanding process. A Hartmann pouch and LLQ colostomy was performed. The pt was started on levaquin, flagyl and zosyn.  Postop the pt had persistent acidosis with a bicarb of , lactate .. He was started on a bicarb gtt. During the course of the OSH stay the pt has been  liters positive. He remains hypotensive on neo. Of note the pt drinks up to half a gallon a day of whiskey. His last drink was  days ago.   Past Medical History: Alcohol abuse  PSH: Hartmanns procedure  Social History: History of alcohol abuse Lives with mother who works at Hospital , which is where the patient was admitted previosly  Family History: Non contributory  Physical Exam: On transfer to Hospital :    /  % CMV % /  Neuro: Awake responsive to questions/follows commands Card: tachycardic, no m/r/g/c Pulm: Intubated clear breath sounds bilaterally GI:+Bowel sounds. Midline incision c/d/i. dusky sunken appearing colostomy. Appropriately tender to palpation Ext: peripheral edema palpable DP, radial pulses   Pertinent Results:  : OSH CT abd/pelvis CT (OSH) free air and sigmoid stranding/diverticulitis.  Labs on admission:     :PM   WBC . RBC . HGB . HCT . MCV  MCH . MCHC . RDW .    :PM   PLT COUNT     :PM   PT . PTT . INR(PT) .    :PM   ALT(SGPT)  AST(SGOT)  ALK PHOS  TOT BILI . DIR BILI . INDIR BIL .    :PM   GLUCOSE  UREA N  CREAT . SODIUM  POTASSIUM . CHLORIDE  TOTAL CO  ANION GAP     :PM   CALCIUM . PHOSPHATE . MAGNESIUM .    :PM   freeCa .    :PM   GLUCOSE  LACTATE . K+ .    :PM   TYPE ART PO  PCO  PH . TOTAL CO  BASE XS     Brief Hospital Course: Mr. Known lastname  was admitted to the trauma ICU on    for further management following his Hartmanns procedure for perforated diverticulitis and septic shock. He remained on pressors which were weaned slightly overnight. He received a blood transfusion for a hematocrit of . which increased to . and was weaned off pressors.  Copious secretions were noted from his ET tube. Intraoperative cultures from the OSH were obtained. They were peritoneal cultures and were polymicrobial. He was extubated and remained hemodynamically stable so was transferred to the floor on   .  At the time of transfer to the floor the pt was NPO with IV fluids and NG tube to suction. He was on IV zosyn for empiric coverage and also had a foley catheter in place for urine output monitoring. On   his NG tube output remained low so it was removed along with the foley catheter as he was making good amounts of urine. However, the appearance of his stoma continued to be dusky and necrotic and his WBC count increased from . on   to . on  . Therefore, he was taken back to the OR for an ostomy revision on   .  Intraoperatively, he received over L in crystalloid for hypotension. His abdomen was left open due to bowel edema and he was brought to the trauma ICU intubated and sedated. He was aggressively diuresed overnight and his abdomen was closed on   . Also of note, the liver was noted to be quite yellowed in appearance suspicious of acute fatty liver and a biopsy was sent during the abdominal closure procedure (please see operative note for details). Postoperatively, his vent was weaned with continued diuresis. He was extubated on    and transferred back to the floor hemodynamically stable.  On   he was noted to have gas and a small amout of stool from his ostomy so his diet was advanced as tolerated. His foley catheter which had been placed upon return to the operating room was again removed and he voided without difficulty. His vital signs were routinely monitored and he remained afebrile and hemodynamically. His lung sounds were noted to have crackles and his chest x ray appreared wet and he was diuresed with lasix as needed. His white blood cell count  began trending downward to  from . His hematocrit has stabilized at . He was encouraged to mobilize out of bed and ambulate as tolerated throughout his postoperative course and he remained on SC heparin for DVT prophylaxis.  Ostomy nursing was consulted and provided appropriate treatment and supplies for the patient to care for his colostomy.  On HD #, he was note to have mild erythema around the lower aspect of his wound and he underwent further removal of staples from the lower aspect of his wound. Remained of inferior staples were removed on POD # and wound was lightly packed with wet to dry dressing.  The patient has been instructed in caring for his wound and dressing changes. He partipated in dressing changes and agreed to continue with them.  VNA service will also provide him with assistance.   His vital signs have been stable and he has been afebrile.  He is preparing for discharge home with follow up in the acute care clinic.   Medications on Admission: None   Discharge Medications: . Ostomy supplies  piece Coloplast Sensura ( Dist # Numeric Identifier  Doctor First Name  # Numeric Identifier ) # boxes Refills: . Ostomy Supplies Last Name (un)  wafer Dist # Numeric Identifier , manf # Numeric Identifier  # boxes Refills:  . hydromorphone  mg Tablet Sig:   Tablets PO QH (every  hours) as needed for pain. Disp: Tablet(s) Refills: . Colace  mg Capsule Sig: One () Capsule PO twice a day as needed for constipation. . senna . mg Tablet Sig: One () Tablet PO twice a day as needed for constipation.   Discharge Disposition: Home With Service  Facility: Hospital  Homecare and Hospice  Discharge Diagnosis: Perforated diverticulitis Sepsis Acute Kidney Injury Ischemic sigmoid colostomy Open abdomen secondary to diverticulitis and sepsis Acute fatty liver   Discharge Condition: Mental Status: Clear and coherent. Level of Consciousness: Alert and interactive. Activity Status: Ambulatory   Independent.   Discharge Instructions: You were transferred from Hospital  after undergoing an emergent operation for perforated diverticulitis. You became septic postoperatively and were transferred here to Hospital  for further management. You were managed in the ICU and your condition improved so you were transferred to the surgical floor. You were then taken back to the operating for because your stoma was necrotic and had your stoma revised. Because of bowel swelling you abdomen was left open for a short period of time. Two days later it was able to be closed in the operating room. It was also noted that your liver appeared abnormal and a biopsy of it was taken during your last operation. The results of the biopsy are still pending at this time.  Your infection has improved and your colostomy is now functioning well. You have resumed a regular diet and should continue to do so. You are being discharged home with the following instructions:  Please follow up in the Acute Care Surgery Clinic at the appointment scheduled for you below.  Your colostomy: You have received teaching from the ostomy nurses on how to care for your stoma. Empty the pouch when it becomes   full as instructed.  ACTIVITY:  Do not drive until you have stopped taking pain medicine and feel you could respond in an emergency. You may climb stairs. You may go outside, but avoid traveling long distances until you see your Month/Day ()  at your next visit. Dont lift more than   lbs for  weeks. (This is about the weight of a briefcase or a bag of groceries.) This applies to lifting children, but they may sit on your lap. You may start some light exercise when you feel comfortable. You will need to stay out of bathtubs or swimming pools for a time while your incision is healing. Ask your doctor when you can resume tub baths or swimming. Heavy exercise may be started after  weeks, but use common sense and go slowly at first.  HOW YOU Month (only)  FEEL:  You may feel weak or washed out for  weeks. You might want to nap often. Simple tasks may exhaust you. You may have a sore throat because of a tube that was in your throat during surgery. You might have trouble concentrating or difficulty sleeping. You might feel somewhat depressed. You could have a poor appetite for a while. Food may seem unappealing. All of these feelings and reactions are normal and should go away in a short time.  If they do not, tell your Month (only) .  YOUR INCISION: Your incision may be slightly red around the staples. This is normal. Your staples will be removed at your follow up appointment in clinic. You may gently wash away dried material around your incision. It is normal to feel a firm ridge along the incision. This will go away. Avoid direct sun exposure to the incision area. Do not use any ointments on the incision unless you were told otherwise. You may see a small amount of clear or light red fluid staining your dressing r clothes. If the staining is severe, please call your Month (only) . You may shower. As noted above, ask your doctor when you may resume tub baths or swimming. Ove the next   months, your incision will fade and become less prominent.  PAIN MANAGEMENT: It is normal to feel some discomfort/pain following abdominal surgery. This pain is often described as soreness. Your pain should get better day by day. If you find the pain is getting worse instead of better, please contact your Name (NI) . You will receive a prescription from your Name (NI)  for pain medicine to take by mouth. It is important to take this medicine as directied. Do not take it more frequently than prescribed. Do not take more medicine at one time than prescribed. Your pain medicine will work better if you take it before your pain gets too severe. Talk with your Name (NI)  about how long you will need to take prescription pain medicine. Please dont take any other pain medicine, including non prescription pain medicine, unless your Name (NI)  has said its okay. If you are experiencing no pain, it is okay to skip a dose of pain medicine. Remember to use your cough pillow for splinting when you cough or when you are doing your deep breathing exercises. If you experience any of the folloiwng, please contact your Name (NI) :   sharp pain or any severe pain that lasts several hours   pain that is getting worse over time   pain accompanied by fever of more than    a drastic change in nature or quality of your pain  MEDICATIONS: Take all the medicines you were on before the operation just as you did before, unless you have been told differently. In some cases you will have a prescription for antibiotics or other medication. If you have any questions about what medicine to take or not to take, please call your Name (NI) .  DANGER SIGNS: Please call your Name (NI)  if you develop:   worsening abdominal pain   sharp or severe pain that lasts several hours   temperature of  degrees or higher   severe diarrhea   vomiting   redness around the incision that is spreading   increased swelling around the incision   excessive bruising around the incision   cloudy fluid coming from the wound   bright red blood or foul smelling discharge coming from the wound   an increase in drainage from the wound  Followup Instructions: Department: GENERAL SURGERY/Hospital Unit Name  With: Dr. First Name (NamePattern)  Last Name (NamePattern)  When: TUESDAY    at : PM With: ACUTE CARE CLINIC Telephone/Fax ()  Building: LM Hospital Ward Name  Bldg (Last Name (NamePattern) ) Location (un)  Campus: WEST     Best Parking: Hospital Ward Name  Garage    Completed by:\n",
      "    Answer:\n",
      "    \n",
      "INFO:httpx:HTTP Request: POST https://medcode-aoai-useast.openai.azure.com//openai/deployments/gpt4o-mini-deploy/chat/completions?api-version=2024-02-01 \"HTTP/1.1 200 OK\"\n",
      "WARNING:src.call_aoai:invalid syntax (<unknown>, line 1)\n",
      "INFO:__main__:Parent Code: 0 | Found: []\n",
      "INFO:__main__:Prompt: \n",
      "    Categories = 00: Intestinal infectious diseases|01: Tuberculosis|02: Zoonotic bacterial diseases|03: Other bacterial diseases|04: Human immunodeficiency virus (HIV) infection|05: Poliomyelitis and other non-arthropod-borne viral diseases of central nervous system|06: Viral diseases accompanied by exanthem|07: Arthropod-borne viral diseases|08: Other diseases due to viruses and Chlamydiota|09: Rickettsioses and other arthropod-borne diseases\n",
      "    Note = Admission Date:                  Discharge Date:       Date of Birth:                 Sex:   M  Service: MEDICINE  Allergies: Patient recorded as having No Known Allergies to Drugs  Attending:First Name (LF)  Chief Complaint: hypotension, fever to   Major Surgical or Invasive Procedure: femoral central line  History of Present Illness:  yo man c PMH of Chronic Liver disease, Hepatoma s/p First Name (LF)  x , COPD, Afib on coumadin, was in his USOH until    AM when he began having chills, rigors and was febrile at home to , per pt.  He went to Location (un)  ED were he was found to be hypotensive BP in low  s. Pt denies having: cough, SOB, dysuria, urinary frequency, diarrhea, abdominal pain, n/v, night sweats, anorexia. Last BM was yesterday. At Location (un) : Levaquin,  L NS, dopamine  mcg/min. Pt arrived to Hospital  ED c BP in near / HR  s. Dopamine drip was stopped.  However pt was noticed to have refractory hypotension and started on Levophed again.  In the Hospital  ED, he received IV Vanco, Levoflox, FFP and NS IVF at cc/hour. . His MICU course: The pt was on vanc, levo, flagyl in the unit. Panculture negative to date. CXR without infiltrates. Abd u/s negative for cholecystitis. Abdominal CT to r/o new liver abscess considering pts PMH was negative.  Vancomycin was tapered off   (received  days).  IV levoflox and flagyl were continued.  Pt was also on steroids for bronchospasm, COPD in MICU, and received prednisone mg po qd in the unit, with bronchodilators.  He is satting  % on L NC (his baseline oxygen requirement).  Initially, his INR was supratherapeutic to ., so coumadin was held initially.  Coumadin was restarted for goal INR  .  His foley was d/cd and he continues to urinate well. He is tolerating a regular diet, taking all meds orally.   Past Medical History:  Afib for many years on coumadin  HTN  COPD  Hepatocellular carcinoma and cirrhosis s/p Month/Day ()  surgery x , dxd  years ago, folloed by Dr. First Name (STitle)  at Hospital  . Pt has hx of liver abscess s/p second First Name (NamePattern)   .  Prosthetic rigtht eye s/p HSV and subsequent enucleation  Stent in pancreas for mass and h/o obstructive jaundice  Sarcoidosis s/p lung biopsy on right  h/o Right temporal infarct   subtherapeutic INR, Afib by MRI,    h/o splenic infarct thought   subtherapeutic INR, Afib    last echo   : EF %, mod markedly dil atria b/l.  dil RV with free wall hypokinesis, RV pressure overload, +MR, +TR, severe pulm artery HTN, Cardiologist at Location (un)  is Dr. Last Name (STitle) , dry weight  lbs.   Social History: The patient lives at home with wife, independent in ADLs, has   daughters, originally from Name (NI)  but here since , smoked ppd x  years quit  yrs ago, no etoh, no drugs. Former construction worker for Location (un)  gas co.   Family History: The patient is one of  children.  brothers and  sister with strokes, brothers at ages  and . One brother with Name (NI)  cancer. No seizures run in family.   Physical Exam: Physical Exam on admission: VITALS: . HR   afib,  / , , %  Lt GEN: no acute distress, pleasant elderly man SKIN: no rash , jaundiced Name (NI) : NC/AT, anicteric sclera, mmm NECK: supple, no meningismus , + JVP CHEST: normal respiratory pattern, CTA bilat anteriorly , decreased breath sounds in both bases CV: irregular irregular rate, no murmurs ABD: soft, nontender, nondistended, +BS, liver edge not palpable , no ascites. EXTREM: no edema, + dorsalis pedis pulses, + radial pulses  . Phys Exam on call out from MICU: Vitals:  Tm: . Tc: . BP: / ( / ) P:  RR:   Osat:  % on L NC.   hour I/O / +.   hour I/O: /  . General:  Well appearing CM in NAD. Pleasant and cooperative. Sitting upright in chair talking with daughter. Name (NI) : right eye is prosthetic, left eye PERRL, left eye EOMI. No nasal discharge.  MM slightly dry, OP clear. Poor dentition. JVD mid neck.  No cervical LAD. Lungs: CTAB CV: Irregularly irregular rhythm.  S and S audible. Abd: Soft, NT, ND, Positive BS, No ascites.  No HSM. Ext: No peripheral edema.  No cyanosis/clubbing.  Ext warm and well perfused.  + DP pulses b/l.   Pertinent Results:    :PM   WBC .# RBC . HGB . HCT . MCV  MCH . MCHC . RDW .    :PM   NEUTS  BANDS  LYMPHS  MONOS  EOS  BASOS  ATYPS  METAS  MYELOS     :PM   HYPOCHROM NORMAL ANISOCYT NORMAL POIKILOCY NORMAL MACROCYT + MICROCYT NORMAL POLYCHROM NORMAL    :PM   PLT COUNT     :PM   LACTATE .    :PM   PT . PTT . INR(PT) . .   : CXR IMPRESSION: Cardiomegaly with congestive heart failure.Bibasilar atelectasis with small bilateral pleural effusions. .   : Abdominal Ultrasound IMPRESSION: No evidence of acute cholecystitis or cholelithiasis. Patchy areas of increased echogenicity in the right lobe of the liver likely representing changes associated with prior RF ablation. .    CT TORSO IMPRESSION: . Bilateral predominantly peripheral ground glass opacities, which are new from the prior study. The etiology is uncertain, but differential diagnosis includes includes infectious or inflammatory process, cryptogenic organizing pneumonia, eosinophilic or hypersensitivity pneumonia and pulmonary edema superimposed on severe emphysema. Clinical correlation and follow up if indicated is recommended. . Stable renal cysts. . Stable appearance of the radiofrequency ablations site. No evidence of abdominal abscess or pseudocyst. . Peripheral high attenuation area transiently seen ?perfusion anomaly, as described. . CULTURE DATA:    Blood cx X  neg    Blood cx X  neg    Urine cx no growth   : UA neg nitr, neg leuks,   WBC,   RBC, rare bact,   epi. .   Brief Hospital Course:  yo man with Chronic Liver disease, Hepatoma s/p Month/Day ()  x , h/o liver abscess, COPD, Atrial fibrillation on coumadin admitted for fever and hypotension, thought to be septic secondary to unclear etiology   CXR negative for infiltrate but with bilateral pleural effusions (effusions too small for a diagnostic thoracentesis), Urinalysis negative, urine cx negative, blood cx X  negative.  Pt covered empirically X  days on Vanco/Levo/Flagyl, d/c Vanco   , and continued Levo/Flagyl to complete  day course given history of liver abscess in past. . .  Hypotension, Fever on admission thought to be   Septic picture:  with no clear source.  However low BP, documented fever at OSH, and hx of chills makes infection likely. Pt started on Levofloxacin + Vanc in ED and on Levophed trough peripheral IV. On vanc, levo, flagyl in the MICU. Panculture negative to date. CXR without infiltrates. Abd u/s negative for cholecystitis.  CT torso showing ground glass opacities in lungs inflamm vs. infectious, bilateral effusions too small to tap.  No intraabd abscess.    Plan to continue Levo/Flagyl for  more days to complete  day course given h/o liver abscess in past. . .  Cardiovascular: A. Coronaries: No signs of ischemia on EKG, enzymes negative. Aspirin was held and his beta blocker was continued. B. Pump:  No signs of ischemia on EKG or enzymes.  Getting mg IV lasix for diuresis, transitioned to mg po lasix on transfer to medical floor.  Of note, he usually gets mg po qd of lasix at home.  Last echo was   showing EF %, severe pulm a HTN, dil atria b/l, dilated right ventricle with pressure overload. On discharge, he is monitor his daily weight and call his PCP if his weight increases by  lbs or more, as this may indicate heart failure. C. Rhythm: Atrial fibrillation.  He is to continue his beta blocker, atenolol, for rate control, and coumadin for anticoagulation. Goal INR  . The pt is at goal INR with mg coumadin po qday. . . COPD: Started prednisone mg qday for total of  days, which was completed during this hospitalization. He is to continue bronchodilators. Pt satting well on L NC, his baseline oxygen requirement.  He was satting well ambulating with physical therapy. . . GI: Pt with hx of liver disease, hepatocellular carcinoma status post Month/Day () .  LFTs are elevated, AFP high, however stable and trending downward.  No abd pain, nausea, vomiting, diarrhea, constipation.  No intraabdominal abscess was seen on CT abdomen.  Stable appearance of radiofrequency ablations site on CT Abdomen. . . HTN:  Pts blood pressure has remained stable, he has not required pressors in over  hours, no fluids needed for past  hours.  Taking well po.  Restarted Beta blocker and his Last Name (un)  with tight hold parameters. . . Code:  Pt is full code.  Medications on Admission: . Aspirin  mg Tablet . Albuterol Ipratropium   mcg/Actuation Aerosol . Fluticasone Salmeterol   mcg/Dose Disk with Device Sig:  . Atenolol  mg Tablet Sig . Losartan Potassium  mg Tablet Sig: One () Tablet PO DAILY  (Daily). . Warfarin Sodium  mg Tablet Sig: One () Tablet PO once a day. . LT  ug QD . Lasix  QD  Discharge Medications: . Levothyroxine  mcg Tablet Sig: . Tablet PO DAILY (Daily). Disp: Tablet(s) Refills: . Atenolol  mg Tablet Sig: One () Tablet PO DAILY (Daily). Disp: Tablet(s) Refills: . Levofloxacin  mg Tablet Sig: One () Tablet PO QH (every  hours) for  days. Disp: Tablet(s) Refills: . Warfarin  mg Tablet Sig: One () Tablet PO DAILY (Daily): You will need to see Dr. Last Name (STitle)  for refills and to monitor your INR lab values/adjust dose. . Disp: Tablet(s) Refills: . Losartan  mg Tablet Sig: One () Tablet PO DAILY (Daily). Disp: Tablet(s) Refills: . Furosemide  mg Tablet Sig: Two () Tablet PO DAILY (Daily): You will need to follow up with Dr. Last Name (STitle)  for refills, and to check your electrolytes. Disp: Tablet(s) Refills: . Metronidazole  mg Tablet Sig: One () Tablet PO TID ( times a day) for  days. Disp: Tablet(s) Refills: . Albuterol  mcg/Actuation Aerosol Sig: Two () puffs Inhalation every   hours as needed for wheezing. Disp: MDI Refills: . Ipratropium Bromide  mcg/Actuation Aerosol Sig: Two () Puff Inhalation QID ( times a day). Disp: MDI Refills:   Discharge Disposition: Home With Service  Facility: Hospital  Home Health Care  Discharge Diagnosis: .  Hypotension .  Atrial fibrillation .  Hypertension .  Chronic Obstructive Pulmonary Disease .  Hepatocellular carcinoma .  history of right temporal infarct .  history of splenic infarct .  history of sarcoidosis status post lung biopsy on the right .  history of prosthetic right eye   Discharge Condition: Stable, Good   Discharge Instructions: If you experience fever, chills, chest pain, shortness of breath, abdominal pain, nausea, vomiting, please report to the emergency room immediately. Please take all of your medications as prescribed. Please follow up with your physician.  Name (NameIs)  information below.  Followup Instructions: You have an appointment with Dr. Last Name (STitle)  Name (STitle) , :am,  , .  Please call her office at Telephone/Fax ()  if you need to reschedule your appointment.    Completed by:\n",
      "    Answer:\n",
      "    \n",
      "INFO:httpx:HTTP Request: POST https://medcode-aoai-useast.openai.azure.com//openai/deployments/gpt4o-mini-deploy/chat/completions?api-version=2024-02-01 \"HTTP/1.1 200 OK\"\n",
      "INFO:__main__:Parent Code: 0 | Found: ['01', '00', '04', '03', '08']\n",
      "INFO:__main__:Prompt: \n",
      "    Categories = 00: Intestinal infectious diseases|01: Tuberculosis|02: Zoonotic bacterial diseases|03: Other bacterial diseases|04: Human immunodeficiency virus (HIV) infection|05: Poliomyelitis and other non-arthropod-borne viral diseases of central nervous system|06: Viral diseases accompanied by exanthem|07: Arthropod-borne viral diseases|08: Other diseases due to viruses and Chlamydiota|09: Rickettsioses and other arthropod-borne diseases\n",
      "    Note = Admission Date:                  Discharge Date:       Date of Birth:                 Sex:   F  Service: MEDICINE  Allergies: Keflex / Penicillins / Erythromycin Base / Demerol / Ceclor  Attending:First Name (LF)  Chief Complaint: SOB  Major Surgical or Invasive Procedure: None.   History of Present Illness:  yo woman w/ h/o recurrent PEs s/Initials (NamePattern)  Last Name (NamePattern)  filter, GIB while anticoagulated, COPD, who was discharged    after being treated for new PE presented to the ED with SOB and productive cough. She was readmitted    after she was found to have a multifocal pneumonia and was treated with Levo/Flagyl and Vanco. Cultures were positive for MRSA. Levo and Flagyl were continued for suspected aspiration PNA. The pt recovered quickly over since admission and she is now back on her home O requirement. She was getting bridged for her anticoagulation with Lovenox starting   in preparation for discharge.  However, she developed severe abdominal pain and a palpable mass in her L abdomen. A CT was showed a new large hematoma in the muscles of the left anterior and lateral lower abdominal and pelvic wall, without any intraperitoneal or retroperitoneal extent, but with associated mass effect on the lower abdominal and pelvic bowel loops. Surgery was Month/Year ()  and suggested no intervention, but monitoring for now. HCT dropped  points in this setting, but she remained hemodynamically stable with tachycardia which has been present throughout her hospital stay ( ).  She required a total of  units PRBC and  units FFP transfusions and was transferred to the MICU for further monitoring.  Her hematocrit has since been stable with serial checks. . ROS: She has baseline left to mid chest pain with exertion that is not currently bothering her. She denies current chest pain, SOB, dysuria, increased urinary frequency. She has stable R knee pain.   Past Medical History: . H/O Rheumatic Fever   age   dxed last year with rheumatic heart disease per pt (states ED diagnosed this) and has had syndenham chorea . ?CHF per pt. although   Echo revealed low normal LVEF, mildly thickened aortic and mitral valves with mild MR First Name (Titles)  Last Name (Titles) .  . Orthostatic hypotension . Chest pain   nearly monthly visits to ED with negative ischemic w/u in the past . Duodenal/gastric ulcer . Seven miscarriages . Ulcerative colitis . Diverticulosis s/p colostomy and reversal colostomy had Colonoscopy   showed only diverticuli without e/o active bleed . Panic attacks x  yrs . Depression   several SA in past . Schizoaffective disorder . h/o polysubstance abuse . Iron deficiency anemia (baseline unclear high s to s)  . COPD . PE  , c/b GIB while on anticoagulation, s/Initials (NamePattern)  Last Name (NamePattern)  filter. New PE on   , again on anticoagulation   Social History: Lives in lodge house. She has a homemaker help with her cleaning. She gets meals on wheels. She has very limited funds. Smoked  PPD X  yrs, quit smoking  months ago. Former drinker, reports drinking two  packs per day for  yrs; quit  yrs ago. Denies h/o illicits and IVDA. H/O domestic violence.  Family History: Daughter     colitis. Had  siblings. One sister died, , ovarian CA. Brother, died at , stroke. Sister, died at  from infection. Father died at  of MI. Mom was psychotic, died of stroke at   Physical Exam: VS: . HR , Bp / RR   Sats % L. Gen: NAD, pleasant HEENT: PEERLA, MMM. Neck: supple, no LAD Lungs: moderate air movement, decreased breath sounds at bases CV: RRR, SS present, distant heart sounds, no murmurs Abd: +BS, S/ND, + umbilical hernia, ulcer mid abdomen reportedly chronic, unchanged, mildy errythematous base. no secretions. Tenderness in L abdomen, palpable mass over unclear extension, no guarding, no rebound Back: no CVA tenderness. Ext: + on RLE, + edema LLE/ no c/c/ + DP Neuro: A&Ox, CN II XII intact. moving all extremities.  Pertinent Results: ADMISSION LABS:    :PM   PT . PTT . INR(PT) .    :PM   WBC .# RBC . HGB . HCT . MCV  MCH . MCHC . RDW .    :PM   NEUTS . BANDS  LYMPHS . MONOS . EOS . BASOS .    :PM   GLUCOSE  UREA N  CREAT . SODIUM  POTASSIUM . CHLORIDE  TOTAL CO  ANION GAP     :PM URINE  BLOOD NEG NITRITE NEG PROTEIN NEG GLUCOSE NEG KETONE NEG BILIRUBIN NEG UROBILNGN NEG PH . LEUK NEG    :AM   LACTATE .    :AM BLOOD WBC . RBC .# Hgb .# Hct . MCV  MCH . MCHC . RDW . Plt Ct     :AM BLOOD PT . PTT . INR(PT) .    :AM BLOOD Glucose  UreaN  Creat . Na  K . Cl  HCO  AnGap     :AM BLOOD Calcium . Phos . Mg .    :PM BLOOD PEP HYPOGAMMAG IgG  IgA  IgM  . CTA chest: . Interval development of patchy areas of consolidation with mucous plugging, particularly in the right lower lobe, right upper and mid lobes suggest a new infectious process or aspiration. . Resolution of the previously identified pulmonary embolism. . Extensive centrilobular and paraseptal emphysematous change. . Fluid attenuating structure adjacent to the right T  neural foramen is also unchanged and could be a perineural cyst. . CT abdomen/pelvis: . New large hematoma in the muscles of the left anterior and lateral lower abdominal and pelvic wall, without any intraperitoneal or retroperitoneal extent, but with associated mass effect on the lower abdominal and pelvic bowel loops. . Unchanged infectious or inflammatory opacities in the right middle and lower lobes. .    IR Embolization: . Right inferior epigastric arteriogram demonstrates no extravasation of contrast and successful embolization with Gelfoam until stagnation of flow. . The right internal mammary artery demonstrated no areas of active extravasation of contrast. .    CXR: There is an irregular opacity in the right lower lobe concerning for pneumonia.  There are no pleural effusions. There is no pneumothorax.  The left subclavian catheter tip overlies the mid SVC.  Heart size normal.  Mediastinal and hilar contours are normal. IMPRESSION:  Opacity in the right lower lobe concerning for pneumonia. .    LENIS: Extensive occlusive thrombus is demonstrated from the common femoral vein at the takeoff of the greater saphenous vein extending distally to the popliteal veins bilaterally.  No color flow, compressibility, or waveforms are demonstrated within these areas of thrombus. IMPRESSION:  Extensive, completely occlusive, bilateral deep venous thrombi extending from the common femoral veins to the popliteal veins. .    ECG: Sinus tachycardia, Normal ECG except for rate   Brief Hospital Course: F w/ h/o recurrent PE s/Initials (NamePattern)  Last Name (NamePattern)  filter, GIB on anticoagulation, COPD, recently admitted for new PE, readmitted for multifocal PNA, who developed a large abdominal wall hematoma in the context of enoxaparin injections.  # Multifocal Pneumonia: She was admitted with multifocal pneumonia. She was started on levofloxacin and vancomycin.  She completed a  day course of levofloxacin.  MRSA was found to grow in her sputum so she was continued on a  day course of vancomycin. She originally presented with elevated WBC count and left shift which quickly resolved with the initiation of antibiotics.  Her productive cough improved as well and she remained on her baseline home O of L.  Approximately  days after completion of her  day course of Vancomycin, the patient developed worsening cough, SOB, and upper respiratory symptoms. A repeat CXR showed evidence of a new consolidation in the RLL. The patient was started back on Levofloxacin/Flagyl.  Vancomycin was added to her regimen when blood cultures showed / bottles with GPC in clusters and chains.  Additionally, her sputum culture grew out GNRs.  Levofloxacin was discontinued and Meropenem was started for concern for Pseudomonas given the patients long hospital course.  Her O sat remained stable  % on L nasal cannula (which is her baseline).  She was given mucomyst inhaled nebulizers to assist in breaking up thick sputum.  Her GNRs in the sputum grew out E. coli.  Because of the sensitivity profile of the E. coli and the patients allergy to penicillin and cephalosporins, the patient was continued on Meropenem.  Her GPCs were found to grow out Coag negative Staph.  Surveillance cultures had no further growth and the coag negative staph was thought to likely be a contaminant.  Her Vancomycin was discontinued.  She will continue a  day course of Meropenem and she was discharged with a PICC to complete this course. . # Pulmonary embolism/DVTs: She has had multiple PEs and has had one even since the placement of a TrapEase IVC filter. CT during recent previous hospitalization revealed appropriate location of filter and CTA on this admission showed improvement of clot. Admission labwork revealed an INR of ..  Coumadin was thus held and reversed with FFP and vitamin K given her history of GIB on anticoagulation.  In the interim, therapeutic lovenox injections were initiated, but within days of starting, she developed a large abdominal wall hematoma near to lovenox injection site.  Once her hematocrit stabilized, she was started on a heparin gtt with coumadin overlap.  While Last Name (NamePattern)  her Coumadin with an INR ., she was found to have a large Hct drop and a CT scan of the abdomen showed a new rectus hematoma.  She was subsequently transferred to the MICU for closer monitoring. It was decided after her second hematoma while on anticoagulation, the risks of anticoagulation outweigh the benefits at this time and she was not anticoagulated.  In terms of her hypercoagulable workup, it has been negative thus far for hyperhomocysteinemia, Factor V Leiden and antiphospholipid antibody. Malignancy workup included a colonoscopy and EGD as well as CEA, all of which were within normal limits. SPEP revealed hypogammaglobulinemia, but was otherwise unremarkable. During her hospital course, she also began to complain of worsening lower extremity pain.  LENIs were obtained which showed evidence of extensive, completely occlusive, bilateral deep venous thrombi extending from the common femoral veins to the popliteal veins.  Radiology felt that these clots were most likely acute to subacute in nature.  In this setting, hematology/oncology saw the patient again to consider the risks vs benefits of anticoagulation.  Antithrombin III, prothrombin mutation, Lupus anticoagulation and Location (un)  Venom Viper were sent to reevaluate the reason for her hypercoagulability.  The hematology/oncology team still felt that the risks of coagulation outweigh the potential benefits given that the patient has had multiple bleeding episodes in the setting of anticoagulation.  # Abdominal wall hematoma: As mentioned above, she developed a large left sided abdominal wall hematoma from a Lovenox injection site that caused a significant hct drop (originally .  >.).  Despite the drop, she remained hemodynamically stable (has sinus tachycardia at baseline prior to bleed). She received  units prbcs,  units FFP. Her hematocrit then stabilized and once stable, she was restarted on heparin gtt. Coumadin was re initiated and heparin gtt was continued while awaiting her INR to become therapeutic.  While Location (un)  her Coumadin with an INR ., she was found to have another Hct drop (. > .) and a CT scan of the abdomen showed a new right sided rectus hematoma.  She was subsequently transferred to the MICU for closer monitoring.  She was given  unit FFP and  units PRBCs between Date range ()  until her hematocrit became stable and she bumped appropriately to transfusion.  It was decided after her second hematoma while on anticoagulation, the risks of anticoagulation outweigh the benefits at this time and she was not anticoagulated.  She has complained of   abdominal pain with movement and has maintained stable hematocrits.  Her pain is most likely   to the large rectus hematoma that will resolve over time.  Her Hct remained stable after her anticoagulation was discontinued.  # Thoracic mass:  CT chest and abdomen revealed a stable thoracic mass (stable x years) and thought potentially consistent with neural cyst.  It was not further evaluated by MRI given its long term stability and also she has metal hardware in place s/p elbow surgery and facial plates.  It should be followed up with imaging to ensure it remains unchanged in the future.  # ? Zoster:  Patient reports having a history of herpes on her right buttock.  During her stay, she developed a tingling, itchiness and multiple small erythematous skin lesions on her right buttock over the S, S dermatomal distribution.  There were no vesicles appreciated.  She was treated with acyclovir.  # Candidal vaginitis:  Treated with fluconazole x  with resolution of symptoms.  # H/o GI bleeding during recent admission: Recent colonoscopy showed diverticulosis with no active signs of bleeding.  She had no blood in her stools during this admission even while anticoagulated.  Her stools were guiac ed multiple times and were found to be guiac negative.  # Constipation: She is constipated at baseline and requires daily scheduled bowel regimen to maintian regularity.  # Hyperlipidemia: Continued on lipitor.  # Depression/SAD: Continued on Prozac, risperdone, wellbutrin, and klonopin.  # Ulcerative Colitis: Remains in remission.  She was continued on mesalamine.  # Orthostatic hypotension: She remained asymptomatic even while ambulating with physical therapy.  She was continued on midodrine.  Medications on Admission: . Fluoxetine  mg daily . Risperidone  mg PO HS . Bupropion SR  mg Hospital  . Nicotine  mg/ hr Patch . Hexavitamin daily . ascorbic acid  tab  Hospital  . Calcium Carbonate  tab Hospital  . Ferrous gluconate  PO daily . Atorvastatin  mg daily . Fluticasone Salmeterol / Hospital  . Midodrine  mg tab  TID . Tiotropium bromide capsule one cap /day . Mesalamine  TID . Pantoprazole / day . Albuterol nebs prn (tid generally) . docusate sodium . Warfarin  mg/day . Ipratropium nebs prn (tid generally) . clonazepam mg po tid   Discharge Medications: . Fluoxetine  mg Capsule Sig: Three () Capsule PO DAILY (Daily). . Risperidone  mg Tablet Sig: Three () Tablet PO HS (at bedtime). . Bupropion  mg Tablet Sustained Release Sig: One () Tablet Sustained Release PO BID ( times a day). . Hexavitamin     Tablet Sig: One () Cap PO DAILY (Daily). . Calcium Carbonate  mg Tablet, Chewable Sig: One () Tablet, Chewable PO BID ( times a day). . Fluticasone Salmeterol   mcg/Dose Disk with Device Sig: One () Disk with Device Inhalation Hospital  ( times a day). . Midodrine  mg Tablet Sig: One () Tablet PO TID ( times a day). . Mesalamine  mg Tablet, Delayed Release (E.C.) Sig: Three () Tablet, Delayed Release (E.C.) PO TID ( times a day). . Pantoprazole  mg Tablet, Delayed Release (E.C.) Sig: One () Tablet, Delayed Release (E.C.) PO QH (every  hours). . Docusate Sodium  mg Capsule Sig: One () Capsule PO BID ( times a day). . Nicotine  mg/ hr Patch HR Sig: One () Patch HR Transdermal DAILY (Daily). . Ferrous Gluconate  mg Tablet Sig: One () Tablet PO DAILY (Daily): please do not take this with levofloxacin. . Cepacol  mg Lozenge Sig: One () Lozenge Mucous membrane QH (every  hours) as needed. Disp: Lozenge(s) Refills: . Tiotropium Bromide  mcg Capsule, w/Inhalation Device Sig: One () Cap Inhalation DAILY (Daily). . Sodium Chloride . % Aerosol, Spray Sig:   Sprays Nasal QID ( times a day). Disp:QS bottle Refills: . Senna . mg Tablet Sig: One () Tablet PO BID ( times a day). Disp: Tablet(s) Refills: . Clonazepam  mg Tablet Sig: One () Tablet PO TID ( times a day) as needed for anxiety. Disp: Tablet(s) Refills: . Saline Flush . % Syringe Sig: Three () ml Injection twice a day for  doses: prior to each vanco dose. Disp: syringe Refills: . Docusate Sodium  mg Capsule Sig: One () Capsule PO twice a day. . Simethicone  mg Tablet, Chewable Sig: One () Tablet, Chewable PO QID ( times a day) as needed. . Aluminum Magnesium Hydroxide   mg/ mL Suspension Sig:   MLs PO QID ( times a day) as needed. . Bisacodyl  mg Tablet, Delayed Release (E.C.) Sig: Two () Tablet, Delayed Release (E.C.) PO DAILY (Daily) as needed for constipation. . Oxycodone  mg Tablet Sig:   Tablets PO Q H (every  to  hours) as needed for pain. . Lidocaine  %( mg/patch) Adhesive Patch, Medicated Sig: One () Adhesive Patch, Medicated Topical QD (). . Pantoprazole  mg Tablet, Delayed Release (E.C.) Sig: One () Tablet, Delayed Release (E.C.) PO QH (every  hours). . Nystatin , unit/g Cream Sig: One () Appl Topical Hospital  ( times a day). . Albuterol Sulfate . % Solution Sig: One ()  Inhalation QH (every  hours) as needed for wheezing. . Ezetimibe  mg Tablet Sig: One () Tablet PO DAILY (Daily).  . Acetaminophen  mg Tablet Sig: Two () Tablet PO QH (every  hours) as needed for pain. . Heparin Lock Flush (Porcine)  unit/mL Syringe Sig: One () ML Intravenous DAILY (Daily) as needed: for PICC line. . Meropenem  mg Recon Soln Sig: One () Recon Soln Intravenous QH (every  hours) for  days.   Discharge Disposition: Extended Care  Facility: Hospital  & Rehab Center   Hospital   Discharge Diagnosis: Primary: ) Pulmonary Embolism with history of DVT and IVC filter placement in    ) Community Acquired Pneumonia ) History of GI Bleed (extensive) in    when anticoagulated ) Abdominal wall hematoma, with acute blood loss anemia requiring  units PRBCs when anticoagulated for current pulmonary embolism ) Noscomial Pneumonia with GNR in sputum, ) Coagulopathy ) Noscomial UTI with E. coli   quinolone resistant ) Vagnitis, attributed to broad spectrum antibiotic usage ) otitis externa ) tachycardia ) diarrhea ) incidentally noted left renal cyst/mass NOS ) Coagulase negative staphylococcal bacteremia ) Rectus sheath hematoma in setting of anticoagulation . Secondary: ) chronic orthostatic hypotension ) recurrent otitis externa ) ulcerative colitis in remission ) chronic obstructive pulmonary disease ) depression ) h/o schizoaffective disorder   Discharge Condition: Stable.   Discharge Instructions: Please take all medications as prescribed, please keep all follow up appointments. Please call your primary care doctor, Dr. First Name (NamePattern)  Last Name (NamePattern) , or return to the Emergency Department if you experience fevers, chills, worsening shortness of breath, dizziness, lightheadedness, worsened chest pain, nausea, vomiting, diarrhea, blood in your stools or any symptoms that concern you. . Please take all of your medications as prescribed and follow up with your primary care doctor First Name (Titles)  Last Name (Titles)  below.  Followup Instructions: You need to set up a followup appointment to see Dr. First Name (NamePattern)  Last Name (NamePattern)  in   weeks. Please call (Telephone/Fax ()  to set up this appointment. . You had the following appointment scheduled prior to your hospitalization: Provider: Name (NameIs)  SURGERY CLINIC Phone:Telephone/Fax ()  Date/Time:   :  Follow up CT scan or ultrasound of left kidney is recommended as well as Urologic follow up due to incidentally noted left renal cyst/mass that may be malignant.                                First Name (NamePattern)  Last Name (NamePattern)  MD MD Number()   Completed by:\n",
      "    Answer:\n",
      "    \n",
      "INFO:httpx:HTTP Request: POST https://medcode-aoai-useast.openai.azure.com//openai/deployments/gpt4o-mini-deploy/chat/completions?api-version=2024-02-01 \"HTTP/1.1 200 OK\"\n",
      "INFO:__main__:Parent Code: 0 | Found: ['01']\n",
      "INFO:__main__:Prompt: \n",
      "    Categories = 00: Intestinal infectious diseases|01: Tuberculosis|02: Zoonotic bacterial diseases|03: Other bacterial diseases|04: Human immunodeficiency virus (HIV) infection|05: Poliomyelitis and other non-arthropod-borne viral diseases of central nervous system|06: Viral diseases accompanied by exanthem|07: Arthropod-borne viral diseases|08: Other diseases due to viruses and Chlamydiota|09: Rickettsioses and other arthropod-borne diseases\n",
      "    Note = Sinus rhythm. Probable prior inferior wall myocardial infarction. Left ventricular hypertrophy. Tall peaked precordial T waves. No previous tracing available for comparison. Clinical correlation is suggested.\n",
      "    Answer:\n",
      "    \n",
      "INFO:httpx:HTTP Request: POST https://medcode-aoai-useast.openai.azure.com//openai/deployments/gpt4o-mini-deploy/chat/completions?api-version=2024-02-01 \"HTTP/1.1 200 OK\"\n",
      "INFO:__main__:Parent Code: 0 | Found: ['00']\n",
      "INFO:__main__:Prompt: \n",
      "    Categories = 00: Intestinal infectious diseases|01: Tuberculosis|02: Zoonotic bacterial diseases|03: Other bacterial diseases|04: Human immunodeficiency virus (HIV) infection|05: Poliomyelitis and other non-arthropod-borne viral diseases of central nervous system|06: Viral diseases accompanied by exanthem|07: Arthropod-borne viral diseases|08: Other diseases due to viruses and Chlamydiota|09: Rickettsioses and other arthropod-borne diseases\n",
      "    Note = : AM  CHEST (PORTABLE AP)                                             Clip # Clip Number (Radiology)   Reason: eval for new infiltrate or effusion  Admitting Diagnosis: HYPOTENSION,RASH,FEVER,SEIZURE  ______________________________________________________________________________  Hospital  MEDICAL CONDITION:    year old man with pulm edema, intubated  REASON FOR THIS EXAMINATION:   eval for new infiltrate or effusion  ______________________________________________________________________________                                  FINAL REPORT  INDICATION:  Evaluation for new opacities or pneumonia.   COMPARISON:    .   FINDINGS:  As compared to the previous radiograph, the monitoring and support  devices are in unchanged position.  The pre existing bilateral opacities have  markedly decreased.  However, a moderate retrocardiac atelectasis is still  present.  There also are signs suggesting mild to moderate pulmonary edema.  The size of the cardiac silhouette is unchanged.  No newly occurred focal  parenchymal opacities suggesting pneumonia.\n",
      "    Answer:\n",
      "    \n",
      "INFO:httpx:HTTP Request: POST https://medcode-aoai-useast.openai.azure.com//openai/deployments/gpt4o-mini-deploy/chat/completions?api-version=2024-02-01 \"HTTP/1.1 200 OK\"\n",
      "INFO:__main__:Parent Code: 0 | Found: ['01', '03']\n",
      "INFO:__main__:Prompt: \n",
      "    Categories = 00: Intestinal infectious diseases|01: Tuberculosis|02: Zoonotic bacterial diseases|03: Other bacterial diseases|04: Human immunodeficiency virus (HIV) infection|05: Poliomyelitis and other non-arthropod-borne viral diseases of central nervous system|06: Viral diseases accompanied by exanthem|07: Arthropod-borne viral diseases|08: Other diseases due to viruses and Chlamydiota|09: Rickettsioses and other arthropod-borne diseases\n",
      "    Note = Admission Date:                  Discharge Date:       Date of Birth:                 Sex:   F  Service: MEDICINE  Allergies: No Known Allergies / Adverse Drug Reactions  Attending:First Name (LF)  Chief Complaint: shortness of breath  Major Surgical or Invasive Procedure: . Intubation and mechanical ventilation. . Placement of  pleurex catheters   History of Present Illness: F history of DM, HTN, HLD, cardiac problem, transferred from Name (NI) . Pt presented with one month of breathing difficulty, weight loss, cough, decreased apetite getting progressively worse over time. Family trie to bring pt in earlier but she refused to go to hospital. Last night pt became acute more SOB and family called ambulance and pt brought to First Name (NamePattern)  Last Name (NamePattern) . At Hospital  found to have WBC , HR s in A fib, lactate=; concern for possible malignant process and ? PE. Got dilt mg PO and mg IV for HR, which improved. Also got L IVF. LENI showed R DVT. Got head CT which showed nothing acute. Deferred CTA chest due to elevated Cr (Cr .). Started on heparin gtt for DVT and concern for PE. Got azithro and ceftriaxone at Hospital . During transport pt developed worsened rales/crackles possibly secondary to  L IVF given. . In the Hospital  ED, initial VS were: , RR , /, % L NRB. ECG showed AFib with RVR. Patient was started on a nitro gtt, heparin gtt, given vancomycin/zosyn, and placed on BiPAP for resp distress which didnt tolerate. Labs were notable for a lactate of ., WBC count ., INR . and Cr of .. CXR: air fluid level abscess in lung. Patient was initially trialed on BiPAP, did not tolerate, and thus was intubated (straight forward intubation). Placed R IJ. CVP=. Lactate rose to  and concern for gut ischemia. CTA chest and torso: No PE, revealed multiple abscess in L lung  Rim enhancing fluid collection. Multiple hypodensisities in kidney and liver suggestive of embolic infectious process. in ED given: Vanco, zosyn, flagyl. Thoracics consult: Poor surgical candidate. Recc drainage per IR right now. K=  >insulin/D, Kayexlate. Gave  UPRBC for elevated lactate. ED attempted to call family several times to give update, never got through. . On arrival to the MICU, pt is intubated, sedated, on Levo . and Dopamine . Had family meeting with son and  grandchildren. Family very tearful, as of now they request FULL code but will continue to discuss goals of care. They report this pt is usualy active at baseline, ambulatory, takes care of her great grandchildren.   Past Medical History: Dm HTN HLD Cardiac process  seen at Hospital  hospital, family is not sure what process this is.   Social History: Lives with son, normally active at baseline and babysits grandchildren. Ambulatory. Rarely admitted to the hospital. No history of smoking or drug use.   Family History:  no cancers.   Physical Exam: Vitals:T ., HR , BP /, A fib, % on AC FiO , TV , F , PEEP , MV ..  IVF in: L plus  PRBC. UO:  in First Name (NamePattern)  Last Name (NamePattern)  and  in Hospital  ED. General: sedated HEENT: Sclera anicteric, MMM, oropharynx clear, EOMI, PERRL Neck: supple, JVP not elevated, no LAD CV: irregular rate, no mrg. Lungs: anterior breath sounds, no crackles, few ronchi Abdomen: soft, non tender, non distended, bowel sounds present, no organomegaly GU: foley Ext: warm, well perfused, + pulses, no clubbing, cyanosis or edema Neuro: sedated   Pertinent Results: Cytology    NEGATIVE FOR MALIGNANT CELLS. Acellular specimen with bacterial overgrowth; Correlate with microbiology report.  ECG Study Date of     :: AM The rhythm is regular and most likely a junctional escape rhythm at  beats per minute without clear atrial activity. Delayed R wave transition. No previous tracing available for comparison. Possible prior anteroseptal myocardial infarction.  CHEST (PORTABLE AP) Study Date of    : AM FINDINGS:  There is extensive opacification of the left hemithorax with an air fluid level identified superiorly. These findings are representative of a large mass, possibly abscess in a fissure. Less likely would be a large hiatal hernia. There is rightward shift of normally midline structures. Otherwise, the right hemithorax appears clear. No acute fractures are identified. A dedicated chest CT is recommended for further evaluation  Portable TTE (Complete) Done    at :: PM      FINAL  The left atrium is elongated. No thrombus/mass is seen in the body of the left atrium. The right atrium is markedly dilated. No atrial septal defect is seen by D or color Doppler. The estimated right atrial pressure is at least  mmHg. Left ventricular wall thicknesses are normal. The left ventricular cavity is unusually small. Regional left ventricular wall motion is normal. Overall left ventricular systolic function is normal (LVEF>%). No masses or thrombi are seen in the left ventricle. There is no ventricular septal defect. The right ventricular free wall is hypertrophied. The right ventricular cavity is mildly dilated with normal free wall contractility. There is abnormal diastolic septal motion/position consistent with right ventricular volume overload. The ascending aorta is mildly dilated. The aortic valve leaflets () are mildly thickened but aortic stenosis is not present. No masses or vegetations are seen on the aortic valve. No aortic regurgitation is seen. The mitral valve leaflets are mildly thickened. There is no mitral valve prolapse. No mass or vegetation is seen on the mitral valve. Mild (+) mitral regurgitation is seen. The tricuspid valve leaflets are mildly thickened. Moderate + tricuspid regurgitation is seen. There is moderate pulmonary artery systolic hypertension. No vegetation/mass is seen on the pulmonic valve. Significant pulmonic regurgitation is seen. There is a trivial/physiologic pericardial effusion. There are no echocardiographic signs of tamponade  CT ABD & PELVIS WITH CONTRAST Study Date of    : AM IMPRESSION:  . Multilobulated large left hemithorax pleural empyema with foci of gas noted. Given the foci of gas the differential includes recent instrumentation versus infection with a gas forming organism versus a bronchopleural fistula.  . Multiple hypodense areas are also visualized throughout bilateral nonenlarged kidneys. These findings may be representative of multiple cysts but a superinfectious process with multiple abscesses cannot be excluded.  . Small subsegmental right upper lobe pulmonary emboli.  . There is mild gallbladder wall edema and mottled apparance of the liver are likely due to congestive hepatopathy.  . Endotracheal tube with the tip at the level of the carina. Retraction by cm is recommended.  . Bilateral small pleural effusions.   . Severe cardiomegaly.  CTA CHEST W&W/O C&RECONS, NON CORONARY Study Date of    : AM IMPRESSION:  . Multilobulated large left hemithorax pleural empyema with foci of gas noted. Given the foci of gas the differential includes recent instrumentation versus infection with a gas forming organism versus a bronchopleural fistula.   . Multiple hypodense areas are also visualized throughout bilateral nonenlarged kidneys. These findings may be representative of multiple cysts but a superinfectious process with multiple abscesses cannot be excluded.  . Small subsegmental right upper lobe pulmonary emboli.  . There is mild gallbladder wall edema and mottled apparance of the liver are likely due to congestive hepatopathy.  . Endotracheal tube with the tip at the level of the carina. Retraction by cm is recommended.  . Bilateral small pleural effusions.   . Severe cardiomegaly.  Multiple CXR performed, representative reads shown.  CHEST (PORTABLE AP) Study Date of    : AM FINDINGS: The left pigtail catheter is unchanged in position. The right IJ and ET tubes terminate in the standard position. The NG tube terminates outside the field of view. Compared to  , there are increasing bilateral pleural effusions, pulmonary vascular congestion, and parenchymal opacities suggesting developing pulmonary edema. Cardiomegaly is unchanged.  Tere is no pneumothorax.  Findings were discussed by Dr. Last Name (STitle)  with Dr. Last Name (STitle)  by phone at : a.m. on   .  CT CHEST W/O CONTRAST Study Date of    : AM IMPRESSION: Interval resolution of a dominant gas/fluid collection within the left hemithorax, and near resolution of an adjacent medial collection. There remains a loculated posterior collection that does not appear tocommunicate  with the catheter. . Adjacent severe left lower lobe atelectasis with a consolidative component. Slightly enlarged small right pleural effusion. Trace pericardial effusion. New moderate anasarca. Increased caliber of the main pulmonary artery likely reflects chronic  pulmonary hypertension. . CT Torso   IMPRESSION: . Reaccumulation of left sided localized hydropneumothorax s/p pigtail catheter removal. . Bilateral peribronchial ground glass opacity and patchy opacities which are a non specific finding. . Slight decrease in size of right pleural effusion. . Stable increased diameter of the main pulmonary artery likely due to pulmonary hypertension. . Persistent non mobile .cm filling defect within the left main bronchus which is suspicious for polyp, neoplasm or mucus plug. . CT Chest   IMPRESSION: . Mid esophageal soft tissue mass severly narrows and may invade left main bronchus. . Interval placement of a second left lower lung drain with interval decrease in size of the air and fluid collection. Persistent left lower lung consolidation is either pneumonia or atelectasis. . Markedly enlarged right atrium. . Thinning of the renal cortices with hyperdensity which could represent retained contrast or nephrocalcinosis. . ECHO   The left atrium is elongated. The right atrium is markedly dilated. No atrial septal defect is seen by D or color Doppler. The estimated right atrial pressure is   mmHg. There is mild symmetric left ventricular hypertrophy with normal cavity size and regional/global systolic function (LVEF>%). There is no ventricular septal defect. with borderline normal free wall function. There is abnormal septal motion/position consistent with right ventricular pressure/volume overload. The diameters of aorta at the sinus, ascending and arch levels are normal. The aortic valve leaflets () are mildly thickened but aortic stenosis is not present. No masses or vegetations are seen on the aortic valve. Trace aortic regurgitation is seen. The mitral valve leaflets are mildly thickened. No mass or vegetation is seen on the mitral valve. An eccentric, posteriorly directed jet of mild (+) mitral regurgitation is seen. The tricuspid valve leaflets are mildly thickened. Moderate to severe + tricuspid regurgitation is seen. There is severe pulmonary artery systolic hypertension. There is a very small pericardial effusion. The effusion is echo dense, consistent with blood, inflammation or other cellular elements. Compared with the prior study (images reviewed) of   , the degree of TR and pulmonary hypertension have increased. ..  INDICATIONS:  year old female with esophageal cancer, lung empyema and ischemic right foot.  Bilateral lower extremity ABIs, Doppler waveforms, and PVRs were performed at rest.  FINDINGS:  RIGHT: The right ABI is . at DP. There is no signal present at PT. Doppler waveforms are biphasic to the level of the popliteal artery. Posterior tibial waveform is absent. The dorsalis pedis waveform is monophasic. PVRs are artifactually diminished proximally and aphasic at the metatarsal level suggesting severe tibial disease.  The left ABI is . at DP. The PT waveform is absent. Left sided Doppler waveforms are triphasic at the popliteal level and monophasic at the dorsalis pedis. PVRs show significant dropoff between calf and ankle and again between ankle and metatarsal level suggesting severe tibial occlusive disease.  IMPRESSION: ABIs are likely falsely elevated. Based on Doppler waveforms and PVRs, there is severe tibial disease bilaterally. .  COMPARISON: CT   and   .  TECHNIQUE: MDCT data were acquired through the chest without intravenous contrast. Images were displayed in multiple planes.  FINDINGS: There are two pigtail catheters at the left lung base. A small to moderate effusion layers posteriorly. There is no large air fluid collection in communication with the anterior or posterior drain. Moderate left basilar atelectasis and/or consolidation is unchanged. A moderate right effusion is slightly larger.  No new consolidation, nodule, or pneumothorax is present. Since the prior exam, an esophageal catheter has been removed. The boundaries of a large mid esophageal mass are hard to delineate without contrast. The lesion measures approximately . x . cm (:). Since the preceding exam five days ago, the left main bronchus has become completely effaced (:) by a combination of mass effect from the thickened esophagus, and bronchial secretions. There are extensive secretions in the distal left lower lobe segmental bronchus at (:). A tracheo esophageal connection is not directly visualized but would not be suprising given the appearence.  The non contrast appearance of the heart and great vessels shows cardiomegaly, massive right atrial enlargment, and minimal aortic arch calcification. The tip of a right subclavian line terminates in the low SVC. The thyroid has normal attenuation. No mesenteric, hilar or axillary adenopathy is present. There is residual renal excretion of contrast from  . There are peripheral hyperdense foci in the visualized portions of both kidneys. Previously, the cortices of both kidneys were uniformly hyperdense.  Residual oral contrast is seen in nondistended loops of large bowel.  BONES AND SOFT TISSUES: There are no concerning lytic or sclerotic lesions. Bilateral lower old rib fractures. There is diffuse soft tissue edema.  IMPRESSION: . Large mid esophageal soft tissue mass with now complete opacification of the left main bronchus either by invasion, hemorrhage, and/or secretions. Persistent post obstructive left lower lobe consolidation and bronchial secretions. . Improving small to moderate left pleural effusion. No large collection at the site of two pigtail catheters. . Increasing moderate right effusion. . Stable right atrial enlargement.  Final Report CHEST RADIOGRAPH  INDICATION: Query pneumothorax,  year old woman with large esophageal neoplasm extending into the left mainstem.  TECHNIQUE: Portable upright chest view was read in comparison with multiple prior radiographs with the most recent from   .  FINDINGS:  Lower lung opacity due to a combination of effusion and atelectasis now involves the entire left hemithorax suggestive of an increased large left pleural effusion. Two pleural pigtail catheters in the left lower hemithorax are unchanged in position. Increase in the left pleural effusion. There has not been much change in the position of the mediastinum probably due to associated left lung volume loss. Moderate right pleural effusion and right basilar atelectasis is similar. Upper lung is clear.  IMPRESSION: Left pleural effusion has progressed over last two days. Two left pleural pigtail catheters are in unchanged position and moderate right pleural effusion and bibasilar atelectasis is unchanged.  The study and the report were reviewed by the staff radiologist.  Microbiology:    : pm URINE      Source: Catheter.                              FINAL REPORT        URINE CULTURE (Final   ):    NO GROWTH.     : pm PLEURAL FLUID      PLEURAL FLUID.     GRAM STAIN (Final   ):       +  (  per X FIELD):   POLYMORPHONUCLEAR LEUKOCYTES.       NO MICROORGANISMS SEEN.     FLUID CULTURE (Final   ):    NO GROWTH.     ANAEROBIC CULTURE (Final   ):    NO GROWTH.     FUNGAL CULTURE (Preliminary):    NO FUNGUS ISOLATED.     ACID FAST SMEAR (Final   ):       NO ACID FAST BACILLI SEEN ON DIRECT SMEAR.     ACID FAST CULTURE (Preliminary):    NO MYCOBACTERIA ISOLATED.      : pm FLUID RECEIVED IN BLOOD CULTURE BOTTLES       Site: PLEURAL                              FINAL REPORT        Fluid Culture in Bottles (Final   ):       GRAM NEGATIVE ROD(S).    REFER TO SPECIME #  A   .       STREPTOCOCCUS ANGINOSUS (MILLERI) GROUP.          SENSITIVITIES PERFORMED ON CULTURE #  A   .       GRAM POSITIVE RODS.    REFER TO SPECIMEN #  A   .     Anaerobic Bottle Gram Stain (Final   ):       GRAM NEGATIVE ROD(S).       GRAM POSITIVE COCCI IN PAIRS AND CHAINS.       GRAM POSITIVE ROD(S).       Reported to and read back by First Name (NamePattern)  Last Name (NamePattern)  ON    @  PM.     Aerobic Bottle Gram Stain (Final   ):       GRAM NEGATIVE ROD(S).       GRAM POSITIVE COCCI IN PAIRS AND CHAINS.       GRAM POSITIVE ROD(S).    : am BLOOD CULTURE      # .                              FINAL REPORT        Blood Culture, Routine (Final   ):    NO GROWTH.     :AM BLOOD WBC . RBC . Hgb . Hct . MCV  MCH . MCHC . RDW . Plt Ct     :AM BLOOD WBC . RBC . Hgb . Hct . MCV  MCH . MCHC . RDW . Plt Ct     :AM BLOOD WBC . RBC . Hgb . Hct . MCV  MCH . MCHC . RDW . Plt Ct     :PM BLOOD WBC . RBC . Hgb . Hct . MCV  MCH . MCHC . RDW . Plt Ct     :AM BLOOD WBC . RBC . Hgb . Hct . MCV  MCH . MCHC . RDW . Plt Ct     :AM BLOOD WBC . RBC . Hgb . Hct . MCV  MCH . MCHC . RDW . Plt Ct     :AM BLOOD WBC . RBC . Hgb . Hct . MCV  MCH . MCHC . RDW . Plt Ct     :AM BLOOD WBC . RBC . Hgb . Hct . MCV  MCH . MCHC . RDW . Plt Ct     :AM BLOOD WBC . RBC . Hgb . Hct . MCV  MCH . MCHC . RDW . Plt Ct     :AM BLOOD WBC . RBC . Hgb . Hct . MCV  MCH . MCHC . RDW . Plt Ct     :AM BLOOD WBC . RBC . Hgb . Hct . MCV  MCH . MCHC . RDW . Plt Ct     :AM BLOOD WBC . RBC . Hgb . Hct . MCV  MCH . MCHC . RDW . Plt Ct     :AM BLOOD WBC . RBC . Hgb . Hct . MCV  MCH . MCHC . RDW . Plt Ct     :AM BLOOD WBC . RBC . Hgb . Hct . MCV  MCH . MCHC . RDW . Plt Ct     :AM BLOOD WBC . RBC . Hgb . Hct . MCV  MCH . MCHC . RDW . Plt Ct     :AM BLOOD WBC . RBC . Hgb . Hct . MCV  MCH . MCHC . RDW . Plt Ct     :AM BLOOD WBC . RBC . Hgb . Hct . MCV  MCH . MCHC . RDW . Plt Ct     :PM BLOOD WBC . RBC . Hgb . Hct . MCV  MCH . MCHC . RDW . Plt Ct     :AM BLOOD WBC . RBC . Hgb . Hct . MCV  MCH . MCHC . RDW . Plt Ct     :PM BLOOD WBC . RBC . Hgb . Hct . MCV  MCH . MCHC . RDW . Plt Ct     :PM BLOOD WBC . RBC . Hgb . Hct . MCV  MCH . MCHC . RDW . Plt Ct     :PM BLOOD WBC . RBC . Hgb . Hct . MCV  MCH . MCHC . RDW . Plt Ct     :PM BLOOD WBC . RBC . Hgb . Hct . MCV  MCH . MCHC . RDW . Plt Ct     :AM BLOOD WBC . RBC . Hgb . Hct . MCV  MCH . MCHC . RDW . Plt Ct     :AM BLOOD WBC . RBC . Hgb . Hct . MCV  MCH . MCHC . RDW . Plt Ct     :AM BLOOD WBC . RBC . Hgb . Hct . MCV  MCH . MCHC . RDW . Plt Ct     :AM BLOOD Neuts  Bands  Lymphs  Monos  Eos  Baso  Atyps  Metas  Myelos     :AM BLOOD Neuts . Lymphs . Monos . Eos  Baso .    :AM BLOOD Neuts . Lymphs . Monos . Eos . Baso .    :AM BLOOD Neuts . Lymphs . Monos . Eos . Baso .    :AM BLOOD PT . PTT . INR(PT) .    :AM BLOOD PT . PTT . INR(PT) .    :AM BLOOD PT . PTT  INR(PT) .    :AM BLOOD PT . PTT . INR(PT) .    :PM BLOOD PT . PTT  INR(PT) .    :PM BLOOD PT . PTT  INR(PT) .    :PM BLOOD PT . PTT . INR(PT) .    :AM BLOOD Glucose  UreaN  Creat . Na  K . Cl  HCO  AnGap     :AM BLOOD Glucose  UreaN  Creat . Na  K . Cl  HCO  AnGap     :AM BLOOD Glucose  UreaN  Creat . Na  K . Cl  HCO  AnGap     :AM BLOOD Glucose  UreaN  Creat . Na  K . Cl  HCO  AnGap     :PM BLOOD Creat . Na  K . Cl  HCO  AnGap     :AM BLOOD Glucose  UreaN  Creat . Na  K . Cl  HCO  AnGap     :AM BLOOD Glucose  UreaN  Creat . Na  K . Cl  HCO  AnGap     :AM BLOOD Glucose  UreaN  Creat . Na  K . Cl  HCO  AnGap     :AM BLOOD Glucose  UreaN  Creat . Na  K . Cl  HCO  AnGap     :AM BLOOD Glucose  UreaN  Creat . Na  K . Cl  HCO  AnGap     :AM BLOOD Glucose  UreaN  Creat . Na  K . Cl  HCO  AnGap     :AM BLOOD Glucose  UreaN  Creat . Na  K . Cl  HCO  AnGap     :AM BLOOD Glucose  UreaN  Creat . Na  K . Cl  HCO  AnGap     :AM BLOOD Glucose  UreaN  Creat . Na  K . Cl  HCO  AnGap     :AM BLOOD ALT  AST  AlkPhos  TotBili .    :PM BLOOD ALT  AST  LD(LDH)  Amylase     :AM BLOOD ALT  AST  LD(LDH)  AlkPhos  TotBili .    :AM BLOOD ALT  AST  LD(LDH)  AlkPhos  TotBili .    :AM BLOOD ALT  AST  LD(LDH)  AlkPhos  TotBili .    :PM BLOOD CK MB  cTropnT .    :PM BLOOD CK MB  cTropnT .    :AM BLOOD CK MB  cTropnT .    :AM BLOOD cTropnT .    :AM BLOOD cTropnT .    :AM BLOOD Calcium . Phos . Mg .    :AM BLOOD Calcium . Phos . Mg .    :AM BLOOD Albumin .    :AM BLOOD Calcium . Phos . Mg .    :AM BLOOD Albumin . Calcium . Phos . Mg .    :PM BLOOD Calcium . Phos . Mg . UricAcd .    :PM BLOOD Hapto     :AM BLOOD Vanco .    :PM BLOOD Vanco .    :PM BLOOD Vanco .    :AM BLOOD Vanco .    :AM BLOOD Vanco .    :AM BLOOD Vanco .    :AM BLOOD Vanco .    :AM BLOOD Vanco .    :AM BLOOD Lactate . K .    :AM BLOOD Glucose  Lactate . K .    :AM BLOOD Lactate .    :AM BLOOD Lactate .    :AM BLOOD Glucose  Lactate . Na  K . Cl  calHCO     :AM BLOOD Lactate .    :PM BLOOD Lactate .    :PM BLOOD Lactate .    :AM BLOOD Lactate .    :AM BLOOD Lactate .    :PM BLOOD Lactate .    :PM BLOOD Lactate .    :PM BLOOD Lactate .    :AM BLOOD Lactate .    :AM BLOOD Lactate .    :AM BLOOD Lactate .    :AM BLOOD Lactate .    :PM BLOOD Lactate .    :AM BLOOD Lactate .    :PM PLEURAL WBC Numeric Identifier  RBC Numeric Identifier  Polys  Lymphs  Monos  Meso     :PM PLEURAL WBC  RBC  Polys  Lymphs  Monos  Baso  Meso  Other     :AM   estGFR Using this  Brief Hospital Course:  yo F with no known medical problems admitted shortness and breath cough. Hospital course was notable for admission to the ICU where she was found to have lung and renal abscesses, septic shock requiring vasopressor support, DVT and PE, and difficult to control atrial fibrillation. She was also noted to have a large esophageal mass suggestive of esophageal cancer with compression of the left main stem bronchus causing intermittent lung collapse and esophageal compression with dysphagia/aspiration. Patient had a long ICU course and transferred from the floor to the ICU multiple times. Ultimately, given the patients multiple significant and severe medical problems, age, and progressively declining course despite maximal medical care, a discussion was held with the family and the decision was to transition the patients care to comfort centered care and the patient passed away    at :AM.  #Septic shock/Lung and renal abscesses: Patient presented in septic shock from pneumonia with empyema and was found to have lung and renal abscesses. She required multiple pressors and intubation. Her lactate peaked at . CT demonstrated multiple fluid collections as well as an esophageal mass (see below) that was compressing the L mainstem bronchus that was believed to be predisposing to her polymicrobial infection. Interventional pulmonology placed two chest tubes to drain the fluid collections. Gram stain showed GPCs, GNRs and gram positive rods. Cultures only grew strep angionosis. She was initially treated with broad spectrum antibiotics but was weaned down to vancomycin and flagyl per ID recommendations for a planned course of four weeks from the date of her last chest tube placement (day one  ). She was weaned off pressors and succesfully extubated. She was treated with vanc/flagyl until she was made CMO on   .  #DVT/PE: Patient was found to have DVT on lower extremity ultrasound. CTA showed small subsegmental RLL PE. Patient was placed on heparin gtt. After her goals of care discussion anticoagulation was held on   .  #Esophageal Mass, likely esophageal cancer, with bronchial and esophageal obstruction: CT showed large  mid esophageal soft tissue mass with now complete opacification of the left main bronchus either by invasion, hemorrhage, and/or secretions. There was persistent post obstructive left lower lobe consolidation and bronchial secretions and patient did suffer collapse of her left lung. It was believed that this mass was the etiology of her polymicrobial septic shock, as well as persistent pleural effusions and left sided atelectatsis. Secondary to the obstruction of the esophagus and risks for aspiratoin, the patient was made NPO. She did transiently receive TPN, but this was discontinued when care was transitioned to comfort centered care.  #Atrial fibrillation: Unclear if patient has history of afib, but this was likely exacerbated or caused by infection/sepsis. There may also have been contribution of irritation by esophageal mass. After hypotension resolved patient was managed on the medical floor with IV betablockers but required transfer back to the ICU for rapid atrial fibrillation and low blood pressures in the s. She was subsequently rate controlled with IV amiodarone drip in the ICU and transferred back to the medical floor. After family discussion regarding overall goals of care amiodarone was eventually discontinued.  # Acute Renal failure: Creatinine . with unclear baseline. Her creatinine later increased to a peak of . which was believed to be ATN from septic shock. Her creatinine trended back down to .. On the floor  her creatinine remained at baseline.  # Anemia: She required  UPRBC in setting of elevated lactate and septic shock. Hct stabilzed in mid s.  #Goals of care discussion: Throughout hospitalization multiple family meetings/updates were held with multiple providers/teams. Palliative care was involved as were the social work and case management teams. With the patients age of > years and multiple medical problems that continued to progress despite medical care (including IV amiodarone drip, TPN, antibiotics, and IV anticoagulation), the family decided to focus on comfort centered care on   . The patient passed away on    at AM.  Medications on Admission: None   Discharge Medications: none  Discharge Disposition: Expired  Discharge Diagnosis: . Esophageal neoplasm . Septic shock . Atrial fibrillation . Deep venous thrombosis . Pulmonary Emboli . Digital necrosis of   metatsarsals . Occlusive narrowing of tibial arteries bilaterally . Pleural effusions . Pulmonary empyema   Discharge Condition: expired\n",
      "    Answer:\n",
      "    \n",
      "INFO:httpx:HTTP Request: POST https://medcode-aoai-useast.openai.azure.com//openai/deployments/gpt4o-mini-deploy/chat/completions?api-version=2024-02-01 \"HTTP/1.1 200 OK\"\n",
      "INFO:__main__:Parent Code: 0 | Found: ['01', '03', '04', '09']\n",
      "INFO:__main__:Prompt: \n",
      "    Categories = 00: Intestinal infectious diseases|01: Tuberculosis|02: Zoonotic bacterial diseases|03: Other bacterial diseases|04: Human immunodeficiency virus (HIV) infection|05: Poliomyelitis and other non-arthropod-borne viral diseases of central nervous system|06: Viral diseases accompanied by exanthem|07: Arthropod-borne viral diseases|08: Other diseases due to viruses and Chlamydiota|09: Rickettsioses and other arthropod-borne diseases\n",
      "    Note = Admission Date:                  Month/Day/Year  Date:       Date of Birth:                 Sex:   F  Service: MEDICINE  Allergies: Methotrexate  Attending:First Name (LF)  Chief Complaint: Altered mental status  Major Surgical or Invasive Procedure:    endotracheal intubation    femoral central venous catheter placement  History of Present Illness: F xfer from OSH (Hospital ) after being found down by VNA earlier today. Recent hosp admission for UTI, Klebsiella PNA completed antibiotics and discharged home. History is unclear, however Location (un)  reports that she is on the liver transplant list. History of rheumatoid arthritis and ankylosing spondylitis on Florinef. Outside hospital, patient was intubated for her unresponsiveness. Received vancomycin and Zosyn. Also noted to have a left hip dislocation that was reduced in the ER. Hypotensive, requiring norepinephrine after  L of IV fluids. Transferred for further care. PH ., CO  with a bicarbonate of  on initial ABG. At outside hospital, attempted right and left IJ resulted in subcutaneous fluid extravasation. . In the ED, initial vitals she recieved hydrocortisone  mg IV because chronically on florinef and had a right femoral CVL placed.  Also, she underwent a CT head which was negative for acute bleed and a CT torso which showed bilateral aspiration versus effusions.  Her hip had to be reduced twice, once with vecuronium. . On arrival to the MICU, she was intubated and sedated with initial vital signs /, , , % on AC (volume). . Review of systems not obtained because patient intubated.  Past Medical History: h/o Tylenol OD / and  / c/b hepatic failure VAP foot necrosis   pressors Bilateral DVT  / mm clean ulcer at prepyloric antrum seen on EGD    (H.Pylori neg) c/b GIB bleed s/p transfusion U pRBCs Psychiatric disorder (anxiety vs bipolar) chronic pain h/o domestic abuse Crohns disease anklyosing spondylitis Long term alcoholism h/o Hep A iron deficiency anemia Distal ileum resection  / CCY  R hip replacement  c/b osteomyelitis L hip replacement  also c/b osteomyelitis back/knee surgeries per past notes   Social History: Lives in apt in Location  by herself. Not currently in a relationship per case worker, though has h/o domestic violence and had been living in a domestic violence shelter last year. Is  divorced but has a positive relationship with her ex husband. Daughter is  y/o and son is  y/o. HCP is Name (NI)  Name (NI)  (HCP)   (Telephone/Fax ()    Family History: Father   colitis? (frequent stomach pain) Mother   RA, ankylosing spondylitis Grandmother   ankylosing spondylitis   Physical Exam: ADMISSION PHYSICAL EXAM: Vitals: T: ., BP: /, P: , R:  O: % on % FiO  General: intubated, sedated HEENT: Sclera anicteric, MMM, pupils fixed and non reactive Neck: subcutaneous infiltration by saline, unable to assess LAD or JVP CV: tachycardic, normal S + S, no murmurs, rubs, gallops Lungs: Clear to auscultation bilaterally, no wheezes, rales, ronchi Abdomen: soft, non tender, non distended, no organomegaly GU: foley draining yellow urine Ext: cold, thready pulses, no clubbing, cyanosis or edema.  left lower extremity with chronic ulceration  Telephone/Fax ()  PHYSICAL EXAM: Vitals: .  /      %RA General: WDWN female, no acute distress HEENT: Sclera anicteric, MMM, oropharynx clear Neck: no lymphadenopathy, no JVD CV: RRR, normal S + S, no murmurs, rubs, gallops Lungs: Clear to auscultation bilaterally, no wheezes, rales, ronchi Abdomen: soft, non tender, non distended, no organomegaly, right hip with small subcentimeter wound with minimal serous drainage  Ext: no clubbing, cyanosis or edema. left lower extremity with chronic ulceration. left hand with erythema and edema from previous PIV, pink granulation tissue (much improved since admission), left hip without swelling or erythema, tender on palpation but pt able to ambulate Skin: several macules on right leg and lower back with central clearing c/w tinea corporis Neuro: A & O x , moving all extremities   Pertinent Results: ADMISSION LABS:    :PM BLOOD WBC . RBC . Hgb . Hct . MCV  MCH . MCHC . RDW . Plt Ct     :PM BLOOD Neuts . Lymphs . Monos . Eos  Baso     :PM BLOOD PT . PTT . INR(PT) .    :PM BLOOD Glucose  UreaN  Creat . Na  K . Cl  HCO  AnGap     :PM BLOOD ALT  AST  CK(CPK) Numeric Identifier  AlkPhos  TotBili .    :PM BLOOD Lipase     :PM BLOOD cTropnT <.    :PM BLOOD Calcium . Phos . Mg .    :PM BLOOD Osmolal     :PM BLOOD ASA NEG Ethanol NEG Acetmnp NEG Bnzodzp POS Barbitr NEG Tricycl POS    :AM BLOOD Type ART Rates / Tidal V  PEEP  FiO  pO  pCO  pH . calTCO  Base XS   Intubat INTUBATED Vent CONTROLLED    :PM BLOOD Lactate .    :PM BLOOD freeCa . . ABG TREND:    :AM BLOOD Type ART Rates / Tidal V  PEEP  FiO  pO  pCO  pH . calTCO  Base XS   Intubat INTUBATED Vent CONTROLLED    :AM BLOOD Type Last Name (un)  Temp . Rates / Tidal V  PEEP  FiO  pO  pCO  pH . calTCO  Base XS   Intubat INTUBATED Vent CONTROLLED    :AM BLOOD Type ART Temp . Rates / Tidal V  PEEP  FiO  pO  pCO  pH . calTCO  Base XS    ASSIST/CON Intubat INTUBATED    :PM BLOOD Type CENTRAL VE Temp . pO  pCO  pH . calTCO  Base XS    ASSIST/CON Intubat INTUBATED Comment GREEN TOP    :AM BLOOD Type ART Temp . Tidal V  PEEP  FiO  pO  pCO  pH . calTCO  Base XS   Intubat INTUBATED . Month/Day/Year  LABS:    :PM BLOOD WBC . RBC . Hgb . Hct . MCV  MCH . MCHC . RDW . Plt Ct     :PM BLOOD PT . INR(PT) .    :PM BLOOD Glucose  UreaN  Creat . Na  K . Cl  HCO  AnGap     :AM BLOOD ALT  AST     :PM BLOOD Calcium . Phos . Mg . . URINE:    :PM URINE Color LtAmb Appear Hazy Sp Last Name (un)  .    :PM URINE Blood LG Nitrite NEG Protein  Glucose NEG Ketone  Bilirub NEG Urobiln NEG pH . Leuks TR    :PM URINE RBC  WBC  Bacteri FEW Yeast NONE Epi     :PM URINE UCG NEGATIVE    :PM URINE bnzodzp POS barbitr NEG opiates POS cocaine POS amphetm NEG mthdone NEG . MICRO:  , , ,  BLOOD CULTURES NGTD    : am SPUTUM     Site: ENDOTRACHEAL       Source: Endotracheal.     GRAM STAIN (Final   ):       > PMNs and < epithelial cells/X field.       +   (> per X FIELD):   GRAM NEGATIVE ROD(S).       +  (  per X FIELD):   GRAM POSITIVE COCCI.                                     IN PAIRS, CHAINS, AND CLUSTERS.       SMEAR REVIEWED; RESULTS CONFIRMED.     RESPIRATORY CULTURE (Preliminary):       SPARSE GROWTH Commensal Respiratory Flora.       STAPH AUREUS COAG +.    HEAVY GROWTH.       BETA STREPTOCOCCI, NOT GROUP A.    MODERATE GROWTH.  Blood Culture, Routine (Final   ):    NO GROWTH. Blood Culture, Routine (Final   ):    NO GROWTH. URINE CULTURE (Final   ): YEAST.    >, ORGANISMS/ML..  Stool Studies:    FECAL CULTURE (Final   ):    NO SALMONELLA OR SHIGELLA FOUND.    CAMPYLOBACTER CULTURE (Final   ):    NO CAMPYLOBACTER FOUND.    OVA + PARASITES (Final   ):       NO OVA AND PARASITES SEEN.    FECAL CULTURE   R/O VIBRIO (Final   ):    NO VIBRIO FOUND.    FECAL CULTURE   R/O YERSINIA (Final   ):    NO YERSINIA FOUND.    FECAL CULTURE   R/O E.COLI :H (Final   ):       NO E.COLI :H FOUND.    CLOSTRIDIUM DIFFICILE TOXIN A & B TEST (Final   ):       Feces negative for C.difficile toxin A & B by EIA.  CLOSTRIDIUM DIFFICILE TOXIN A & B TEST (Final   ):       Feces negative for C.difficile toxin A & B by EIA.    : C. difficile Toxin PCR  Negative . IMAGING:   CT C/A/P: TECHNIQUE: MDCT axial images were obtained from the chest, abdomen and pelvis with the administration of IV contrast. Multiplanar reformats were generated and reviewed. CT OF THE CHEST: Right pleural effusion with adjacent compressive atelectasis. Left base opacification likely represents collapsed left lower lobe which appears airless and filled with higher density material, possibly blood. The patient has a nasogastric tube which passes into the stomach. ETT tube appears approximately .cm above the carina. The visualized heart and pericardium are unremarkable. CT OF THE ABDOMEN AND PELVIS: The intra Month/Day ()  vasculature and intra Month/Day ()  solid organs are incompletely evaluated in the absence of IV contrast. Within this limitation, the liver, pancreas, and bilateral adrenal glands appear unremarkable. Note is made of splenomegaly. Both kidneys show no evidence of large masses. A non obstructive  mm stone is noted within the lower pole of the left kidney (B, ). Small stones are noted within the right kidney. The patient is status post cholecystectomy. Surgical sutures are noted in the RLQ, otherwise, intra Month/Day ()  loops of large and small bowel appear unremarkable. There is no free air or free fluid within the abdomen. Retroperitoneal and mesenteric lymph nodes do not meet size criteria for pathologic enlargement. The structures within the pelvis are incompletely evaluated due to the presence of streak artifact due to bilateral total hip replacements. Within this limitation, the patient is status post a Foley catheter. A right femoral vein catheter is identified. A possible rectal catheter is noted. Bilateral hip prosthesis are noted; the right femoral component appears well seated within the acetabular component; however, the left femoral component is not well seated within the left acetabular component. Decrease in vertebral body height of L vertebral body is noted with possible retropulsion of fragment into the spinal canal and indentation of the thecal sac. This is of indeterminate chronicity, but likely represents more chronic process with the presence of what looks like kyphoplasty material within L vertebral body. Intra Month/Day ()  vasculature is not well evaluated in the absence of contrast technique.  IMPRESSION: . Right pleural effusion with adjacent compressive atelectasis. Left base opacification likely represents collapsed left lower lobe which appears airless and filled with higher density material, possibly blood.  . Left lower pole renal calculus. . Incomplete evaluation of the pelvis due to streak artifact. . Left total hip arthroplasty prosthesis shows femoral component is not well seated within the acetabular component. . Loss of vertebral body height of L vertebral body with possible retropulsion of fragments into the spinal canal; this is of indeterminate chronicity, however, appears to be chronic due to presence of what appears to be kyphoplastic material. .   CT HEAD:TECHNIQUE: Contiguous axial images were obtained through the head without the administration of IV contrast. Multiplanar reformats were generated and reviewed. There is no evidence of acute fracture or traumatic dislocation. Bilateral mastoid air cells are clear. Minimal mucosal thickening is noted within bilateral maxillary sinuses. There is no evidence of acute intracranial hemorrhage, discrete masses, mass effect or shift of normally midline structures. The ventricles and sulci are normal in size and configuration. Doctor Last Name  white matter differentiation is preserved with no evidence of large acute major vascular territory infarction. IMPRESSION: No acute intracranial pathological process. ADDENDUM AT ATTENDING REVIEW: There is marked anterior rotation of the odontoid process relative to a thickened appearance of the body of C. The finding likely represents a fracture/subluxation deformity. There is resultant prominent central canal narrowing at this level. There is no prevertebral soft tissue swelling at this locale. It is possible that the finding represents a prior, healed fracture, but clearly this question must be resolved, through either obtaining prior records/imaging studies immediately, and/or subsequent spinal CT imaging. In the meantime, the patients neck needs to be stabilized. .   CT CSPINE: COMPARISON: CT head from    and portable C spine radiograph from   .  TECHNIQUE: Helical . mm axial MDCT sections were obtained from the skull base through the level of T. Sagittal and coronal reformations were obtained and reviewed.  FINDINGS: There is a large mass of new bone formation causing fusion of the C and C vertebral bodies anteriorly, with anterior subluxation of C with respect to C(b:). This results in severe encroachment on the spinal canal by the posterior arch of C. The degree of subluxation is unchanged from the prior study. There is no fracture identified. There is extensive fusion of every facet joint from C to T, comprising all the levels imaged. There is also interbody fusion involving every cervical level. There has been surgical anterior fusion at C . There is extensive fusion of the lamina and interlaminar ligaments throughout the visualized levels. In the portion of thoracic spine included in the study, there is fusion of costovertebral and costotransverse articulations. Comparison with a torso CT of    reveals similar ankylosis in the lumbar spine and sacroiliac joints. These findings indicate a spondyloarthropathy with manifestations typical of ankylosing spondylitis. Correlation with the remainder of her medical history will be helpful.  IMPRESSION: . Anterior subluxation of C on C without evidence of fracture. The anterior arch of C is fused to the odontoid process via a thick layer of bone that contributes to the subluxation. This produces severe encroachment on the spinal canal by the posterior arch of C. . There are extensive fusions of multiple spinal joints most suggestive of ankylosing spondylitis. . No evidence of acute fracture. .   PELVIS PLAIN FILM: Comparison is made to selected images from an Month/Day ()  pelvic CT scan dated   .  SINGLE PORTABLE AP PELVIC FILM WAS OBTAINED    AT : Bilateral total hip replacements are seen. The femoral and acetabular components appear to be well approximated on this single AP view. The distal end of both femoral components is not included on the image. There is no evidence of loosening of the femoral components. Hypertrophic bone is seen lateral to the right femoral component. A right femoral catheter is in place. No displaced fracture of the pelvis is appreciated. Surgical chain sutures are seen in the right lower quadrant, suggesting prior colonic surgery. A Foley catheter is in place. Several radiopaque densities are seen lateral to the left femoral component within the soft tissues which may be sutural in etiology. Clinical correlation is advised.  IMPRESSION: Bilateral total hip replacements with both appearing to be normally positioned on this single portable view. No evidence of displaced fracture of the pelvis.  Left upper extremity ultrasound   : IMPRESSION: Non occlusive thrombus within one of two paired brachial veins, which extends to the axillary vein.  Portable chest x ray   : IMPRESSION: Persistent sizable parenchymal infiltrate in left lower lobe area. No new abnormalities in this portable chest examination.   Brief Hospital Course: Ms. Known lastname  is a  year old female with a history of suicide attempts and subsequent liver disease, multiple infections including ESBL Klebsiella and osteomyelitis who takes chronic steroids for ankylosis spondylitis presented from an outside hospital intubated and requiring pressors. . ACTIVE PROBLEMS BY ISSUE: # Acute metabolic acidosis without respiratory compensation: Her pH upon admission to ICU was . with a bicarb of , later worsened to . with bicarb of .  The possible etiologies of her primary metabolic acidosis include intoxication versus sepsis.  The active Doctor Last Name /s seem to have suppressed her respiratory drive (additional respiratory acidosis) as well as causing a primary metabolic acidosis.  She was treated with IV fluids with bicarbonate as well as hyperventilation on mechanical ventilation in order to improve the acidosis and elevated pCO.  Also, the toxicology and psychiatry services were consulted to assist with identifying the cause of her ingestion.  Finally, she was started empirically on piperacillin/tazobactam with vancomycin to cover for possible aspiration pneumonia. . # Respiratory failure: She was intubated upon arrival but able to be ventilated well including a recruitment procedure to open her atelectatic lung seen on CT.  She was extubated easily and did well on room air afterwards.  As discussed above, it was thought that she aspirated while she was impaired from an unknown ingestion.  Her CT chest was consistent with some small bilateral pneumonia.  Following stabilization and extubation, induced sputum results returned positive for MRSA.  She completed a  day course of vancomycin.  She remained afebrile throughout remainder of course on the medical floor.  PICC was discontinued prior to Doctor Last Name . . # Hypotension:  Pt was hypotensive on admission to ICU.  Her hypotension is of unclear etiology.  It seems possible that she had sepsis  likely from pneumonia.  Also, she may have been down long enough to miss her home florinef dose, resulting in hypotension.  Lastly, the ingestion itself could have caused hypotension.  She was treated with IV fluids, antibiotics as above, and stress doses of steroids.  Blood pressures were stable during floor course.  She was started on captopril when she became hypertensive with subsequent good control. . # Psychologic issues:  We suspect that she had a purposeful ingestion with suicidal attempt.  Blood tox was positive for benzos and tricyclics.  Urine tox was positive for benzos, cocaine, and opiates.  However, the patient did not admit suicide ideation; she intermittently reported that she may have accidentally ingested more medications than intended. Psychiatry was consulted and they recommended a : sitter.  She was placed on section .  She was followed by psychiatry and often refused full interviewing.  She did not admit to suicide ideation but given her prior suicide attempts and depression with inability to care for herself, she was transferred to psych facility for further care.  All of her psychiatric medications were held during hospital stay.  She was started on low dose seroquel on the floor prior to transfer to help with sleep. . # Rhabdomyolysis:  Her admission Creatinine was . (baseline is < .) with phosphate > and CK of Numeric Identifier .  She was treated with IV fluids and alkalinization of the urine (with bicarb).  Her creatinine improved to baseline and her CK trended down quickly. . # Transaminitis:  She has a history of liver disease secondary to toxic ingestions.  Her AST/ALT ratio suggests EtOH damage. APAP <  at OSH.  LFTs normalized by time of Numeric Identifier . . # Odontoid fracture and Hip dislocation:  Patient originally arrived in the ED with dislocated hip which was reduced. However, while intubated she awoke and again dislocated her hip while agitated.  It has been put in a brace after a second reduction.  Her CT head showed an old odontoid fracture, confirmed with CT neck.  She was kept immobilized until cleared by ortho spine team.  For her hip, ortho recommended that she continue with posterior hip precautions.  She is weight bearing as tolerated. . # Left upper extremity DVT:  Patient failed bilateral internal jugular central lines in the outside hospital and then failed a left subclavian and left IR guided PICC here.  Imaging looks like there is some type of central obstruction, L brachiocephalic vein no flow past it on venogram.  She was eventually able to get a midline at level of axillary. Ultrasound showed left upper extremity DVT.  She was initially started on heparin gtt with coumadin.  She was then transitioned to lovenox with coumadin.  INR was therapeutic for several days between  and  by time of Numeric Identifier  on mg of warfarin daily. Pt currently is at risk of falling (due to her ankylosing spondylitis and hip dislocations) and syncope from substance abuse.  However, given that she will be transferred to an extended care facility, it was felt that benefits of anticoagulation would outweigh the risks at this time. When ready for Numeric Identifier , there should be another discussion of anticoagulation.   After rehabilitation from both physical and mental viewpoint, risks/benefits of anticoagulation should be re assessed.  In the meantime, fall precautions should be continued at psych facility . # Diarrhea: Pt had several loose BMs daily.  C.diff was negative x .  Given amount of diarrhea, she was empirically started on oral flagyl mg TID.  C.diff PCR was sent in the meantime. PCR returned negative and flagyl was discontinued.  She was started on immodium with symptomatic relief . # Tinea corporis: Pt had several macular patches on lower back and right leg with central clearing.  This was consistent with tinea corporis.  She was treated with clotrimazole cream Hospital . . # Pain control: Pt with longstanding history of narcotic use. She frequently demanded IV dilaudid for nonspecific complaints, including Hospital  pain.  Also has ankylosing spondylitis, left hip dislocation, and left hand IV infiltration of levophed from OSH that can contribute to pain. Pain consult obtained who recommended maintaining current narcotic regimen of oral dilaudid qh.  She was also given lidoderm patch and ibuprofen for pain relief. Oral dilaudid was transitioned to oral oxycodone prior to Hospital  which patient reported was more satisfactory. . # Communication: Name (NI)  Name (NI)  (HCP)   (Telephone/Fax () ; First Name (NamePattern)  Name (NI)  (son)   Telephone/Fax ()    Medications on Admission: clonazepam  mg Hospital , . mg daily tizanidine  mg qhs ranitidine  mg Hospital  trazodone  mg daily gabapentin  mg tid fentanyl patch  mcg/hr every  hours ketoconazole tramadol  mg qid macrobid  mg Hospital   Hospital  Medications: . captopril . mg Tablet Sig: . Tablet PO TID ( times a day). . lidocaine  %( mg/patch) Adhesive Patch, Medicated Sig: One () Adhesive Patch, Medicated Topical DAILY (Daily): On for  hours daily. . warfarin  mg Tablet Sig: Three () Tablet PO DAILY (Daily).  . clotrimazole  % Cream Sig: One () Appl Topical Hospital  ( times a day): Use twice daily until   . . ibuprofen  mg Tablet Sig: One () Tablet PO QH (every  hours) as needed for pain. . ondansetron  mg Tablet, Rapid Dissolve Sig: One () Tablet, Rapid Dissolve PO QH (every  hours) as needed for nausea. . oxycodone  mg Tablet Sig: Two () Tablet PO QH (every  hours). . quetiapine  mg Tablet Sig: Two () Tablet PO HS (at bedtime). . ranitidine HCl  mg Tablet Sig: One () Tablet PO BID ( times a day). . loperamide  mg Capsule Sig: One () Capsule PO TID ( times a day) as needed for diarrhea.   Month/Day/Year  Disposition: Extended Care  Facility: Hospital    Hospital  Diagnosis: Overdose Depression/ Hx of suicide attempt Pneumonia Left upper extremity DVT Hypertension Tinea corporis   Hospital  Condition: Mental Status: Clear and coherent. Level of Consciousness: Alert and interactive. Activity Status: Ambulatory   requires assistance or aid (walker or cane).   Hospital  Instructions: It was a pleasure taking care of you in the hospital.  You were admitted after being found in your home unconscious.  You were intubated and in the ICU.  You likely had an ingestion that caused you to lose consciousness.  You will be transferred to a psychiatric facility where you will continue to receive mental health care.  During your hospital stay, you were treated for pneumonia with an IV antibiotic; you finished this course.  You were also started on a blood thinner called coumadin for a blood clot found in your left arm.  You will need to have levels of this medication in your blood monitored   times weekly. After psychiatric and physical rehabilitation, the risks and benefits of blood thinners should be revisited so that we can determine how long you should stay on this medication.  Please see attached sheet for your new medications.  Followup Instructions: You will be seen by psychiatrists and physicians at your facility.    Completed by:\n",
      "    Answer:\n",
      "    \n"
     ]
    }
   ],
   "source": [
    "results = []\n",
    "slim_df['Generated'] = \"\"\n",
    "for index, row in slim_df.iterrows():\n",
    "\n",
    "    # Parse Note\n",
    "    note = ast.literal_eval(row['TEXT'])[0]\n",
    "\n",
    "    # Get Codes\n",
    "    result = flatten(get_codes_for_note(\"0\", code_tree, note))\n",
    "\n",
    "    # Add result to DF\n",
    "    slim_df.at[index, 'Generated'] = str(result)"
   ]
  },
  {
   "cell_type": "code",
   "execution_count": 72,
   "metadata": {},
   "outputs": [
    {
     "data": {
      "text/html": [
       "<div>\n",
       "<style scoped>\n",
       "    .dataframe tbody tr th:only-of-type {\n",
       "        vertical-align: middle;\n",
       "    }\n",
       "\n",
       "    .dataframe tbody tr th {\n",
       "        vertical-align: top;\n",
       "    }\n",
       "\n",
       "    .dataframe thead th {\n",
       "        text-align: right;\n",
       "    }\n",
       "</style>\n",
       "<table border=\"1\" class=\"dataframe\">\n",
       "  <thead>\n",
       "    <tr style=\"text-align: right;\">\n",
       "      <th></th>\n",
       "      <th>ICD9_CODE</th>\n",
       "      <th>L1_CODES</th>\n",
       "      <th>L2_CODES</th>\n",
       "      <th>Generated</th>\n",
       "    </tr>\n",
       "  </thead>\n",
       "  <tbody>\n",
       "    <tr>\n",
       "      <th>0</th>\n",
       "      <td>['041']</td>\n",
       "      <td>['0']</td>\n",
       "      <td>['03']</td>\n",
       "      <td>['00', '01', '03']</td>\n",
       "    </tr>\n",
       "    <tr>\n",
       "      <th>1</th>\n",
       "      <td>['038', '070']</td>\n",
       "      <td>['0']</td>\n",
       "      <td>['08', '03']</td>\n",
       "      <td>['00', '03', '04']</td>\n",
       "    </tr>\n",
       "    <tr>\n",
       "      <th>2</th>\n",
       "      <td>['041']</td>\n",
       "      <td>['0']</td>\n",
       "      <td>['03']</td>\n",
       "      <td>['01', '03', '04']</td>\n",
       "    </tr>\n",
       "    <tr>\n",
       "      <th>3</th>\n",
       "      <td>['038']</td>\n",
       "      <td>['0']</td>\n",
       "      <td>['03']</td>\n",
       "      <td>['00']</td>\n",
       "    </tr>\n",
       "    <tr>\n",
       "      <th>4</th>\n",
       "      <td>['038']</td>\n",
       "      <td>['0']</td>\n",
       "      <td>['03']</td>\n",
       "      <td>[]</td>\n",
       "    </tr>\n",
       "    <tr>\n",
       "      <th>5</th>\n",
       "      <td>['053']</td>\n",
       "      <td>['0']</td>\n",
       "      <td>['06']</td>\n",
       "      <td>['01', '00', '04', '03', '08']</td>\n",
       "    </tr>\n",
       "    <tr>\n",
       "      <th>6</th>\n",
       "      <td>['038']</td>\n",
       "      <td>['0']</td>\n",
       "      <td>['03']</td>\n",
       "      <td>['01']</td>\n",
       "    </tr>\n",
       "    <tr>\n",
       "      <th>7</th>\n",
       "      <td>['047', '038']</td>\n",
       "      <td>['0']</td>\n",
       "      <td>['03', '05']</td>\n",
       "      <td>['00']</td>\n",
       "    </tr>\n",
       "    <tr>\n",
       "      <th>8</th>\n",
       "      <td>['041', '038']</td>\n",
       "      <td>['0']</td>\n",
       "      <td>['03']</td>\n",
       "      <td>['01', '03']</td>\n",
       "    </tr>\n",
       "    <tr>\n",
       "      <th>9</th>\n",
       "      <td>['038']</td>\n",
       "      <td>['0']</td>\n",
       "      <td>['03']</td>\n",
       "      <td>['01', '03', '04', '09']</td>\n",
       "    </tr>\n",
       "  </tbody>\n",
       "</table>\n",
       "</div>"
      ],
      "text/plain": [
       "        ICD9_CODE L1_CODES      L2_CODES                       Generated\n",
       "0         ['041']    ['0']        ['03']              ['00', '01', '03']\n",
       "1  ['038', '070']    ['0']  ['08', '03']              ['00', '03', '04']\n",
       "2         ['041']    ['0']        ['03']              ['01', '03', '04']\n",
       "3         ['038']    ['0']        ['03']                          ['00']\n",
       "4         ['038']    ['0']        ['03']                              []\n",
       "5         ['053']    ['0']        ['06']  ['01', '00', '04', '03', '08']\n",
       "6         ['038']    ['0']        ['03']                          ['01']\n",
       "7  ['047', '038']    ['0']  ['03', '05']                          ['00']\n",
       "8  ['041', '038']    ['0']        ['03']                    ['01', '03']\n",
       "9         ['038']    ['0']        ['03']        ['01', '03', '04', '09']"
      ]
     },
     "metadata": {},
     "output_type": "display_data"
    }
   ],
   "source": [
    "display(slim_df[['ICD9_CODE','L1_CODES','L2_CODES', 'Generated']].head(10))"
   ]
  },
  {
   "cell_type": "markdown",
   "metadata": {},
   "source": [
    "### Score Results"
   ]
  },
  {
   "cell_type": "code",
   "execution_count": 74,
   "metadata": {},
   "outputs": [],
   "source": [
    "# SCoring Functions\n",
    "\n",
    "def format_icd9(x):\n",
    "    new_codes = []\n",
    "    code_list = ast.literal_eval(x)\n",
    "    for code in code_list:\n",
    "        new_codes.append(f\"{code:0>3}\".format(num=\"1\"))\n",
    "\n",
    "    return str(new_codes)\n",
    "\n",
    "def recall_score(truth, generated):\n",
    "    actual_list = ast.literal_eval(truth)\n",
    "    generated_list = ast.literal_eval(generated)\n",
    "\n",
    "    similar = len(set(actual_list) & set(generated_list))\n",
    "\n",
    "    return similar / len(actual_list)\n",
    "\n",
    "def precision_score(truth, generated):\n",
    "    actual_list = ast.literal_eval(truth)\n",
    "    generated_list = ast.literal_eval(generated)\n",
    "\n",
    "    if len(generated_list) == 0:\n",
    "        return 0\n",
    "\n",
    "    similar = len(set(actual_list) & set(generated_list))\n",
    "\n",
    "    return similar / len(generated_list)\n",
    "\n",
    "def f1_score(truth, generated):\n",
    "    precision = precision_score(truth, generated)\n",
    "    recall = recall_score(truth, generated)\n",
    "\n",
    "    if precision + recall == 0:\n",
    "        return 0\n",
    "    else:\n",
    "        return 2 * (precision * recall) / (precision + recall)"
   ]
  },
  {
   "cell_type": "markdown",
   "metadata": {},
   "source": [
    "#### Grade L2 Output"
   ]
  },
  {
   "cell_type": "code",
   "execution_count": 85,
   "metadata": {},
   "outputs": [
    {
     "data": {
      "text/plain": [
       "Recall       45.000000\n",
       "Precision    17.500000\n",
       "F1 Score     24.666667\n",
       "dtype: float64"
      ]
     },
     "metadata": {},
     "output_type": "display_data"
    }
   ],
   "source": [
    "results = pd.DataFrame()\n",
    "\n",
    "results['ICD9_CODE'] = slim_df['ICD9_CODE'].apply(format_icd9)\n",
    "results['Recall'] = slim_df.apply(lambda x: recall_score(x['L2_CODES'], x['Generated']), axis=1)\n",
    "results['Precision'] = slim_df.apply(lambda x: precision_score(x['L2_CODES'], x['Generated']), axis=1)\n",
    "results['F1 Score'] = slim_df.apply(lambda x: f1_score(x['L2_CODES'], x['Generated']), axis=1)\n",
    "display(results[['Recall', 'Precision', 'F1 Score']].mean(axis=0)*100)"
   ]
  },
  {
   "cell_type": "markdown",
   "metadata": {},
   "source": [
    "#### Grade Final Output"
   ]
  },
  {
   "cell_type": "code",
   "execution_count": 78,
   "metadata": {},
   "outputs": [],
   "source": [
    "results = pd.DataFrame()\n",
    "results = slim_df.copy().dropna()\n",
    "\n",
    "results['ICD9_CODE'] = slim_df['ICD9_CODE'].apply(format_icd9)\n",
    "results['Recall'] = slim_df.apply(lambda x: recall_score(x['ICD9_CODE'], x['Generated']), axis=1)\n",
    "results['Precision'] = slim_df.apply(lambda x: precision_score(x['ICD9_CODE'], x['Generated']), axis=1)\n",
    "results['F1 Score'] = slim_df.apply(lambda x: f1_score(x['ICD9_CODE'], x['Generated']), axis=1)"
   ]
  },
  {
   "cell_type": "markdown",
   "metadata": {},
   "source": [
    "#### Results Summary"
   ]
  },
  {
   "cell_type": "code",
   "execution_count": null,
   "metadata": {},
   "outputs": [],
   "source": [
    "print(f\"Recall = {round(results['Recall'].mean(),2)}\")\n",
    "print(f\"Precision = {round(results['Precision'].mean(),2)}\")"
   ]
  },
  {
   "cell_type": "code",
   "execution_count": null,
   "metadata": {},
   "outputs": [],
   "source": []
  }
 ],
 "metadata": {
  "kernelspec": {
   "display_name": "med_code",
   "language": "python",
   "name": "python3"
  },
  "language_info": {
   "codemirror_mode": {
    "name": "ipython",
    "version": 3
   },
   "file_extension": ".py",
   "mimetype": "text/x-python",
   "name": "python",
   "nbconvert_exporter": "python",
   "pygments_lexer": "ipython3",
   "version": "3.9.19"
  }
 },
 "nbformat": 4,
 "nbformat_minor": 2
}
